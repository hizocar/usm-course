{
 "cells": [
  {
   "cell_type": "markdown",
   "metadata": {},
   "source": [
    "\n",
    "# Hypothesis Testing \n"
   ]
  },
  {
   "cell_type": "markdown",
   "metadata": {
    "id": "na3XXQqwxk4n"
   },
   "source": [
    "## **Concepts Covered:**\n",
    "\n",
    "- <a href = #link1>Hypothesis Test for Population Mean $\\mu$</a>\n",
    "- <a href = #link2>One-tailed and Two-tailed Tests</a>\n",
    "- <a href = #link3>Hypothesis Testing via the Confidence Interval (CI) Approach</a>\n",
    "- <a href = #link4>Simulation: Confidence Interval Coverage </a>\n",
    "- <a href = #link5>How to Choose the Significance Level </a>\n",
    "\n"
   ]
  },
  {
   "cell_type": "markdown",
   "metadata": {
    "id": "_KSMs5wPMUJv"
   },
   "source": [
    "\n",
    "### Preliminary:  Command to install the latest version Scipy in the system\n"
   ]
  },
  {
   "cell_type": "code",
   "execution_count": null,
   "metadata": {
    "colab": {
     "base_uri": "https://localhost:8080/",
     "height": 36
    },
    "executionInfo": {
     "elapsed": 4,
     "status": "ok",
     "timestamp": 1696684237149,
     "user": {
      "displayName": "Fernando Diaz",
      "userId": "16819680563727310863"
     },
     "user_tz": 180
    },
    "id": "n_feYu-DMUJx",
    "outputId": "b5d20218-2957-4b9d-fc14-685c30c66981"
   },
   "outputs": [
    {
     "data": {
      "text/plain": [
       "'1.12.0'"
      ]
     },
     "execution_count": 2,
     "metadata": {},
     "output_type": "execute_result"
    }
   ],
   "source": [
    "#!pip install scipy==1.6.1\n",
    "import scipy\n",
    "scipy.__version__"
   ]
  },
  {
   "cell_type": "markdown",
   "metadata": {
    "id": "PAAk_GuqMUJx"
   },
   "source": [
    "### Import the required packages"
   ]
  },
  {
   "cell_type": "code",
   "execution_count": 3,
   "metadata": {
    "executionInfo": {
     "elapsed": 5842,
     "status": "ok",
     "timestamp": 1696684249812,
     "user": {
      "displayName": "Fernando Diaz",
      "userId": "16819680563727310863"
     },
     "user_tz": 180
    },
    "id": "n1269wHJF96t"
   },
   "outputs": [],
   "source": [
    "# import the important packages\n",
    "import pandas as pd  # library used for data manipulation and analysis\n",
    "import numpy as np  # library used for working with arrays\n",
    "import matplotlib.pyplot as plt  # library for plots and visualizations\n",
    "import seaborn as sns  # library for visualizations\n",
    "\n",
    "%matplotlib inline\n",
    "\n",
    "import scipy.stats as stats  # this library contains a large number of probability distributions as well as a growing library of statistical functions"
   ]
  },
  {
   "cell_type": "markdown",
   "metadata": {},
   "source": [
    "## 🧪 Hypothesis Testing\n",
    "\n",
    "**Hypothesis testing** is a statistical method used to make decisions or inferences about a population parameter based on sample data. It provides a formal framework to test whether there is enough evidence in the data to support a specific claim.\n",
    "\n",
    "---\n",
    "\n",
    "### 🔑 Key Concepts\n",
    "\n",
    "1. **Null Hypothesis ($H_0$):**  \n",
    "   The default assumption — usually states that there is *no effect* or *no difference*.  \n",
    "   Example: $H_0 : \\mu = 100$\n",
    "\n",
    "2. **Alternative Hypothesis ($H_1$ or $H_a$):**  \n",
    "   Represents what we want to test for — states that there *is an effect* or *a difference*.  \n",
    "   Example: $H_a : \\mu \\neq 100$\n",
    "\n",
    "3. **Test Statistic:**  \n",
    "   A standardized value computed from the sample data that is used to decide whether to reject $H_0$.  \n",
    "   Example: $z$-score or $t$-score.\n",
    "\n",
    "4. **Significance Level ($\\alpha$):**  \n",
    "   The probability of rejecting $H_0$ when it is actually true (Type I error).  \n",
    "   Common choices: $\\alpha = 0.05$ or $0.01$.\n",
    "\n",
    "5. **p-value:**  \n",
    "   The probability of observing a test statistic as extreme as (or more extreme than) the one calculated from the sample, assuming $H_0$ is true.  \n",
    "   - If $p \\leq \\alpha$ → Reject $H_0$  \n",
    "   - If $p > \\alpha$ → Fail to reject $H_0$\n",
    "\n",
    "6. **Decision Rule:**  \n",
    "   Based on comparing the test statistic with a critical value or the p-value with $\\alpha$.\n",
    "\n",
    "---\n",
    "\n",
    "### 📝 Steps in Hypothesis Testing\n",
    "\n",
    "1. State $H_0$ and $H_a$.  \n",
    "2. Choose a significance level $\\alpha$.  \n",
    "3. Collect data and compute the test statistic.  \n",
    "4. Calculate the p-value (or critical region).  \n",
    "5. Make a decision: Reject or fail to reject $H_0$.  \n",
    "6. Interpret the results in context.\n",
    "\n",
    "---\n",
    "\n",
    "👉 Hypothesis testing is widely used in **machine learning** (e.g., feature significance in regression), **A/B testing**, and **scientific research**.\n"
   ]
  },
  {
   "cell_type": "markdown",
   "metadata": {},
   "source": [
    "### 🅰️🆎 A/B Testing\n",
    "\n",
    "**A/B testing** is a statistical experiment that compares two versions of a product, feature, or process — **Group A (control)** and **Group B (treatment)** — to determine which performs better on a chosen metric (e.g., conversion rate, click-through rate). Users are randomly assigned to each group, and a **hypothesis test** is performed with $H_0: p_A = p_B$ versus $H_a: p_A \\neq p_B$. If the observed difference is statistically significant (p-value $\\leq \\alpha$), we conclude that one version outperforms the other, making A/B testing a powerful tool for **data-driven decision making** in business, marketing, and machine learning.\n",
    "\n",
    "✅ — **A/B testing** is widely used in marketing to identify which version of a campaign, message, or design is more effective. For example, marketers may test two different **email subject lines**, **website landing pages**, or **advertisement designs** by randomly assigning users to **Group A (control)** and **Group B (treatment)**. The outcome metric could be **open rate**, **click-through rate**, or **conversion rate**. By applying hypothesis testing to the results, marketers can determine whether observed differences are statistically significant, allowing them to make **evidence-based decisions** and optimize their strategies.\n",
    "\n"
   ]
  },
  {
   "cell_type": "markdown",
   "metadata": {
    "id": "HHhcxblrCPQs"
   },
   "source": [
    "## 🔢 1. Hypothesis Test for Population Mean\n",
    "\n",
    "A **hypothesis test for a population mean** is used when we want to determine if the average value of a population is equal to, greater than, or less than some hypothesized value.\n",
    "\n",
    "---\n",
    "\n",
    "### 🔍 Step 1: Define Hypotheses\n",
    "- **Null hypothesis ($H_0$):** The population mean equals a specific value.  \n",
    "  $$\n",
    "  H_0 : \\mu = \\mu_0\n",
    "  $$\n",
    "- **Alternative hypothesis ($H_a$):** The population mean differs from the hypothesized value.  \n",
    "  - Two-tailed: $$H_a : \\mu \\neq \\mu_0$$  \n",
    "  - Left-tailed: $$H_a : \\mu < \\mu_0$$  \n",
    "  - Right-tailed: $$H_a : \\mu > \\mu_0$$  \n",
    "\n",
    "---\n",
    "\n",
    "### 🔍 Step 2: Test Statistic\n",
    "If the population standard deviation $\\sigma$ is known, we use a **z-test**:\n",
    "\n",
    "$$\n",
    "z = \\frac{\\bar{x} - \\mu_0}{\\sigma / \\sqrt{n}}\n",
    "$$\n",
    "\n",
    "If $\\sigma$ is unknown (common in practice), we use a **t-test** with sample standard deviation $s$:\n",
    "\n",
    "$$\n",
    "t = \\frac{\\bar{x} - \\mu_0}{s / \\sqrt{n}}\n",
    "$$\n",
    "\n",
    "---\n",
    "\n",
    "### 🔍 Step 3: Decision Rule\n",
    "- Compute the **p-value** associated with the test statistic.  \n",
    "- Compare with the significance level $\\alpha$:  \n",
    "  - If $p \\leq \\alpha$, reject $H_0$.  \n",
    "  - If $p > \\alpha$, fail to reject $H_0$.\n",
    "\n",
    "---\n",
    "### 📐 Computing the Sample Standard Deviation ($s$)\n",
    "\n",
    "When the population standard deviation ($\\sigma$) is **unknown**, we estimate it with the **sample standard deviation** ($s$), which measures the spread of the sample data around the sample mean.\n",
    "\n",
    "---\n",
    "\n",
    "### 🔍 Formula\n",
    "For a sample of size $n$ with observations $x_1, x_2, \\dots, x_n$ and sample mean $\\bar{x}$:\n",
    "\n",
    "$$\n",
    "s = \\sqrt{\\frac{\\sum_{i=1}^n (x_i - \\bar{x})^2}{n-1}}\n",
    "$$\n",
    "\n",
    "---\n",
    "\n",
    "### 🔑 Key Points\n",
    "- The denominator uses **$n-1$** instead of $n$ (this is called **Bessel’s correction**) to make $s$ an **unbiased estimator** of the population standard deviation $\\sigma$.  \n",
    "- $s$ represents the **average distance** of sample data points from the mean.  \n",
    "- Once $s$ is computed, it is used in the **t-test** formula for hypothesis testing when $\\sigma$ is not known.\n",
    "\n",
    "---\n",
    "\n",
    "👉 In short, $s$ is calculated as the **square root of the sample variance**.\n",
    "\n",
    "\n"
   ]
  },
  {
   "cell_type": "markdown",
   "metadata": {
    "id": "imkkvBHLCr1p"
   },
   "source": [
    "### 🧪 One-Sample Z-Test (When Population Standard Deviation is Known)\n",
    "\n",
    "A **one-sample Z-test** is used to test a hypothesis about a population mean when the **population standard deviation** ($\\sigma$) is known. Although this situation is uncommon in practice, it is useful for illustrating the logic of hypothesis testing.\n",
    "\n",
    "---\n",
    "\n",
    "\n",
    "\n",
    "👉 While knowing $\\sigma$ is rare, the one-sample Z-test is conceptually important because it forms the foundation for more general tests like the **t-test**.\n"
   ]
  },
  {
   "cell_type": "markdown",
   "metadata": {
    "id": "JFYmMSXAD5r8"
   },
   "source": [
    "----\n",
    "\n",
    "### 🧪 Example: Mean Delivery Time (Right-Tailed)\n",
    "\n",
    "It is known from experience that for a certain E-commerce company the mean delivery time of the products is 5 days with a standard deviation of 1.3 days.\n",
    "\n",
    "The new customer service manager of the company is afraid that the company is slipping and collects a random sample of 45 orders. The mean delivery time of these samples comes out to be 5.25 days.\n",
    "\n",
    "Is there enough statistical evidence for the manager’s apprehension that the mean delivery time of products is greater than 5 days?\n",
    "\n",
    "Use level of significance $\\alpha$ = 0.05.\n",
    "\n",
    "----"
   ]
  },
  {
   "cell_type": "markdown",
   "metadata": {
    "id": "f5_ECLi6YZA2"
   },
   "source": [
    "### Let's write the null hypothesis and alternate hypothesis"
   ]
  },
  {
   "cell_type": "markdown",
   "metadata": {
    "id": "UjzLRZUjSLig"
   },
   "source": [
    "Let $\\mu$ be the mean delivery time of the products.\n",
    "\n",
    "The manager will test the null hypothesis\n",
    "\n",
    ">$H_0: \\mu = 5$\n",
    "\n",
    "against the alternate hypothesis\n",
    "\n",
    "> $H_a: \\mu > 5$"
   ]
  },
  {
   "cell_type": "markdown",
   "metadata": {
    "id": "Za3CtsidYe2a"
   },
   "source": [
    "### Are the assumptions of the Z-test satisfied?"
   ]
  },
  {
   "cell_type": "markdown",
   "metadata": {
    "id": "uZEqFhp8V99Y"
   },
   "source": [
    "### ✅ Conditions for Using a One-Sample Z-Test\n",
    "\n",
    "- **Approximate normality of $\\bar{X}$:** The sample size is $n=45>30$, so by the **Central Limit Theorem** the sampling distribution of the mean is approximately normal even if the population is not strictly normal. (With smaller $n$, a Z-test would still be valid if the population were known to be normal.)\n",
    "- **Simple random sample:** The observations come from a **simple random sample**, as stated.\n",
    "- **Known standard deviation:** The population standard deviation is known, $\\sigma=1.3$.\n",
    "\n",
    "**Conclusion:** All three conditions are satisfied, so a **one-sample Z-test** is appropriate for testing $H_0:\\ \\mu=5$ against $H_a:\\ \\mu>5$ at the chosen $\\alpha=0.05$.\n"
   ]
  },
  {
   "cell_type": "markdown",
   "metadata": {
    "id": "vI7uRPYSZDAv"
   },
   "source": [
    "### The next step is to find the Z test statistic"
   ]
  },
  {
   "cell_type": "code",
   "execution_count": 5,
   "metadata": {
    "colab": {
     "base_uri": "https://localhost:8080/"
    },
    "executionInfo": {
     "elapsed": 522,
     "status": "ok",
     "timestamp": 1696687497794,
     "user": {
      "displayName": "Fernando Diaz",
      "userId": "16819680563727310863"
     },
     "user_tz": 180
    },
    "id": "g03yfFvoV08J",
    "outputId": "5d28a63f-eaa5-45dc-a9c8-7028c29bcffb"
   },
   "outputs": [
    {
     "data": {
      "text/plain": [
       "1.2900392177883402"
      ]
     },
     "execution_count": 5,
     "metadata": {},
     "output_type": "execute_result"
    }
   ],
   "source": [
    "# set the values of population mean and population standard deviation to 5 and 1.3 respectively\n",
    "mu, sigma = 5, 1.3\n",
    "\n",
    "# set the value of sample mean to 5.25\n",
    "x_bar = 5.25\n",
    "\n",
    "# calculate the test statistic\n",
    "test_stat = (x_bar - mu) / (sigma/np.sqrt(45))\n",
    "test_stat"
   ]
  },
  {
   "cell_type": "markdown",
   "metadata": {
    "id": "ddz-nxAuaQl1"
   },
   "source": [
    "#### The Z test statistic follows a standard normal distribution.\n",
    "\n",
    "Let's plot the distribution of the Z test statistic and see where the computed test statistic lies in the plot."
   ]
  },
  {
   "cell_type": "code",
   "execution_count": 7,
   "metadata": {
    "colab": {
     "base_uri": "https://localhost:8080/",
     "height": 430
    },
    "executionInfo": {
     "elapsed": 337,
     "status": "ok",
     "timestamp": 1696688258801,
     "user": {
      "displayName": "Fernando Diaz",
      "userId": "16819680563727310863"
     },
     "user_tz": 180
    },
    "id": "mKW-GHiZa6DE",
    "outputId": "00f9a3d7-95ad-471b-8937-61653cfb063e"
   },
   "outputs": [
    {
     "data": {
      "image/png": "[encoded data removed]",
      "text/plain": [
       "<Figure size 640x480 with 1 Axes>"
      ]
     },
     "metadata": {},
     "output_type": "display_data"
    }
   ],
   "source": [
    "# import the required function\n",
    "from scipy.stats import norm\n",
    "\n",
    "# plotting the distribution of Z test statistic along with the test statistic\n",
    "# we are plotting the distributions here to better visualize the calculations\n",
    "x = np.linspace(-4, 4, 100)\n",
    "plt.plot(x, norm.pdf(x, 0, 1))\n",
    "plt.axvline(x = test_stat, c = 'r')\n",
    "plt.show()"
   ]
  },
  {
   "cell_type": "markdown",
   "metadata": {
    "id": "2RoCBWfad8yi"
   },
   "source": [
    "What is the probability of getting the calculated value of test statistic or bigger in the above distribution?"
   ]
  },
  {
   "cell_type": "code",
   "execution_count": 8,
   "metadata": {
    "colab": {
     "base_uri": "https://localhost:8080/"
    },
    "executionInfo": {
     "elapsed": 297,
     "status": "ok",
     "timestamp": 1696688263117,
     "user": {
      "displayName": "Fernando Diaz",
      "userId": "16819680563727310863"
     },
     "user_tz": 180
    },
    "id": "P-sbsv2ued1d",
    "outputId": "a75c41fa-f434-4618-8ca1-4e439037cbba"
   },
   "outputs": [
    {
     "data": {
      "text/plain": [
       "0.09851852092578695"
      ]
     },
     "execution_count": 8,
     "metadata": {},
     "output_type": "execute_result"
    }
   ],
   "source": [
    "1 - norm.cdf(test_stat)"
   ]
  },
  {
   "cell_type": "markdown",
   "metadata": {
    "id": "0b-uXxQZNS4e"
   },
   "source": [
    "**Though the probability is very small, is it significant enough to reject the null hypothesis in favor of the alternate hypothesis?**"
   ]
  },
  {
   "cell_type": "markdown",
   "metadata": {
    "id": "xqqUout3gNK8"
   },
   "source": [
    "### 🎯 Introduction to Rejection Region / p-value\n",
    "\n",
    "When performing hypothesis testing, calculating the **test statistic** alone is not enough to decide whether to reject the null hypothesis. We need a decision rule to determine if the observed evidence is statistically significant. Two common approaches are used:\n",
    "\n",
    "---\n",
    "\n",
    "### 1️⃣ Rejection Region Approach\n",
    "- Define a **critical value** based on the chosen significance level $\\alpha$ (e.g., $z_{0.05}=1.645$ for a one-tailed test at $\\alpha=0.05$).  \n",
    "- If the test statistic falls in the **rejection region** (beyond the critical value), we reject $H_0$.  \n",
    "- Otherwise, we fail to reject $H_0$.\n",
    "\n",
    "---\n",
    "\n",
    "### 2️⃣ p-value Approach\n",
    "- The **p-value** is the probability of obtaining a test statistic as extreme as (or more extreme than) the observed value, assuming $H_0$ is true.  \n",
    "- Decision rule:  \n",
    "  - If $p \\leq \\alpha$, reject $H_0$.  \n",
    "  - If $p > \\alpha$, fail to reject $H_0$.\n",
    "\n",
    "---\n",
    "\n",
    "👉 Both approaches lead to the **same decision** — the rejection region approach uses critical values, while the p-value approach uses probabilities. The p-value method is more widely used in practice because it provides a direct measure of the strength of evidence against $H_0$.\n"
   ]
  },
  {
   "cell_type": "markdown",
   "metadata": {},
   "source": [
    "### 🚫 Rejection Region Approach\n",
    "\n",
    "In hypothesis testing, the **rejection region** defines the set of values of the test statistic for which we reject the null hypothesis $H_0$.\n",
    "\n",
    "---\n",
    "\n",
    "### 🔍 Key Idea\n",
    "In our example, the **Z test statistic** follows a **standard normal distribution**. Values of $Z$ lying at the far **right end** of the distribution provide strong evidence against $H_0$ because the alternative hypothesis is one-tailed ($H_a: \\mu > 5$).\n",
    "\n",
    "---\n",
    "\n",
    "### 📌 Critical Value\n",
    "To determine the rejection region, we find the **critical value** $z_{\\alpha}$ such that the area under the standard normal curve **to the right** of $z_{\\alpha}$ equals the significance level $\\alpha$:\n",
    "\n",
    "$$\n",
    "P(Z > z_{\\alpha}) = \\alpha\n",
    "$$\n",
    "\n",
    "Thus, the **rejection region** is:\n",
    "\n",
    "$$\n",
    "Z > z_{\\alpha}\n",
    "$$\n",
    "\n",
    "---\n",
    "\n",
    "### ✅ Example\n",
    "For $\\alpha = 0.05$ in a right-tailed test:\n",
    "\n",
    "$$\n",
    "z_{0.05} = 1.645\n",
    "$$\n",
    "\n",
    "So we reject $H_0$ if:\n",
    "\n",
    "$$\n",
    "Z > 1.645\n",
    "$$\n",
    "\n",
    "This means that only test statistics far enough in the right tail (beyond 1.645) provide sufficient evidence to reject the null hypothesis.\n"
   ]
  },
  {
   "cell_type": "code",
   "execution_count": 9,
   "metadata": {
    "colab": {
     "base_uri": "https://localhost:8080/"
    },
    "executionInfo": {
     "elapsed": 269,
     "status": "ok",
     "timestamp": 1696688394936,
     "user": {
      "displayName": "Fernando Diaz",
      "userId": "16819680563727310863"
     },
     "user_tz": 180
    },
    "id": "o_ITvMpZXLyI",
    "outputId": "d9d80132-159c-40e2-c8f7-05c12f70574b"
   },
   "outputs": [
    {
     "data": {
      "text/plain": [
       "1.6448536269514722"
      ]
     },
     "execution_count": 9,
     "metadata": {},
     "output_type": "execute_result"
    }
   ],
   "source": [
    "# import the required function\n",
    "from scipy.stats import norm\n",
    "\n",
    "# find the critical value\n",
    "critical_val = norm.ppf(1-.05)\n",
    "critical_val"
   ]
  },
  {
   "cell_type": "markdown",
   "metadata": {
    "id": "pj41yWnjYKZl"
   },
   "source": [
    "The critical value separates the region where we will reject the null hypothesis from the region where we won't reject the null hypothesis. See the below plot."
   ]
  },
  {
   "cell_type": "code",
   "execution_count": 10,
   "metadata": {
    "colab": {
     "base_uri": "https://localhost:8080/",
     "height": 430
    },
    "executionInfo": {
     "elapsed": 682,
     "status": "ok",
     "timestamp": 1696688515491,
     "user": {
      "displayName": "Fernando Diaz",
      "userId": "16819680563727310863"
     },
     "user_tz": 180
    },
    "id": "3PUG_qdLYr64",
    "outputId": "8fe7e491-1c64-4771-af8b-967ebe89960e"
   },
   "outputs": [
    {
     "data": {
      "image/png": "[encoded data removed]",
      "text/plain": [
       "<Figure size 640x480 with 1 Axes>"
      ]
     },
     "metadata": {},
     "output_type": "display_data"
    }
   ],
   "source": [
    "# plotting the test statistic distribution and indicating the rejection and acceptance region\n",
    "# we are plotting the distributions here to better visualize the calculations\n",
    "x = np.linspace(-4, 4, 100)\n",
    "plt.plot(x, norm.pdf(x, 0, 1))\n",
    "plt.axvline(x = critical_val, c = 'r')\n",
    "x1 = np.linspace(critical_val, 4, 50)\n",
    "plt.fill_between(x1, norm.pdf(x1, 0, 1), color='r')\n",
    "plt.annotate('Reject Null', (2, 0.20))\n",
    "plt.annotate('  Do Not Reject\\n        Null', (-1, 0.20))\n",
    "plt.show()"
   ]
  },
  {
   "cell_type": "markdown",
   "metadata": {
    "id": "mhRuynC6bRcV"
   },
   "source": [
    "### Insight\n",
    "\n",
    "As our test statistic (~ 1.29) does not lie in the rejection region, we can not reject the null hypothesis. Thus, we do not have enough statistical evidence to say that the mean delivery time of a product is greater than 5 days."
   ]
  },
  {
   "cell_type": "markdown",
   "metadata": {},
   "source": [
    "### 📊 p-value Approach\n",
    "\n",
    "While the rejection region approach provides a clear decision, it does not indicate the **strength of the evidence** against the null hypothesis. For this reason, statisticians often prefer the **p-value approach**, which quantifies how strongly the sample data contradicts $H_0$.\n",
    "\n",
    "---\n",
    "\n",
    "### 🔑 Steps in the p-value Approach\n",
    "1. **Choose the significance level** ($\\alpha$).  \n",
    "2. **Compute the p-value**, which is the probability of obtaining the observed test statistic (or one more extreme) under $H_0$.  \n",
    "3. **Decision rule:**  \n",
    "   - If $p \\leq \\alpha$, reject $H_0$.  \n",
    "   - If $p > \\alpha$, fail to reject $H_0$.\n",
    "\n",
    "---\n",
    "\n",
    "### 🔍 Interpretation\n",
    "- The **p-value** is a probability that directly measures the evidence against $H_0$.  \n",
    "- A **smaller p-value** indicates **stronger evidence** against $H_0$.  \n",
    "\n",
    "---\n",
    "\n",
    "### 📌 Example Context\n",
    "In the delivery time example, the p-value corresponds to the **area to the right of the calculated test statistic** under the **standard normal distribution**, since the alternative hypothesis is right-tailed ($H_a : \\mu > 5$).\n"
   ]
  },
  {
   "cell_type": "code",
   "execution_count": 11,
   "metadata": {
    "colab": {
     "base_uri": "https://localhost:8080/",
     "height": 430
    },
    "executionInfo": {
     "elapsed": 738,
     "status": "ok",
     "timestamp": 1696688524936,
     "user": {
      "displayName": "Fernando Diaz",
      "userId": "16819680563727310863"
     },
     "user_tz": 180
    },
    "id": "au3_jODY1cYb",
    "outputId": "ede96a56-bb27-4381-f5d5-dca8c2bcc4bd"
   },
   "outputs": [
    {
     "data": {
      "image/png": "[encoded data removed]",
      "text/plain": [
       "<Figure size 640x480 with 1 Axes>"
      ]
     },
     "metadata": {},
     "output_type": "display_data"
    }
   ],
   "source": [
    "# plotting the test statistic distribution along with computed test statistic\n",
    "# we are plotting the distributions here to better visualize the calculations\n",
    "x = np.linspace(-4, 4, 100)\n",
    "plt.plot(x, norm.pdf(x, 0, 1))\n",
    "plt.axvline(x = test_stat, c = 'r')\n",
    "x1 = np.linspace(test_stat, 4, 50)\n",
    "plt.fill_between(x1, norm.pdf(x1, 0, 1), color='r')\n",
    "plt.show()"
   ]
  },
  {
   "cell_type": "code",
   "execution_count": 12,
   "metadata": {
    "colab": {
     "base_uri": "https://localhost:8080/"
    },
    "executionInfo": {
     "elapsed": 261,
     "status": "ok",
     "timestamp": 1696688533430,
     "user": {
      "displayName": "Fernando Diaz",
      "userId": "16819680563727310863"
     },
     "user_tz": 180
    },
    "id": "Z6-VOxQqfOBF",
    "outputId": "b8785573-f608-4b6a-dda7-8ddbbaffc0db"
   },
   "outputs": [
    {
     "data": {
      "text/plain": [
       "0.09851852092578695"
      ]
     },
     "execution_count": 12,
     "metadata": {},
     "output_type": "execute_result"
    }
   ],
   "source": [
    "# calculate the p-value\n",
    "1 - norm.cdf(test_stat)"
   ]
  },
  {
   "cell_type": "markdown",
   "metadata": {
    "id": "3QCb1bK6gUTA"
   },
   "source": [
    "### Insight\n",
    "\n",
    "As the p-value ~0.098 is greater than the level of significance, we can not reject the null hypothesis. Thus, we do not have enough statistical evidence to say that the mean delivery time of a product is greater than 5 days."
   ]
  },
  {
   "cell_type": "markdown",
   "metadata": {
    "id": "noTA34C4hkyx"
   },
   "source": [
    "### Key Takeaway\n",
    "\n",
    "* We get the same result by using both the Rejection Region and p-value approach that the manager does not have enough statistical evidence to say that the mean delivery time of a product is greater than 5 days."
   ]
  },
  {
   "cell_type": "markdown",
   "metadata": {
    "id": "POB5EwDV5vAS"
   },
   "source": [
    "## 🎯 2. One-Tailed and Two-Tailed Tests\n",
    "\n",
    "In hypothesis testing, the choice between a **one-tailed** or **two-tailed** test depends on the form of the **alternative hypothesis ($H_a$)**.\n",
    "\n",
    "---\n",
    "\n",
    "### 1️⃣ One-Tailed Test\n",
    "- Used when we are testing for a difference in **only one direction**.  \n",
    "- **Right-tailed test:**  \n",
    "  $$\n",
    "  H_0: \\mu \\leq \\mu_0 \\quad \\text{vs.} \\quad H_a: \\mu > \\mu_0\n",
    "  $$\n",
    "  Reject $H_0$ if $Z > z_{\\alpha}$.\n",
    "- **Left-tailed test:**  \n",
    "  $$\n",
    "  H_0: \\mu \\geq \\mu_0 \\quad \\text{vs.} \\quad H_a: \\mu < \\mu_0\n",
    "  $$\n",
    "  Reject $H_0$ if $Z < -z_{\\alpha}$.\n",
    "\n",
    "---\n",
    "\n",
    "### 2️⃣ Two-Tailed Test\n",
    "- Used when we are testing for a difference in **either direction**.  \n",
    "- Hypotheses:\n",
    "  $$\n",
    "  H_0: \\mu = \\mu_0 \\quad \\text{vs.} \\quad H_a: \\mu \\neq \\mu_0\n",
    "  $$\n",
    "- The rejection region is split between the two tails:\n",
    "  $$\n",
    "  |Z| > z_{\\alpha/2}\n",
    "  $$\n",
    "- Example: For $\\alpha = 0.05$, the critical values are $z_{\\alpha/2} = \\pm 1.96$.\n",
    "\n",
    "---\n",
    "\n",
    "### ✅ Summary\n",
    "- **One-tailed test:** Looks for evidence of deviation in a **specific direction**.  \n",
    "- **Two-tailed test:** Looks for evidence of deviation in **either direction**.  \n",
    "The choice must be made **before** analyzing the data, based on the research question.\n"
   ]
  },
  {
   "cell_type": "markdown",
   "metadata": {},
   "source": [
    "### 🥤 Example: One-Tailed vs Two-Tailed Test\n",
    "\n",
    "Suppose a soft-drink manufacturer’s most popular product is a **600 ml coke** with a standard deviation of 50 ml.\n",
    "\n",
    "- A **customer** wants to check whether there is **at least 600 ml** in the bottle, suspecting that the amount is **less** than 600 ml.  \n",
    "  - Null hypothesis:  \n",
    "    $$\n",
    "    H_0: \\mu = 600\n",
    "    $$\n",
    "  - Alternative hypothesis:  \n",
    "    $$\n",
    "    H_a: \\mu < 600\n",
    "    $$\n",
    "  👉 This is a **one-tailed (left-tailed) test**.\n",
    "\n",
    "---\n",
    "\n",
    "- The **quality control team**, however, wants to ensure that the amount is **exactly 600 ml**, i.e., not higher and not lower.  \n",
    "  - Null hypothesis:  \n",
    "    $$\n",
    "    H_0: \\mu = 600\n",
    "    $$\n",
    "  - Alternative hypothesis:  \n",
    "    $$\n",
    "    H_a: \\mu \\neq 600\n",
    "    $$\n",
    "  👉 This is a **two-tailed test**.\n",
    "\n",
    "---\n",
    "\n",
    "### ✅ Conclusion\n",
    "The choice between a **one-tailed** and **two-tailed** test depends entirely on the research question:\n",
    "- If we care about **only one direction** of deviation (e.g., less than 600 ml), we use a **one-tailed test**.  \n",
    "- If we care about **any difference** (e.g., not equal to 600 ml), we use a **two-tailed test**.\n"
   ]
  },
  {
   "cell_type": "markdown",
   "metadata": {
    "id": "GWUkM0LrCzSu"
   },
   "source": [
    "### 🧪 Two-Tailed Z-Test — Coke Fill Volume\n",
    "\n",
    "Suppose you work on the quality control team of the company. It is known from experience that the mean amount of coke in a bottle is 600 ml with a standard deviation of 50 ml.\n",
    "\n",
    "You have collected 36 randomly sampled bottles. The mean amount of coke in the 36 samples is 580 ml.\n",
    "\n",
    "You intend to test whether the amount of coke in the bottle is different from 600 ml using a 0.05 level of significance. Do you have enough Statistical evidence for it?"
   ]
  },
  {
   "cell_type": "markdown",
   "metadata": {
    "id": "_NP5DlMXr2gR"
   },
   "source": [
    "### ✅ Are the Assumptions of the Z-Test Satisfied?\n",
    "\n",
    "- **Approximate normality of $\\bar{X}$:** The sample size is $n=36>30$, so by the **Central Limit Theorem** the sampling distribution of the mean is approximately normal. (If $n<30$, a Z-test would still be valid **if** the population is known to be normal.)\n",
    "- **Simple random sampling:** The observations come from a **simple random sample**, as stated.\n",
    "- **Known standard deviation:** The population standard deviation is known, $\\sigma=50$ ml.\n",
    "\n",
    "**Conclusion:** All assumptions hold, so a **one-sample Z-test** for $H_0:\\ \\mu=600$ is appropriate.\n"
   ]
  },
  {
   "cell_type": "markdown",
   "metadata": {
    "id": "DouBcnk2siNr"
   },
   "source": [
    "### The next step is to find the test statistic"
   ]
  },
  {
   "cell_type": "code",
   "execution_count": 14,
   "metadata": {
    "colab": {
     "base_uri": "https://localhost:8080/"
    },
    "id": "QZaRvsFXsqFm",
    "outputId": "cae555cc-7337-48be-9106-6f86a293899a"
   },
   "outputs": [
    {
     "data": {
      "text/plain": [
       "-2.4"
      ]
     },
     "execution_count": 14,
     "metadata": {},
     "output_type": "execute_result"
    }
   ],
   "source": [
    "# set the values of population mean and standard deviation to 600 and 50 respectively.\n",
    "mu, sigma = 600, 50\n",
    "\n",
    "# set the value of sample mean to 580.\n",
    "x_bar = 580\n",
    "\n",
    "# calculate the test statistic.\n",
    "test_stat = (x_bar - mu) / (sigma/np.sqrt(36))\n",
    "test_stat"
   ]
  },
  {
   "cell_type": "markdown",
   "metadata": {
    "id": "z25Pi6HhtLNu"
   },
   "source": [
    "### Let's use the rejection region approach for the two-tailed test\n",
    "\n",
    "In the given example, the Z test statistic follows a standard normal distribution. The Z values lying at the left and right end of the distribution give strong evidence against the null hypothesis. To find the rejection region, we will find the values of Z (called critical values) that give an area of $\\alpha/2$ to both the left and right end."
   ]
  },
  {
   "cell_type": "code",
   "execution_count": 15,
   "metadata": {
    "colab": {
     "base_uri": "https://localhost:8080/",
     "height": 265
    },
    "id": "7PGKmNzjuolm",
    "outputId": "dd95a605-b753-4545-b65c-c756f2d05c82"
   },
   "outputs": [
    {
     "data": {
      "image/png": "[encoded data removed]",
      "text/plain": [
       "<Figure size 640x480 with 1 Axes>"
      ]
     },
     "metadata": {},
     "output_type": "display_data"
    }
   ],
   "source": [
    "# import the required function\n",
    "from scipy.stats import norm\n",
    "\n",
    "# find the critical values\n",
    "critical_val1 = norm.ppf(1-(0.05/2))\n",
    "critical_val2 = norm.ppf(0.05/2)\n",
    "\n",
    "# plot the rejection and acceptance region\n",
    "# we are plotting the distributions here to better visualize the calculations\n",
    "x = np.linspace(-4, 4, 100)\n",
    "plt.plot(x, norm.pdf(x, 0, 1))\n",
    "plt.axvline(x = critical_val1, c = 'r')\n",
    "x1 = np.linspace(critical_val1, 4, 50)\n",
    "plt.fill_between(x1, norm.pdf(x1, 0, 1), color='r')\n",
    "plt.axvline(x = critical_val2, c = 'r')\n",
    "x1 = np.linspace(-4, critical_val2, 50)\n",
    "plt.fill_between(x1, norm.pdf(x1, 0, 1), color='r')\n",
    "plt.annotate('Reject Null', (2.2, 0.20))\n",
    "plt.annotate('Reject Null', (-3.5, 0.20))\n",
    "plt.annotate('  Do Not Reject\\n        Null', (-1, 0.20))\n",
    "plt.show()"
   ]
  },
  {
   "cell_type": "markdown",
   "metadata": {
    "id": "1x0cXahOwHE8"
   },
   "source": [
    "As our test statistic (~-2.4) lies in the rejection region, we can reject the null hypothesis. Thus, we have enough statistical evidence to say that the amount of coke in the bottle is different from 600 ml."
   ]
  },
  {
   "cell_type": "markdown",
   "metadata": {
    "id": "9zzkUpjHPn_c"
   },
   "source": [
    "###  🧪 One-Tailed Z-Test — Is the Mean Fill < 600 ml?\n",
    "\n",
    "It is known that the mean amount of coke in a bottle is 600 ml with a standard deviation of 50 ml. Suppose you are a customer who wants to test whether the amount of coke in the bottle is less than 600 ml.\n",
    "\n",
    "You have collected 36 randomly sampled bottles. The mean amount of coke in the 36 samples is 580 ml.\n",
    "\n",
    "Do you have enough Statistical evidence for it?"
   ]
  },
  {
   "cell_type": "markdown",
   "metadata": {},
   "source": [
    "### ✅ Are the Assumptions of the Z-Test Satisfied?\n",
    "\n",
    "- **Approximate normality of $\\bar{X}$:** The sample size is $n=36>30$, so by the **Central Limit Theorem** the sampling distribution of the mean is approximately normal. (If $n<30$, a Z-test would still be valid **if** the population is known to be normal.)\n",
    "- **Simple random sampling:** The observations come from a **simple random sample**, as stated.\n",
    "- **Known standard deviation:** The population standard deviation is known, $\\sigma=50$ ml.\n",
    "\n",
    "**Conclusion:** All assumptions hold, so a **one-sample Z-test** for $H_0:\\ \\mu=600$ is appropriate.\n"
   ]
  },
  {
   "cell_type": "markdown",
   "metadata": {
    "id": "9jeI1yRkRLN2"
   },
   "source": [
    "### The next step is to find the test statistic"
   ]
  },
  {
   "cell_type": "code",
   "execution_count": 16,
   "metadata": {
    "colab": {
     "base_uri": "https://localhost:8080/"
    },
    "id": "8dZr5lGzRS7R",
    "outputId": "a0f0cce5-db02-49da-935e-cefa6e09ee52"
   },
   "outputs": [
    {
     "data": {
      "text/plain": [
       "-2.4"
      ]
     },
     "execution_count": 16,
     "metadata": {},
     "output_type": "execute_result"
    }
   ],
   "source": [
    "# set the values of population mean and standard deviation to 600 and 50 respectively\n",
    "mu, sigma = 600, 50\n",
    "\n",
    "# set the value of sample mean to 580\n",
    "x_bar = 580\n",
    "\n",
    "# calculate the test statistic\n",
    "test_stat = (x_bar - mu) / (sigma/np.sqrt(36))\n",
    "test_stat"
   ]
  },
  {
   "cell_type": "markdown",
   "metadata": {
    "id": "BUIBHwkPRPCQ"
   },
   "source": [
    "### Let's use the rejection region approach for the one-tailed test\n",
    "\n",
    "In the given example, the Z test statistic follows a standard normal distribution. The Z values lying at the left end of the distribution give strong evidence against the null hypothesis. To find the rejection region, we will find the value of Z (called critical value) that gives an area of $\\alpha$ to the left end."
   ]
  },
  {
   "cell_type": "code",
   "execution_count": 17,
   "metadata": {
    "colab": {
     "base_uri": "https://localhost:8080/",
     "height": 265
    },
    "id": "IhhNBBsuRjLI",
    "outputId": "19a188c4-a368-4525-ebb3-b61d45b393b8"
   },
   "outputs": [
    {
     "data": {
      "image/png": "[encoded data removed]",
      "text/plain": [
       "<Figure size 640x480 with 1 Axes>"
      ]
     },
     "metadata": {},
     "output_type": "display_data"
    }
   ],
   "source": [
    "# import the required function\n",
    "from scipy.stats import norm\n",
    "\n",
    "# find the critical value\n",
    "critical_val = norm.ppf(0.05)\n",
    "\n",
    "# plot the rejection and acceptance region\n",
    "# we are plotting the distributions here to better visualize the calculations\n",
    "x = np.linspace(-4, 4, 100)\n",
    "plt.plot(x, norm.pdf(x, 0, 1))\n",
    "plt.axvline(x = critical_val, c = 'r')\n",
    "x1 = np.linspace(-4, critical_val, 50)\n",
    "plt.fill_between(x1, norm.pdf(x1, 0, 1), color='r')\n",
    "plt.annotate('Reject Null', (-3.5, 0.20))\n",
    "plt.annotate('  Do Not Reject\\n        Null', (-1, 0.20))\n",
    "plt.show()"
   ]
  },
  {
   "cell_type": "markdown",
   "metadata": {
    "id": "fanaSBpeS0yQ"
   },
   "source": [
    "As our test statistic (~-2.4) lies in the rejection region, we can reject the null hypothesis. Thus, we have enough statistical evidence to say that the amount of coke in the bottle is less than 600 ml."
   ]
  },
  {
   "cell_type": "markdown",
   "metadata": {
    "id": "8Zf1FemQ4g9t"
   },
   "source": [
    "### Key Takeaways\n",
    "\n",
    "* In the one-tailed test, we consider the difference only in one direction. However, in the two-tailed test, we are interested to know the direction of the difference.\n",
    "* Depending on the nature of the problem choose one!"
   ]
  },
  {
   "cell_type": "markdown",
   "metadata": {},
   "source": [
    "----\n",
    "## 🔎 3. Hypothesis Testing via the Confidence Interval (CI) Approach\n",
    "\n",
    "The CI approach reaches the **same decision** as the p‑value/critical value methods by checking whether the hypothesized mean lies **inside or outside** an appropriate confidence interval.\n",
    "\n",
    "---\n",
    "\n",
    "### 📌 Setup (known $\\sigma$)\n",
    "Given $\\,\\sigma=50\\,$, $\\,n=36\\,$, and sample mean $\\,\\bar{x}=580\\,$.  \n",
    "Standard error: $$\\text{SE}=\\frac{\\sigma}{\\sqrt{n}}=\\frac{50}{\\sqrt{36}}=\\frac{50}{6}\\approx 8.333.$$\n",
    "\n",
    "---\n",
    "\n",
    "### 1) Two‑tailed test: $\\,H_0:\\mu=600\\,$ vs $\\,H_a:\\mu\\neq 600\\,$ at $\\alpha=0.05$\n",
    "\n",
    "Construct the **95% two‑sided CI** for $\\mu$:\n",
    "$$\n",
    "\\bar{x}\\ \\pm\\ z_{\\alpha/2}\\,\\text{SE}\n",
    "\\;=\\;\n",
    "580\\ \\pm\\ 1.96\\cdot 8.333\n",
    "\\;=\\;\n",
    "580\\ \\pm\\ 16.33\n",
    "\\;=\\;\n",
    "(563.67,\\ 596.33).\n",
    "$$\n",
    "\n",
    "**Decision rule (CI approach):** Reject $H_0$ if $\\,\\mu_0\\,$ lies **outside** the CI.\n",
    "\n",
    "Here $\\,\\mu_0=600\\,$ is **outside** $(563.67,596.33)$, so we **reject $H_0$**.  \n",
    "(Consistent with the earlier two‑tailed Z‑test.)\n",
    "\n",
    "---\n",
    "\n",
    "### 2) Left‑tailed test: $\\,H_0:\\mu=600\\,$ vs $\\,H_a:\\mu<600\\,$ at $\\alpha=0.05$\n",
    "\n",
    "Use the **one‑sided upper $(1-\\alpha)$ CI**:\n",
    "$$\n",
    "(-\\infty,\\ \\bar{x}+z_{1-\\alpha}\\,\\text{SE}]\n",
    "\\;=\\;\n",
    "(-\\infty,\\ 580+1.645\\cdot 8.333]\n",
    "\\;=\\;\n",
    "(-\\infty,\\ 593.71].\n",
    "$$\n",
    "\n",
    "**Decision rule (CI approach):** Reject $H_0$ if the **upper one‑sided bound** is **below** $\\mu_0$.\n",
    "\n",
    "Since $\\,593.71<600\\,$, we **reject $H_0$** (evidence that $\\mu<600$).  \n",
    "(Consistent with the earlier one‑tailed Z‑test.)\n",
    "\n",
    "---\n",
    "\n",
    "### ✅ Takeaway\n",
    "- **Two‑tailed tests:** $\\mu_0$ outside the **two‑sided CI** ⇒ reject $H_0$.  \n",
    "- **One‑tailed tests:** compare $\\mu_0$ to the appropriate **one‑sided CI bound** (upper for $H_a:\\mu<\\mu_0$, lower for $H_a:\\mu>\\mu_0$).\n"
   ]
  },
  {
   "cell_type": "markdown",
   "metadata": {},
   "source": [
    "## 🎯 4. Simulation: Confidence Interval Coverage (Known $\\sigma$)\n",
    "\n",
    "We will:\n",
    "1) Draw a sample of size $n=36$ from $\\mathcal{N}(\\mu=600,\\ \\sigma=50)$  \n",
    "2) Compute a **95% two‑sided** CI using the **Z** formula (known $\\sigma$):  \n",
    "$$\n",
    "\\bar{X}\\ \\pm\\ z_{0.975}\\,\\frac{\\sigma}{\\sqrt{n}},\\quad z_{0.975}=1.96\n",
    "$$\n",
    "3) Repeat steps (1)–(2) **100 times**, and **plot all intervals** against the true mean $\\mu=600$ to visualize that some intervals **do not** contain the true parameter.\n",
    "\n",
    "---\n",
    "\n",
    "### 🧮 Key quantities\n",
    "- Standard error: \n",
    "$$\n",
    "\\text{SE}=\\frac{\\sigma}{\\sqrt{n}}=\\frac{50}{\\sqrt{36}}=\\frac{50}{6}\\approx 8.333\n",
    "$$\n",
    "- 95% CI for each replication $r$:  \n",
    "$$\n",
    "\\text{CI}_r = \\left[\\ \\bar{X}_r - 1.96\\cdot \\text{SE}\\ ,\\ \\bar{X}_r + 1.96\\cdot \\text{SE}\\ \\right]\n",
    "$$\n",
    "\n",
    "---\n",
    "\n"
   ]
  },
  {
   "cell_type": "code",
   "execution_count": 18,
   "metadata": {},
   "outputs": [],
   "source": [
    "# Reproducibility\n",
    "rng = np.random.default_rng(42)\n",
    "\n",
    "# Parameters\n",
    "mu = 600\n",
    "sigma = 50\n",
    "n = 36\n",
    "R = 100               # number of replications\n",
    "z = 1.96              # 95% two-sided z critical\n",
    "SE = sigma / np.sqrt(n)\n",
    "\n",
    "# Storage\n",
    "means = np.empty(R)\n",
    "lower = np.empty(R)\n",
    "upper = np.empty(R)\n",
    "covers = np.empty(R, dtype=bool)\n"
   ]
  },
  {
   "cell_type": "code",
   "execution_count": 21,
   "metadata": {},
   "outputs": [
    {
     "name": "stdout",
     "output_type": "stream",
     "text": [
      "0.95\n"
     ]
    }
   ],
   "source": [
    "\n",
    "# Simulate and build CIs\n",
    "for r in range(R):\n",
    "    x = rng.normal(loc=mu, scale=sigma, size=n)\n",
    "    xbar = x.mean()\n",
    "    L = xbar - z * SE\n",
    "    U = xbar + z * SE\n",
    "    means[r] = xbar\n",
    "    lower[r] = L\n",
    "    upper[r] = U\n",
    "    covers[r] = (L <= mu) and (mu <= U)\n",
    "\n",
    "coverage_rate = covers.mean()\n",
    "print(coverage_rate)\n"
   ]
  },
  {
   "cell_type": "code",
   "execution_count": 22,
   "metadata": {},
   "outputs": [
    {
     "data": {
      "image/png": "[encoded data removed]",
      "text/plain": [
       "<Figure size 800x1000 with 1 Axes>"
      ]
     },
     "metadata": {},
     "output_type": "display_data"
    }
   ],
   "source": [
    "\n",
    "# Plot intervals with highlight for misses\n",
    "plt.figure(figsize=(8, 10))\n",
    "y = np.arange(R)\n",
    "for i in range(R):\n",
    "    color = \"tab:blue\" if covers[i] else \"tab:red\"\n",
    "    plt.plot([lower[i], upper[i]], [i, i], color=color, linewidth=2)\n",
    "    plt.plot(means[i], i, marker=\"o\", markersize=3, color=color)\n",
    "\n",
    "# True mean line\n",
    "plt.axvline(mu, linestyle=\"--\", linewidth=2, label=f\"True μ = {mu}\")\n",
    "\n",
    "plt.title(f\"95% CIs for μ over {R} replications (coverage ≈ {coverage_rate:.3f})\")\n",
    "plt.xlabel(\"μ\")\n",
    "plt.ylabel(\"Replication index\")\n",
    "plt.legend(loc=\"lower right\")\n",
    "plt.tight_layout()\n",
    "plt.show()"
   ]
  },
  {
   "cell_type": "markdown",
   "metadata": {},
   "source": [
    "## 🎯 5. How to Choose the Significance Level ($\\alpha$)\n",
    "\n",
    "The **significance level** $\\alpha$ represents the probability of making a **Type I error** — rejecting the null hypothesis $H_0$ when it is actually true. Choosing $\\alpha$ is a critical step in hypothesis testing, and the choice depends on the **context** of the problem.\n",
    "\n",
    "---\n",
    "\n",
    "### 🔑 Common Choices\n",
    "- **$\\alpha = 0.05$ (5%)**  \n",
    "  The most widely used standard in practice. Balances the risks of Type I and Type II errors.\n",
    "- **$\\alpha = 0.01$ (1%)**  \n",
    "  Used when stronger evidence is required to reject $H_0$, e.g., in medical trials or safety-critical studies.\n",
    "- **$\\alpha = 0.10$ (10%)**  \n",
    "  Sometimes used in exploratory research where missing a potential effect (Type II error) is considered more costly than a false alarm.\n",
    "\n",
    "---\n",
    "\n",
    "### ⚖️ Factors to Consider\n",
    "1. **Consequences of Type I Error (False Positive):**  \n",
    "   - If rejecting $H_0$ incorrectly has **serious consequences** (e.g., approving a harmful drug), choose a **smaller $\\alpha$**.\n",
    "   \n",
    "2. **Consequences of Type II Error (False Negative):**  \n",
    "   - If failing to reject $H_0$ when $H_a$ is true is more serious (e.g., missing signs of a disease outbreak), a **larger $\\alpha$** may be acceptable.\n",
    "\n",
    "3. **Field Standards:**  \n",
    "   - Different fields have conventions:  \n",
    "     - **Medicine, biology:** often $\\alpha=0.01$ or lower.  \n",
    "     - **Social sciences, business:** typically $\\alpha=0.05$.  \n",
    "     - **Exploratory ML/AB testing:** sometimes $\\alpha=0.10$.\n",
    "\n",
    "---\n",
    "\n",
    "### ✅ Key Takeaway\n",
    "The choice of $\\alpha$ is **not arbitrary**: it balances the risk of false positives and false negatives. Lower $\\alpha$ reduces false positives but increases false negatives, and vice versa. Always set $\\alpha$ **before** collecting data to avoid bias.\n"
   ]
  }
 ],
 "metadata": {
  "colab": {
   "provenance": []
  },
  "kernelspec": {
   "display_name": "Python 3",
   "language": "python",
   "name": "python3"
  },
  "language_info": {
   "codemirror_mode": {
    "name": "ipython",
    "version": 3
   },
   "file_extension": ".py",
   "mimetype": "text/x-python",
   "name": "python",
   "nbconvert_exporter": "python",
   "pygments_lexer": "ipython3",
   "version": "3.11.4"
  }
 },
 "nbformat": 4,
 "nbformat_minor": 0
}
