{
 "cells": [
  {
   "attachments": {},
   "cell_type": "markdown",
   "metadata": {},
   "source": [
    "### 1.1 How to use markdown in jupyter"
   ]
  },
  {
   "cell_type": "markdown",
   "metadata": {
    "id": "SS1aONKU9FyM"
   },
   "source": [
    "These are called cells.  There are 2 types of cells: code and text. We can add more cells by clicking the + buttons above!\n",
    "\n",
    "In a code cell you can type some code and then you execute the code by pressing Shift + Enter\n",
    "\n",
    "In a text cell you can also format text!\n"
   ]
  },
  {
   "attachments": {},
   "cell_type": "markdown",
   "metadata": {},
   "source": [
    "### 1.2 Basic sintaxis on python"
   ]
  },
  {
   "cell_type": "code",
   "execution_count": 1,
   "metadata": {
    "colab": {
     "base_uri": "https://localhost:8080/"
    },
    "executionInfo": {
     "elapsed": 13,
     "status": "ok",
     "timestamp": 1695509239842,
     "user": {
      "displayName": "Fernando Diaz",
      "userId": "16819680563727310863"
     },
     "user_tz": 180
    },
    "id": "wiVCBtg89Dz1",
    "outputId": "213e48c9-2b4b-40c6-a7cc-85ab060bfe96"
   },
   "outputs": [
    {
     "data": {
      "text/plain": [
       "4"
      ]
     },
     "execution_count": 1,
     "metadata": {},
     "output_type": "execute_result"
    }
   ],
   "source": [
    "2+2"
   ]
  },
  {
   "cell_type": "code",
   "execution_count": null,
   "metadata": {
    "colab": {
     "base_uri": "https://localhost:8080/"
    },
    "executionInfo": {
     "elapsed": 12,
     "status": "ok",
     "timestamp": 1695509239843,
     "user": {
      "displayName": "Fernando Diaz",
      "userId": "16819680563727310863"
     },
     "user_tz": 180
    },
    "id": "SBBED0rE6rxn",
    "outputId": "56f09402-6234-4db3-dcec-057c893b6a2e"
   },
   "outputs": [
    {
     "data": {
      "text/plain": [
       "8"
      ]
     },
     "execution_count": 2,
     "metadata": {},
     "output_type": "execute_result"
    }
   ],
   "source": [
    "2+2\n",
    "4+4"
   ]
  },
  {
   "cell_type": "code",
   "execution_count": null,
   "metadata": {
    "colab": {
     "base_uri": "https://localhost:8080/"
    },
    "executionInfo": {
     "elapsed": 10,
     "status": "ok",
     "timestamp": 1695509239843,
     "user": {
      "displayName": "Fernando Diaz",
      "userId": "16819680563727310863"
     },
     "user_tz": 180
    },
    "id": "hSZ2aNVh6r3u",
    "outputId": "7bbca56c-4d0e-4e61-b1eb-7e6da3a7ee04"
   },
   "outputs": [
    {
     "name": "stdout",
     "output_type": "stream",
     "text": [
      "4\n",
      "8\n"
     ]
    }
   ],
   "source": [
    "print(2+2)\n",
    "print(4+4)"
   ]
  },
  {
   "cell_type": "code",
   "execution_count": null,
   "metadata": {
    "colab": {
     "base_uri": "https://localhost:8080/"
    },
    "executionInfo": {
     "elapsed": 9,
     "status": "ok",
     "timestamp": 1695509239843,
     "user": {
      "displayName": "Fernando Diaz",
      "userId": "16819680563727310863"
     },
     "user_tz": 180
    },
    "id": "9JkDnOvG6zsp",
    "outputId": "a00c7a6d-9b45-4042-ae22-6840a77fe01c"
   },
   "outputs": [
    {
     "name": "stdout",
     "output_type": "stream",
     "text": [
      "hello world!\n"
     ]
    }
   ],
   "source": [
    "print('hello world!')"
   ]
  },
  {
   "cell_type": "code",
   "execution_count": null,
   "metadata": {
    "colab": {
     "base_uri": "https://localhost:8080/"
    },
    "executionInfo": {
     "elapsed": 8,
     "status": "ok",
     "timestamp": 1695509239843,
     "user": {
      "displayName": "Fernando Diaz",
      "userId": "16819680563727310863"
     },
     "user_tz": 180
    },
    "id": "isR8teAB6zu_",
    "outputId": "49288d8b-8e5e-4a08-b4bf-a782e19b51d8"
   },
   "outputs": [
    {
     "name": "stdout",
     "output_type": "stream",
     "text": [
      "hello world 4 this is python\n"
     ]
    }
   ],
   "source": [
    "print('hello world',2+2,'this is python')"
   ]
  },
  {
   "cell_type": "code",
   "execution_count": null,
   "metadata": {
    "colab": {
     "base_uri": "https://localhost:8080/"
    },
    "executionInfo": {
     "elapsed": 7,
     "status": "ok",
     "timestamp": 1695509239843,
     "user": {
      "displayName": "Fernando Diaz",
      "userId": "16819680563727310863"
     },
     "user_tz": 180
    },
    "id": "qS7VIsa37RKx",
    "outputId": "5b8f8ab6-0b8a-46a9-f599-34f52d8dafad"
   },
   "outputs": [
    {
     "name": "stdout",
     "output_type": "stream",
     "text": [
      "hello world4this is python\n"
     ]
    }
   ],
   "source": [
    "print('hello world',2+2,'this is python',sep='')"
   ]
  },
  {
   "cell_type": "code",
   "execution_count": null,
   "metadata": {
    "colab": {
     "base_uri": "https://localhost:8080/"
    },
    "executionInfo": {
     "elapsed": 6,
     "status": "ok",
     "timestamp": 1695509239843,
     "user": {
      "displayName": "Fernando Diaz",
      "userId": "16819680563727310863"
     },
     "user_tz": 180
    },
    "id": "xIoQO0ix6zxJ",
    "outputId": "7db7f253-644a-4aa9-890d-bcb4c0ca8448"
   },
   "outputs": [
    {
     "data": {
      "text/plain": [
       "4"
      ]
     },
     "execution_count": 7,
     "metadata": {},
     "output_type": "execute_result"
    }
   ],
   "source": [
    "# everything to the right of a # is not run as code, this is called a comment!\n",
    "2+2 # this is adding two plus two"
   ]
  },
  {
   "cell_type": "code",
   "execution_count": null,
   "metadata": {
    "colab": {
     "base_uri": "https://localhost:8080/"
    },
    "executionInfo": {
     "elapsed": 6,
     "status": "ok",
     "timestamp": 1695509239844,
     "user": {
      "displayName": "Fernando Diaz",
      "userId": "16819680563727310863"
     },
     "user_tz": 180
    },
    "id": "TMuz1Mlc6zzv",
    "outputId": "4671cc0d-1705-4af7-fb48-5846341e47af"
   },
   "outputs": [
    {
     "name": "stdout",
     "output_type": "stream",
     "text": [
      "helloworld\n"
     ]
    }
   ],
   "source": [
    "# we can add strings together!\n",
    "print('hello'+'world')"
   ]
  },
  {
   "cell_type": "code",
   "execution_count": null,
   "metadata": {
    "colab": {
     "base_uri": "https://localhost:8080/"
    },
    "executionInfo": {
     "elapsed": 362,
     "status": "ok",
     "timestamp": 1695509240201,
     "user": {
      "displayName": "Fernando Diaz",
      "userId": "16819680563727310863"
     },
     "user_tz": 180
    },
    "id": "FfMWZGHRCtsz",
    "outputId": "384feace-4a9e-4aed-ca6c-61ffa0777a95"
   },
   "outputs": [
    {
     "name": "stdout",
     "output_type": "stream",
     "text": [
      "hello  world\n"
     ]
    }
   ],
   "source": [
    "print('hello ' + ' world')"
   ]
  },
  {
   "cell_type": "code",
   "execution_count": null,
   "metadata": {
    "colab": {
     "base_uri": "https://localhost:8080/"
    },
    "executionInfo": {
     "elapsed": 16,
     "status": "ok",
     "timestamp": 1695509240202,
     "user": {
      "displayName": "Fernando Diaz",
      "userId": "16819680563727310863"
     },
     "user_tz": 180
    },
    "id": "IPSQGCG-ZYB3",
    "outputId": "a56ec9ce-a41f-4b5d-e341-586899278e40"
   },
   "outputs": [
    {
     "name": "stdout",
     "output_type": "stream",
     "text": [
      "helloworld\n"
     ]
    }
   ],
   "source": [
    "print('hello'+'world', sep = \" \")"
   ]
  },
  {
   "cell_type": "code",
   "execution_count": null,
   "metadata": {
    "id": "i2VDUtLgCxPD"
   },
   "outputs": [],
   "source": [
    "# print('hello'+5)"
   ]
  },
  {
   "cell_type": "markdown",
   "metadata": {
    "id": "qA3wyngS6oI3"
   },
   "source": [
    "A mobile store MobiWorld sells different mobile phones to customers. For each order that is placed, the store keeps a record of various attributes related to the mobile, like Price, Brand, RAM (GB), and Internal Storage (GB).\n",
    "\n",
    "Let's learn Python using the context of the store's data.\n"
   ]
  },
  {
   "attachments": {},
   "cell_type": "markdown",
   "metadata": {
    "id": "Zfms3DPGJbL-"
   },
   "source": [
    "### 1.3 Intro to Variables"
   ]
  },
  {
   "cell_type": "markdown",
   "metadata": {
    "id": "lJcCrrGLmUQL"
   },
   "source": [
    "First, we have to store our data to a variable that can be used to extract the stored information later. Let's take an example of how we can do that in Python.\n",
    "\n",
    "Q. Suppose the store sold an Apple iPhone (4GB, 128GB) for $900. Store this information in the variables **price**, **brand**, **ram**, and **storage**.\n"
   ]
  },
  {
   "attachments": {},
   "cell_type": "markdown",
   "metadata": {},
   "source": [
    "#### Q&A "
   ]
  },
  {
   "cell_type": "code",
   "execution_count": null,
   "metadata": {
    "colab": {
     "base_uri": "https://localhost:8080/"
    },
    "executionInfo": {
     "elapsed": 14,
     "status": "ok",
     "timestamp": 1695509240202,
     "user": {
      "displayName": "Fernando Diaz",
      "userId": "16819680563727310863"
     },
     "user_tz": 180
    },
    "id": "QFfVcPv3nuNp",
    "outputId": "c6b3c563-3a07-45d8-b366-cee06efaa383"
   },
   "outputs": [
    {
     "name": "stdout",
     "output_type": "stream",
     "text": [
      "The price of the mobile is $900\n"
     ]
    }
   ],
   "source": [
    "# store the price (in dollars) of the mobile in variable 'price'\n",
    "price = 900\n",
    "# print the value saved in the variable 'price'\n",
    "print('The price of the mobile is $',price,sep='')"
   ]
  },
  {
   "cell_type": "code",
   "execution_count": null,
   "metadata": {
    "colab": {
     "base_uri": "https://localhost:8080/"
    },
    "executionInfo": {
     "elapsed": 13,
     "status": "ok",
     "timestamp": 1695509240202,
     "user": {
      "displayName": "Fernando Diaz",
      "userId": "16819680563727310863"
     },
     "user_tz": 180
    },
    "id": "PtM8OsxBpqjc",
    "outputId": "31a986e1-bdec-4fc0-89fb-b7456dbf30fc"
   },
   "outputs": [
    {
     "name": "stdout",
     "output_type": "stream",
     "text": [
      "The brand of the mobile is Apple\n"
     ]
    }
   ],
   "source": [
    "# store the brand name of the mobile in variable 'brand'.\n",
    "brand = 'Apple' # Here we are storying a string\n",
    "# print the value saved in the variable 'brand'\n",
    "print('The brand of the mobile is',brand)"
   ]
  },
  {
   "cell_type": "code",
   "execution_count": null,
   "metadata": {
    "colab": {
     "base_uri": "https://localhost:8080/"
    },
    "executionInfo": {
     "elapsed": 9,
     "status": "ok",
     "timestamp": 1695509240202,
     "user": {
      "displayName": "Fernando Diaz",
      "userId": "16819680563727310863"
     },
     "user_tz": 180
    },
    "id": "YuF62kesqH4k",
    "outputId": "010ae61c-68bf-43b3-c2ef-c6985c1cd97e"
   },
   "outputs": [
    {
     "name": "stdout",
     "output_type": "stream",
     "text": [
      "The RAM of the mobile is 4 GB\n"
     ]
    }
   ],
   "source": [
    "# store the RAM (in GB) of the mobile in variable 'ram'.\n",
    "ram = 4\n",
    "# print the value saved in the variable 'ram'\n",
    "print('The RAM of the mobile is', ram,'GB')"
   ]
  },
  {
   "cell_type": "code",
   "execution_count": null,
   "metadata": {
    "colab": {
     "base_uri": "https://localhost:8080/"
    },
    "executionInfo": {
     "elapsed": 9,
     "status": "ok",
     "timestamp": 1695509240202,
     "user": {
      "displayName": "Fernando Diaz",
      "userId": "16819680563727310863"
     },
     "user_tz": 180
    },
    "id": "km7ePn3WqUVk",
    "outputId": "ba8a3d4a-1282-40f0-89c9-862542a1734f"
   },
   "outputs": [
    {
     "name": "stdout",
     "output_type": "stream",
     "text": [
      "The internal storage of the mobile is 128 GB\n"
     ]
    }
   ],
   "source": [
    "# store the internal storage (in GB) of the mobile in variable 'storage'.\n",
    "storage = 128\n",
    "# print the value saved in the variable 'Memory'\n",
    "print('The internal storage of the mobile is', storage, 'GB')"
   ]
  },
  {
   "cell_type": "markdown",
   "metadata": {
    "id": "6Hl1V6TfC3PN"
   },
   "source": [
    "Q. Let's say the store wants to save the information on the billing status of the above phone in a boolean variable. Write the code in Python to implement the same."
   ]
  },
  {
   "cell_type": "code",
   "execution_count": null,
   "metadata": {
    "colab": {
     "base_uri": "https://localhost:8080/"
    },
    "executionInfo": {
     "elapsed": 9,
     "status": "ok",
     "timestamp": 1695509240203,
     "user": {
      "displayName": "Fernando Diaz",
      "userId": "16819680563727310863"
     },
     "user_tz": 180
    },
    "id": "_jZ5ynflEGlJ",
    "outputId": "692a9848-c15d-495d-88e2-107e0f8bb681"
   },
   "outputs": [
    {
     "name": "stdout",
     "output_type": "stream",
     "text": [
      "True\n"
     ]
    }
   ],
   "source": [
    "# a special type of variable stores just True/False values.  This is called a boolean variable.\n",
    "# create a boolean variable 'is_billed' to save the billing information\n",
    "is_billed = True #Note True is in blue. TRUE and False are special type of objects in Pyrtohn\n",
    "print(is_billed)"
   ]
  },
  {
   "cell_type": "markdown",
   "metadata": {
    "id": "3V2CNbizt63k"
   },
   "source": [
    "The value that we store in a variable can be a number or a set of characters or a boolean variable (True/False). For example, a price is a number while the brand name is a set of characters which is also known as a string in python. Whenever we store a value in a variable, Python automatically assigns a data type to that variable based on the value. It also allows us to check the data type of the variable.\n",
    "\n",
    "Q. Check the data type of the variables **price**, **brand**, **ram**, and **storage**"
   ]
  },
  {
   "cell_type": "code",
   "execution_count": null,
   "metadata": {
    "colab": {
     "base_uri": "https://localhost:8080/"
    },
    "executionInfo": {
     "elapsed": 8,
     "status": "ok",
     "timestamp": 1695509240203,
     "user": {
      "displayName": "Fernando Diaz",
      "userId": "16819680563727310863"
     },
     "user_tz": 180
    },
    "id": "g4KOBpxyvbIR",
    "outputId": "e7597634-8165-4255-dbae-839efcabb9c3"
   },
   "outputs": [
    {
     "data": {
      "text/plain": [
       "int"
      ]
     },
     "execution_count": 17,
     "metadata": {},
     "output_type": "execute_result"
    }
   ],
   "source": [
    "# check the data-type using the type function\n",
    "type(price)"
   ]
  },
  {
   "cell_type": "code",
   "execution_count": null,
   "metadata": {
    "colab": {
     "base_uri": "https://localhost:8080/"
    },
    "executionInfo": {
     "elapsed": 7,
     "status": "ok",
     "timestamp": 1695509240203,
     "user": {
      "displayName": "Fernando Diaz",
      "userId": "16819680563727310863"
     },
     "user_tz": 180
    },
    "id": "M8vCNgGavtIw",
    "outputId": "37db2931-9a20-46fc-8fe7-63f2f35dff51"
   },
   "outputs": [
    {
     "data": {
      "text/plain": [
       "str"
      ]
     },
     "execution_count": 18,
     "metadata": {},
     "output_type": "execute_result"
    }
   ],
   "source": [
    "# check the data-type using the type function\n",
    "type(brand)"
   ]
  },
  {
   "cell_type": "code",
   "execution_count": null,
   "metadata": {
    "colab": {
     "base_uri": "https://localhost:8080/"
    },
    "executionInfo": {
     "elapsed": 52,
     "status": "ok",
     "timestamp": 1695509241159,
     "user": {
      "displayName": "Fernando Diaz",
      "userId": "16819680563727310863"
     },
     "user_tz": 180
    },
    "id": "4Tur0cIAwTxr",
    "outputId": "88fe7e5f-af0d-4797-d977-51597f539a67"
   },
   "outputs": [
    {
     "data": {
      "text/plain": [
       "int"
      ]
     },
     "execution_count": 19,
     "metadata": {},
     "output_type": "execute_result"
    }
   ],
   "source": [
    "# check the data-type using the type function\n",
    "type(ram)"
   ]
  },
  {
   "cell_type": "code",
   "execution_count": null,
   "metadata": {
    "colab": {
     "base_uri": "https://localhost:8080/"
    },
    "executionInfo": {
     "elapsed": 50,
     "status": "ok",
     "timestamp": 1695509241159,
     "user": {
      "displayName": "Fernando Diaz",
      "userId": "16819680563727310863"
     },
     "user_tz": 180
    },
    "id": "r0kULhRIwVbP",
    "outputId": "aca4a982-f4ab-4f19-bc02-665aacd946d2"
   },
   "outputs": [
    {
     "data": {
      "text/plain": [
       "int"
      ]
     },
     "execution_count": 20,
     "metadata": {},
     "output_type": "execute_result"
    }
   ],
   "source": [
    "# check the data-type using the type function\n",
    "type(storage)"
   ]
  },
  {
   "cell_type": "code",
   "execution_count": null,
   "metadata": {
    "colab": {
     "base_uri": "https://localhost:8080/"
    },
    "executionInfo": {
     "elapsed": 48,
     "status": "ok",
     "timestamp": 1695509241159,
     "user": {
      "displayName": "Fernando Diaz",
      "userId": "16819680563727310863"
     },
     "user_tz": 180
    },
    "id": "Q_81HC3LFF8_",
    "outputId": "a2e56530-a421-43e4-b114-de9cbf831d73"
   },
   "outputs": [
    {
     "data": {
      "text/plain": [
       "bool"
      ]
     },
     "execution_count": 21,
     "metadata": {},
     "output_type": "execute_result"
    }
   ],
   "source": [
    "# check the data-type using the type function\n",
    "type(is_billed)"
   ]
  },
  {
   "cell_type": "markdown",
   "metadata": {
    "id": "MP4Csswyq1mG"
   },
   "source": [
    "Q. Let's say a customer buys two Apple iPhones (4GB, 128GB) at a price of $900 each. What will be the total bill that the customer has to pay?"
   ]
  },
  {
   "cell_type": "code",
   "execution_count": null,
   "metadata": {
    "colab": {
     "base_uri": "https://localhost:8080/"
    },
    "executionInfo": {
     "elapsed": 47,
     "status": "ok",
     "timestamp": 1695509241159,
     "user": {
      "displayName": "Fernando Diaz",
      "userId": "16819680563727310863"
     },
     "user_tz": 180
    },
    "id": "PUv9ztT6sG3i",
    "outputId": "02bf5777-15e9-430e-cd12-1642f298b909"
   },
   "outputs": [
    {
     "name": "stdout",
     "output_type": "stream",
     "text": [
      "The bill amount is $1800\n"
     ]
    }
   ],
   "source": [
    "# calcuate the total bill and store it in variable 'bill'\n",
    "bill = price + price\n",
    "# the same result can be achieved by multiplication.\n",
    "bill = price*2\n",
    "print('The bill amount is $',bill,sep='')"
   ]
  },
  {
   "cell_type": "markdown",
   "metadata": {
    "id": "t9Xp42rvP5lJ"
   },
   "source": [
    "Q. Let's say the store provides a discount of \\$15 dollars on the Apple iPhone (4GB, 128GB) that costs $900. What will be the price of the iPhone after the discount?\n"
   ]
  },
  {
   "cell_type": "code",
   "execution_count": null,
   "metadata": {
    "colab": {
     "base_uri": "https://localhost:8080/"
    },
    "executionInfo": {
     "elapsed": 46,
     "status": "ok",
     "timestamp": 1695509241159,
     "user": {
      "displayName": "Fernando Diaz",
      "userId": "16819680563727310863"
     },
     "user_tz": 180
    },
    "id": "qjha3bvzQovj",
    "outputId": "cb94f518-883d-4b13-f2c5-962d5cfefb2f"
   },
   "outputs": [
    {
     "name": "stdout",
     "output_type": "stream",
     "text": [
      "The price of the iPhone after the discount is $885\n"
     ]
    }
   ],
   "source": [
    "# store the price (in dollars) of the mobile in variable 'price'\n",
    "price = 900\n",
    "# store the discount amount in variable 'discount'\n",
    "discount = 15\n",
    "# calculate the discounted price\n",
    "price_after_discount = price - discount\n",
    "print('The price of the iPhone after the discount is $',price_after_discount,sep='')"
   ]
  },
  {
   "cell_type": "markdown",
   "metadata": {
    "id": "zZvOG69cVKYA"
   },
   "source": [
    "Q. Let's say a customer buys two Apple iPhones (4GB, 128GB) and pays a total bill of \\$1800. Write the Python code to find the price of an Apple iPhone."
   ]
  },
  {
   "cell_type": "code",
   "execution_count": null,
   "metadata": {
    "colab": {
     "base_uri": "https://localhost:8080/"
    },
    "executionInfo": {
     "elapsed": 45,
     "status": "ok",
     "timestamp": 1695509241159,
     "user": {
      "displayName": "Fernando Diaz",
      "userId": "16819680563727310863"
     },
     "user_tz": 180
    },
    "id": "jd7Z5MDBWXkY",
    "outputId": "892c063f-3044-45d1-d333-8cabf60d6101"
   },
   "outputs": [
    {
     "name": "stdout",
     "output_type": "stream",
     "text": [
      "The price of an Apple iPhone is $900.0\n"
     ]
    }
   ],
   "source": [
    "# store the bill (in dollars) of the two mobiles in variable 'bill'\n",
    "bill = 1800\n",
    "# calculate the price of one mobile\n",
    "price = bill / 2\n",
    "print('The price of an Apple iPhone is $',price,sep='')"
   ]
  },
  {
   "cell_type": "markdown",
   "metadata": {
    "id": "G1LuAO-rRjhK"
   },
   "source": [
    "Q. Let's say a customer buys x numbers of Apple iPhones (4GB, 128GB) for $900 each. The total bill that the customer pays is \\$3600. Write the Python code to find the value of x."
   ]
  },
  {
   "cell_type": "code",
   "execution_count": null,
   "metadata": {
    "colab": {
     "base_uri": "https://localhost:8080/"
    },
    "executionInfo": {
     "elapsed": 44,
     "status": "ok",
     "timestamp": 1695509241159,
     "user": {
      "displayName": "Fernando Diaz",
      "userId": "16819680563727310863"
     },
     "user_tz": 180
    },
    "id": "UaiRRd3WReW6",
    "outputId": "8d1ef95c-f403-4849-ef65-e9cbeb3e9aa6"
   },
   "outputs": [
    {
     "name": "stdout",
     "output_type": "stream",
     "text": [
      "The customer buys 4 Apple iPhones\n"
     ]
    }
   ],
   "source": [
    "# store the bill (in dollars) of the mobile in variable 'bill'\n",
    "bill = 3600\n",
    "# store the price (in dollars) of the mobile in variable 'price'\n",
    "price = 900\n",
    "# calculate the number of iPhones that the customer buys\n",
    "x = bill // price # The // rounds the value to the nearest integer, while / will make it a float\n",
    "# double divided forces the answer to be an integer!\n",
    "print('The customer buys', x, 'Apple iPhones')"
   ]
  },
  {
   "cell_type": "markdown",
   "metadata": {
    "id": "cG-aP2YlFNzB"
   },
   "source": [
    "Q. Suppose the store plans to provide a 4.5% discount on the Apple iPhone. What will be the discounted price of the mobile?"
   ]
  },
  {
   "cell_type": "markdown",
   "metadata": {
    "id": "3fpYu_Z8Ndf0"
   },
   "source": [
    "**Type Conversion**: The process of converting one data type to another data type is called type conversion.\n",
    "\n",
    "In Python, we can perform two types of type conversion.\n",
    "\n",
    "1. Implicit Type Conversion - Here, Python automatically converts one data type to another in order to avoid data loss.\n",
    "\n",
    "2. Explicit Type Conversion - Here, the user can convert the data type of a variable to the required data type by using the in-built functions int(), float(), str(), etc.\n"
   ]
  },
  {
   "cell_type": "code",
   "execution_count": null,
   "metadata": {
    "colab": {
     "base_uri": "https://localhost:8080/"
    },
    "executionInfo": {
     "elapsed": 44,
     "status": "ok",
     "timestamp": 1695509241160,
     "user": {
      "displayName": "Fernando Diaz",
      "userId": "16819680563727310863"
     },
     "user_tz": 180
    },
    "id": "RmmOkRrwG6ac",
    "outputId": "c3daba15-c88a-4777-f5a1-e530217fe57d"
   },
   "outputs": [
    {
     "name": "stdout",
     "output_type": "stream",
     "text": [
      "The discounted price of the iPhone is 859.5\n"
     ]
    }
   ],
   "source": [
    "# store the price (in dollars) of the mobile in variable 'price'\n",
    "price = 900\n",
    "# calculate the discount amount\n",
    "discount = price * 0.045\n",
    "# calculate the discounted price\n",
    "discounted_price = price - discount\n",
    "print('The discounted price of the iPhone is ' + str(discounted_price))"
   ]
  },
  {
   "cell_type": "code",
   "execution_count": null,
   "metadata": {
    "colab": {
     "base_uri": "https://localhost:8080/"
    },
    "executionInfo": {
     "elapsed": 43,
     "status": "ok",
     "timestamp": 1695509241160,
     "user": {
      "displayName": "Fernando Diaz",
      "userId": "16819680563727310863"
     },
     "user_tz": 180
    },
    "id": "usYUYXiOCdVt",
    "outputId": "5e98b208-19e5-4dc7-d328-26c32686e71f"
   },
   "outputs": [
    {
     "data": {
      "text/plain": [
       "float"
      ]
     },
     "execution_count": 27,
     "metadata": {},
     "output_type": "execute_result"
    }
   ],
   "source": [
    "type(discounted_price)"
   ]
  },
  {
   "cell_type": "markdown",
   "metadata": {
    "id": "2SrYvKgAZv2c"
   },
   "source": [
    "Now, let's check the data type of the variables 'discount' and 'price'"
   ]
  },
  {
   "cell_type": "code",
   "execution_count": null,
   "metadata": {
    "colab": {
     "base_uri": "https://localhost:8080/"
    },
    "executionInfo": {
     "elapsed": 42,
     "status": "ok",
     "timestamp": 1695509241160,
     "user": {
      "displayName": "Fernando Diaz",
      "userId": "16819680563727310863"
     },
     "user_tz": 180
    },
    "id": "5vU-mAkiZ92S",
    "outputId": "dc661cc3-0f4b-43e3-ec66-0dc2e5cb666e"
   },
   "outputs": [
    {
     "name": "stdout",
     "output_type": "stream",
     "text": [
      "The data type of variable price is <class 'int'>\n",
      "The data type of variable discount is <class 'float'>\n"
     ]
    }
   ],
   "source": [
    "print('The data type of variable price is',type(price))\n",
    "print('The data type of variable discount is',type(discount))"
   ]
  },
  {
   "cell_type": "markdown",
   "metadata": {
    "id": "q05dBOmTwXuE"
   },
   "source": [
    "As we can see, the data type of 'discount' is float as Python is implicitly converting the lower data type to a higher data type to avoid data loss.\n",
    "\n",
    "Suppose we want to add the variables **brand**, **ram**, and **storage**.\n",
    "\n",
    "Will the implicit conversion work?\n",
    "\n",
    "Let's try it!"
   ]
  },
  {
   "cell_type": "code",
   "execution_count": null,
   "metadata": {
    "id": "F-JdovnFdDpu"
   },
   "outputs": [],
   "source": [
    "# print(brand + ' ' + ram + 'GB')"
   ]
  },
  {
   "cell_type": "markdown",
   "metadata": {
    "id": "R6NNDgIKdR8T"
   },
   "source": [
    "As we can see from the output, the TypeError is being raised which indicates that Python is not able to use Implicit Conversion in such conditions.\n",
    "\n",
    "But, we can do an explicit conversion for such cases."
   ]
  },
  {
   "cell_type": "code",
   "execution_count": null,
   "metadata": {
    "colab": {
     "base_uri": "https://localhost:8080/"
    },
    "executionInfo": {
     "elapsed": 41,
     "status": "ok",
     "timestamp": 1695509241160,
     "user": {
      "displayName": "Fernando Diaz",
      "userId": "16819680563727310863"
     },
     "user_tz": 180
    },
    "id": "zsm8ZdXIhCVf",
    "outputId": "d63fee27-a53c-4e19-f547-232832fca79d"
   },
   "outputs": [
    {
     "data": {
      "text/plain": [
       "str"
      ]
     },
     "execution_count": 30,
     "metadata": {},
     "output_type": "execute_result"
    }
   ],
   "source": [
    "type(brand)"
   ]
  },
  {
   "cell_type": "code",
   "execution_count": null,
   "metadata": {
    "colab": {
     "base_uri": "https://localhost:8080/"
    },
    "executionInfo": {
     "elapsed": 40,
     "status": "ok",
     "timestamp": 1695509241160,
     "user": {
      "displayName": "Fernando Diaz",
      "userId": "16819680563727310863"
     },
     "user_tz": 180
    },
    "id": "GqMA-NsshF2W",
    "outputId": "56242614-5cbe-42c0-a879-448662746c37"
   },
   "outputs": [
    {
     "data": {
      "text/plain": [
       "int"
      ]
     },
     "execution_count": 31,
     "metadata": {},
     "output_type": "execute_result"
    }
   ],
   "source": [
    "type(ram)"
   ]
  },
  {
   "cell_type": "code",
   "execution_count": null,
   "metadata": {
    "colab": {
     "base_uri": "https://localhost:8080/"
    },
    "executionInfo": {
     "elapsed": 39,
     "status": "ok",
     "timestamp": 1695509241160,
     "user": {
      "displayName": "Fernando Diaz",
      "userId": "16819680563727310863"
     },
     "user_tz": 180
    },
    "id": "dVc95KNThJLB",
    "outputId": "f54fb2d5-4e9d-4962-c586-f4d13490fb24"
   },
   "outputs": [
    {
     "name": "stdout",
     "output_type": "stream",
     "text": [
      "Apple 4 GB\n"
     ]
    }
   ],
   "source": [
    "# Let´s try this\n",
    "print(brand, ram, \"GB\")"
   ]
  },
  {
   "cell_type": "markdown",
   "metadata": {
    "id": "eVoH1y3HhoPW"
   },
   "source": [
    "Or using explicit type conversion"
   ]
  },
  {
   "cell_type": "code",
   "execution_count": null,
   "metadata": {
    "colab": {
     "base_uri": "https://localhost:8080/",
     "height": 35
    },
    "executionInfo": {
     "elapsed": 38,
     "status": "ok",
     "timestamp": 1695509241160,
     "user": {
      "displayName": "Fernando Diaz",
      "userId": "16819680563727310863"
     },
     "user_tz": 180
    },
    "id": "sSG3cdv0w630",
    "outputId": "6c743129-1652-414d-c7e2-4ad907d0a048"
   },
   "outputs": [
    {
     "data": {
      "application/vnd.google.colaboratory.intrinsic+json": {
       "type": "string"
      },
      "text/plain": [
       "'Apple 4GB'"
      ]
     },
     "execution_count": 33,
     "metadata": {},
     "output_type": "execute_result"
    }
   ],
   "source": [
    "brand + ' ' + str(ram) + 'GB' #We can add string variables together!"
   ]
  },
  {
   "cell_type": "code",
   "execution_count": null,
   "metadata": {
    "id": "UTpTdoIOi9Mu"
   },
   "outputs": [],
   "source": [
    "#a=\"Hi\"\n",
    "#b=int(a)\n",
    "#type(b)"
   ]
  },
  {
   "attachments": {},
   "cell_type": "markdown",
   "metadata": {
    "id": "rhZuvfjORCEh"
   },
   "source": [
    "### 1.4 Data Structures\n",
    "\n"
   ]
  },
  {
   "cell_type": "markdown",
   "metadata": {
    "id": "3qxT-ewKRNhU"
   },
   "source": [
    "**MobiWorld store has provided a snapshot of the details of mobile phones sold by them.**\n",
    "\n",
    "\n"
   ]
  },
  {
   "cell_type": "markdown",
   "metadata": {
    "id": "jyuWMd1kT8oE"
   },
   "source": [
    "| Brand | RAM (in GB) | Memory (in GB) | Price (in dollars) |\n",
    "| --- | --- | --- | --- |\n",
    "| Apple | 4 | 128 | 900 |\n",
    "| Samsung | 12 | 128 | 899 |\n",
    "| LG | 8 | 64 | 600 |\n",
    "| Apple | 8 | 128 | 1000 |\n",
    "\n",
    "\n"
   ]
  },
  {
   "cell_type": "markdown",
   "metadata": {
    "id": "OUF9q0yGUdKP"
   },
   "source": [
    "We know how to create a variable to store the brand name."
   ]
  },
  {
   "cell_type": "code",
   "execution_count": null,
   "metadata": {
    "colab": {
     "base_uri": "https://localhost:8080/"
    },
    "executionInfo": {
     "elapsed": 37,
     "status": "ok",
     "timestamp": 1695509241160,
     "user": {
      "displayName": "Fernando Diaz",
      "userId": "16819680563727310863"
     },
     "user_tz": 180
    },
    "id": "VCc3NBUoUbew",
    "outputId": "b274d28c-b38b-4879-c045-271c00eb5a04"
   },
   "outputs": [
    {
     "name": "stdout",
     "output_type": "stream",
     "text": [
      "Apple\n"
     ]
    }
   ],
   "source": [
    "Brand = 'Apple'\n",
    "print(Brand)"
   ]
  },
  {
   "cell_type": "markdown",
   "metadata": {
    "id": "X1G0u69v4YKD"
   },
   "source": [
    "#### List"
   ]
  },
  {
   "cell_type": "markdown",
   "metadata": {
    "id": "N5KIeBCPUxlY"
   },
   "source": [
    "Let's create a variable that will store all the brand names given in the above table. This can be achieved using the 'list' data struture in Python.\n",
    "\n",
    "Lists are used to store the data items inside square brackets [] where each data item is separated by a comma (,)"
   ]
  },
  {
   "cell_type": "code",
   "execution_count": null,
   "metadata": {
    "colab": {
     "base_uri": "https://localhost:8080/"
    },
    "executionInfo": {
     "elapsed": 37,
     "status": "ok",
     "timestamp": 1695509241161,
     "user": {
      "displayName": "Fernando Diaz",
      "userId": "16819680563727310863"
     },
     "user_tz": 180
    },
    "id": "NdRGH5VVULgp",
    "outputId": "ecf29901-f2d6-4b17-9e34-c6d002741f55"
   },
   "outputs": [
    {
     "data": {
      "text/plain": [
       "['Apple', 'Samsung', 'LG', 'Apple']"
      ]
     },
     "execution_count": 36,
     "metadata": {},
     "output_type": "execute_result"
    }
   ],
   "source": [
    "# create a list\n",
    "brand_list = ['Apple', 'Samsung', 'LG', 'Apple']\n",
    "brand_list"
   ]
  },
  {
   "cell_type": "code",
   "execution_count": null,
   "metadata": {
    "colab": {
     "base_uri": "https://localhost:8080/"
    },
    "executionInfo": {
     "elapsed": 36,
     "status": "ok",
     "timestamp": 1695509241161,
     "user": {
      "displayName": "Fernando Diaz",
      "userId": "16819680563727310863"
     },
     "user_tz": 180
    },
    "id": "Gs5hLI-zVybq",
    "outputId": "3b1c95a2-c212-41a3-f161-a2ebbab68e5d"
   },
   "outputs": [
    {
     "data": {
      "text/plain": [
       "list"
      ]
     },
     "execution_count": 37,
     "metadata": {},
     "output_type": "execute_result"
    }
   ],
   "source": [
    "# check the type of the variable 'brand_list'\n",
    "type(brand_list)"
   ]
  },
  {
   "cell_type": "markdown",
   "metadata": {
    "id": "f8k9SsafaAh5"
   },
   "source": [
    "Let's create lists for other attributes as well."
   ]
  },
  {
   "cell_type": "code",
   "execution_count": null,
   "metadata": {
    "id": "pz296Fu9aKkD"
   },
   "outputs": [],
   "source": [
    "ram_list = [4, 12, 8, 8]\n",
    "storage_list = [128, 128, 64, 128]\n",
    "price_list = [900, 899, 600, 1000]"
   ]
  },
  {
   "cell_type": "code",
   "execution_count": null,
   "metadata": {
    "colab": {
     "base_uri": "https://localhost:8080/"
    },
    "executionInfo": {
     "elapsed": 35,
     "status": "ok",
     "timestamp": 1695509241161,
     "user": {
      "displayName": "Fernando Diaz",
      "userId": "16819680563727310863"
     },
     "user_tz": 180
    },
    "id": "uyvz9uRCa8Vw",
    "outputId": "fba2db8d-a0fb-4d88-935e-8164dc43fa4e"
   },
   "outputs": [
    {
     "name": "stdout",
     "output_type": "stream",
     "text": [
      "RAM List: [4, 12, 8, 8]\n",
      "Storage List: [128, 128, 64, 128]\n",
      "Price List: [900, 899, 600, 1000]\n"
     ]
    }
   ],
   "source": [
    "# let's print the lists we created\n",
    "print('RAM List:', ram_list)\n",
    "print('Storage List:', storage_list)\n",
    "print('Price List:', price_list)"
   ]
  },
  {
   "cell_type": "markdown",
   "metadata": {
    "id": "gcUOproLbUrd"
   },
   "source": [
    "Now, we have created lists for all attributes with the provided data. There are various operations that can be performed on lists to extract information from the data. Let's understand a few important methods by answering some questions."
   ]
  },
  {
   "cell_type": "markdown",
   "metadata": {
    "id": "XZ-I7h-mcTfQ"
   },
   "source": [
    "Q. How many records are stored in the list brand_list?"
   ]
  },
  {
   "cell_type": "markdown",
   "metadata": {
    "id": "8bMPW9ltctr-"
   },
   "source": [
    "\n",
    "\n",
    "* len() is an in-built function in Python that provides the count of elements inside a list. In-built functions are functions that are already defined in the Python framework to perform a task.\n",
    "\n"
   ]
  },
  {
   "cell_type": "code",
   "execution_count": null,
   "metadata": {
    "colab": {
     "base_uri": "https://localhost:8080/"
    },
    "executionInfo": {
     "elapsed": 34,
     "status": "ok",
     "timestamp": 1695509241161,
     "user": {
      "displayName": "Fernando Diaz",
      "userId": "16819680563727310863"
     },
     "user_tz": 180
    },
    "id": "C_aMKnD9cn29",
    "outputId": "f57bb6ca-0a2b-4c48-f77f-6730283490c8"
   },
   "outputs": [
    {
     "data": {
      "text/plain": [
       "4"
      ]
     },
     "execution_count": 40,
     "metadata": {},
     "output_type": "execute_result"
    }
   ],
   "source": [
    "len(brand_list)"
   ]
  },
  {
   "cell_type": "code",
   "execution_count": null,
   "metadata": {
    "colab": {
     "base_uri": "https://localhost:8080/"
    },
    "executionInfo": {
     "elapsed": 34,
     "status": "ok",
     "timestamp": 1695509241161,
     "user": {
      "displayName": "Fernando Diaz",
      "userId": "16819680563727310863"
     },
     "user_tz": 180
    },
    "id": "OKqxlX3a6fVl",
    "outputId": "136ee56d-5500-4b6d-fde2-16df582f125c"
   },
   "outputs": [
    {
     "name": "stdout",
     "output_type": "stream",
     "text": [
      "['Apple', 'Samsung', 'LG', 'Apple']\n"
     ]
    }
   ],
   "source": [
    "print(brand_list)"
   ]
  },
  {
   "cell_type": "markdown",
   "metadata": {
    "id": "ucTw2ifG-glr"
   },
   "source": [
    "We have 4 records"
   ]
  },
  {
   "cell_type": "markdown",
   "metadata": {
    "id": "6z_HEP48dBfH"
   },
   "source": [
    "Q. Find the minimum and maximum price among the mobile phones sold by the store."
   ]
  },
  {
   "cell_type": "markdown",
   "metadata": {
    "id": "UqCrWx7d_QD-"
   },
   "source": [
    "* min() and max() are in-built functions in Python that calculates the minimum and maximum values among the items in a list (or some other data types)."
   ]
  },
  {
   "cell_type": "code",
   "execution_count": null,
   "metadata": {
    "colab": {
     "base_uri": "https://localhost:8080/"
    },
    "executionInfo": {
     "elapsed": 34,
     "status": "ok",
     "timestamp": 1695509241162,
     "user": {
      "displayName": "Fernando Diaz",
      "userId": "16819680563727310863"
     },
     "user_tz": 180
    },
    "id": "Jlj1uxuNd-hw",
    "outputId": "91c2eb30-8499-40d6-c89f-83a81d23f940"
   },
   "outputs": [
    {
     "name": "stdout",
     "output_type": "stream",
     "text": [
      "The minimum price is $600\n",
      "The maximum price is $1000\n"
     ]
    }
   ],
   "source": [
    "# minimum price\n",
    "min_price = min(price_list)\n",
    "print('The minimum price is $' + str(min_price))\n",
    "# maximum price\n",
    "max_price = max(price_list)\n",
    "print('The maximum price is $' + str(max_price))"
   ]
  },
  {
   "cell_type": "markdown",
   "metadata": {
    "id": "aIihYl6veE6t"
   },
   "source": [
    "* The minimum and maximum prices are \\$600 and $1000 respectively.\n",
    "\n"
   ]
  },
  {
   "cell_type": "markdown",
   "metadata": {
    "id": "XNuquyGf5CPM"
   },
   "source": [
    "As a list may contain a large number of items in it, there should be a way to access the item that we want. This is achieved by indexing the list to access the required item.\n",
    "\n",
    "Q. Print the third item in the list ram_list."
   ]
  },
  {
   "cell_type": "markdown",
   "metadata": {
    "id": "uqHY5ehU5HKQ"
   },
   "source": [
    "* Indexing in list is done by specifying the index inside square brackets. In python, indexing starts with 0. That is, the first item has the index 0, the second has the index 1 and so on."
   ]
  },
  {
   "cell_type": "code",
   "execution_count": null,
   "metadata": {
    "colab": {
     "base_uri": "https://localhost:8080/"
    },
    "executionInfo": {
     "elapsed": 33,
     "status": "ok",
     "timestamp": 1695509241162,
     "user": {
      "displayName": "Fernando Diaz",
      "userId": "16819680563727310863"
     },
     "user_tz": 180
    },
    "id": "_amZFVGQ5LzK",
    "outputId": "e500ee2b-ca9f-4733-d377-be1e24149e63"
   },
   "outputs": [
    {
     "name": "stdout",
     "output_type": "stream",
     "text": [
      "8\n"
     ]
    }
   ],
   "source": [
    "# indexing to get the third item in ram_list\n",
    "print(ram_list[2])"
   ]
  },
  {
   "cell_type": "code",
   "execution_count": null,
   "metadata": {
    "colab": {
     "base_uri": "https://localhost:8080/"
    },
    "executionInfo": {
     "elapsed": 32,
     "status": "ok",
     "timestamp": 1695509241162,
     "user": {
      "displayName": "Fernando Diaz",
      "userId": "16819680563727310863"
     },
     "user_tz": 180
    },
    "id": "Fsa237Ae7V8w",
    "outputId": "b430ed87-9a9e-42eb-8229-0dfad538ea10"
   },
   "outputs": [
    {
     "data": {
      "text/plain": [
       "8"
      ]
     },
     "execution_count": 44,
     "metadata": {},
     "output_type": "execute_result"
    }
   ],
   "source": [
    "ram_list[2]"
   ]
  },
  {
   "cell_type": "markdown",
   "metadata": {
    "id": "010MLnYv5RF5"
   },
   "source": [
    "Q. Print the first three items from the list price_list."
   ]
  },
  {
   "cell_type": "markdown",
   "metadata": {
    "id": "a5WRJWAz5T3q"
   },
   "source": [
    "* We can also select a range of indices to access more than 1 item. This can be done by using a colon (:) between the start and stop index"
   ]
  },
  {
   "cell_type": "code",
   "execution_count": null,
   "metadata": {
    "colab": {
     "base_uri": "https://localhost:8080/"
    },
    "executionInfo": {
     "elapsed": 32,
     "status": "ok",
     "timestamp": 1695509241162,
     "user": {
      "displayName": "Fernando Diaz",
      "userId": "16819680563727310863"
     },
     "user_tz": 180
    },
    "id": "31v2bdjK5fsV",
    "outputId": "7c8be416-1e46-4e16-fec4-1218a04b9023"
   },
   "outputs": [
    {
     "name": "stdout",
     "output_type": "stream",
     "text": [
      "[900, 899, 600]\n"
     ]
    }
   ],
   "source": [
    "# first three items in price_list\n",
    "print(price_list[0:3])"
   ]
  },
  {
   "cell_type": "markdown",
   "metadata": {
    "id": "Y-UXUhxZ5jPL"
   },
   "source": [
    "Notice that in such an indexing, the output includes the item at the start index (index 0) but excludes the item at the stop index (index 3). The index [0:3] has included the items at indices 0, 1 and 2"
   ]
  },
  {
   "cell_type": "code",
   "execution_count": null,
   "metadata": {
    "colab": {
     "base_uri": "https://localhost:8080/"
    },
    "executionInfo": {
     "elapsed": 31,
     "status": "ok",
     "timestamp": 1695509241162,
     "user": {
      "displayName": "Fernando Diaz",
      "userId": "16819680563727310863"
     },
     "user_tz": 180
    },
    "id": "8U4D24S28KlI",
    "outputId": "0644ed56-17a0-487e-c3ff-7e49707cd952"
   },
   "outputs": [
    {
     "name": "stdout",
     "output_type": "stream",
     "text": [
      "[900, 899, 600, 1000]\n"
     ]
    }
   ],
   "source": [
    "print(price_list)"
   ]
  },
  {
   "cell_type": "markdown",
   "metadata": {
    "id": "IQ7KaeJE5m7U"
   },
   "source": [
    "Q. Print the last item in the list brand_list."
   ]
  },
  {
   "cell_type": "markdown",
   "metadata": {
    "id": "KSsQP0g75p2K"
   },
   "source": [
    "* The last item can also be accessed using its index. But, if the list is too large, counting the index for the last item may not be the best way. Here's how the last item can be accessed for any list."
   ]
  },
  {
   "cell_type": "code",
   "execution_count": null,
   "metadata": {
    "colab": {
     "base_uri": "https://localhost:8080/"
    },
    "executionInfo": {
     "elapsed": 30,
     "status": "ok",
     "timestamp": 1695509241162,
     "user": {
      "displayName": "Fernando Diaz",
      "userId": "16819680563727310863"
     },
     "user_tz": 180
    },
    "id": "NwovAGAn5rzu",
    "outputId": "3ae9afce-bc76-419b-e3e1-1319eba007ef"
   },
   "outputs": [
    {
     "name": "stdout",
     "output_type": "stream",
     "text": [
      "Apple\n"
     ]
    }
   ],
   "source": [
    "# last item in brand_list\n",
    "print(brand_list[-1])"
   ]
  },
  {
   "cell_type": "code",
   "execution_count": null,
   "metadata": {
    "colab": {
     "base_uri": "https://localhost:8080/"
    },
    "executionInfo": {
     "elapsed": 29,
     "status": "ok",
     "timestamp": 1695509241162,
     "user": {
      "displayName": "Fernando Diaz",
      "userId": "16819680563727310863"
     },
     "user_tz": 180
    },
    "id": "4bFGz7a88Ukb",
    "outputId": "91816242-fad6-431b-e9da-6defb452efa5"
   },
   "outputs": [
    {
     "name": "stdout",
     "output_type": "stream",
     "text": [
      "['Apple', 'Samsung', 'LG', 'Apple']\n"
     ]
    }
   ],
   "source": [
    "print(brand_list)"
   ]
  },
  {
   "cell_type": "markdown",
   "metadata": {
    "id": "f1Omoi3ThWZS"
   },
   "source": [
    "The Store finds out that for the last record in the data, the brand name provided was not correct.\n",
    "\n",
    "Q. Remove the last element from the list brand_list."
   ]
  },
  {
   "cell_type": "markdown",
   "metadata": {
    "id": "3PLiR1eriB0r"
   },
   "source": [
    "* pop() is a list method that removes the item at the given index and returns the removed item . If the index is not specified, by default, it removes the last element. To confirm we can check the list again."
   ]
  },
  {
   "cell_type": "code",
   "execution_count": null,
   "metadata": {
    "colab": {
     "base_uri": "https://localhost:8080/",
     "height": 35
    },
    "executionInfo": {
     "elapsed": 29,
     "status": "ok",
     "timestamp": 1695509241162,
     "user": {
      "displayName": "Fernando Diaz",
      "userId": "16819680563727310863"
     },
     "user_tz": 180
    },
    "id": "GLU8d4VLhgBo",
    "outputId": "819b7455-65d0-49c8-8383-a1b9d21d9afd"
   },
   "outputs": [
    {
     "data": {
      "application/vnd.google.colaboratory.intrinsic+json": {
       "type": "string"
      },
      "text/plain": [
       "'Apple'"
      ]
     },
     "execution_count": 49,
     "metadata": {},
     "output_type": "execute_result"
    }
   ],
   "source": [
    "brand_list.pop()"
   ]
  },
  {
   "cell_type": "code",
   "execution_count": null,
   "metadata": {
    "colab": {
     "base_uri": "https://localhost:8080/"
    },
    "executionInfo": {
     "elapsed": 29,
     "status": "ok",
     "timestamp": 1695509241163,
     "user": {
      "displayName": "Fernando Diaz",
      "userId": "16819680563727310863"
     },
     "user_tz": 180
    },
    "id": "GKlrRebCkcSl",
    "outputId": "c26ce342-debd-4a86-ee50-8da0e6564af6"
   },
   "outputs": [
    {
     "data": {
      "text/plain": [
       "['Apple', 'Samsung', 'LG']"
      ]
     },
     "execution_count": 50,
     "metadata": {},
     "output_type": "execute_result"
    }
   ],
   "source": [
    "brand_list"
   ]
  },
  {
   "cell_type": "markdown",
   "metadata": {
    "id": "wq_76ZPjkdpN"
   },
   "source": [
    "As we can see the last element got removed. Now, the Store informs that the correct brand name should be \"Motorola'.\n",
    "\n",
    "Q. Insert 'Motorola' to the list brand_list\n",
    "\n",
    "\n"
   ]
  },
  {
   "cell_type": "markdown",
   "metadata": {
    "id": "YkMJ6BX86fup"
   },
   "source": [
    "* The append() method adds a single item to an existing list."
   ]
  },
  {
   "cell_type": "code",
   "execution_count": null,
   "metadata": {
    "colab": {
     "base_uri": "https://localhost:8080/"
    },
    "executionInfo": {
     "elapsed": 28,
     "status": "ok",
     "timestamp": 1695509241163,
     "user": {
      "displayName": "Fernando Diaz",
      "userId": "16819680563727310863"
     },
     "user_tz": 180
    },
    "id": "OWRzQJ5FmJMq",
    "outputId": "5b91373b-8a6e-4c30-bbb0-a07e759bca50"
   },
   "outputs": [
    {
     "data": {
      "text/plain": [
       "['Apple', 'Samsung', 'LG', 'Motorola']"
      ]
     },
     "execution_count": 51,
     "metadata": {},
     "output_type": "execute_result"
    }
   ],
   "source": [
    "brand_list.append('Motorola')\n",
    "brand_list"
   ]
  },
  {
   "cell_type": "code",
   "execution_count": null,
   "metadata": {
    "colab": {
     "base_uri": "https://localhost:8080/"
    },
    "executionInfo": {
     "elapsed": 27,
     "status": "ok",
     "timestamp": 1695509241163,
     "user": {
      "displayName": "Fernando Diaz",
      "userId": "16819680563727310863"
     },
     "user_tz": 180
    },
    "id": "qxGjoIqOAm-l",
    "outputId": "221b7068-5ec4-4986-e71c-6172d305722e"
   },
   "outputs": [
    {
     "name": "stdout",
     "output_type": "stream",
     "text": [
      "['Apple', 'Samsung', 'LG', 'Apple']\n"
     ]
    }
   ],
   "source": [
    "brand_list[3] = 'Apple'\n",
    "print(brand_list)\n"
   ]
  },
  {
   "cell_type": "code",
   "execution_count": null,
   "metadata": {
    "colab": {
     "base_uri": "https://localhost:8080/"
    },
    "executionInfo": {
     "elapsed": 26,
     "status": "ok",
     "timestamp": 1695509241163,
     "user": {
      "displayName": "Fernando Diaz",
      "userId": "16819680563727310863"
     },
     "user_tz": 180
    },
    "id": "ogGGnKahAzr8",
    "outputId": "7551871e-b1cf-47b3-ff96-24d213980324"
   },
   "outputs": [
    {
     "data": {
      "text/plain": [
       "['Apple', 'Samsung', 'LG', 'Motorola']"
      ]
     },
     "execution_count": 53,
     "metadata": {},
     "output_type": "execute_result"
    }
   ],
   "source": [
    "brand_list[3] = 'Motorola'\n",
    "brand_list"
   ]
  },
  {
   "cell_type": "markdown",
   "metadata": {
    "id": "EwtvxH6HmLvQ"
   },
   "source": [
    "We have succesfully corrected the list now."
   ]
  },
  {
   "cell_type": "markdown",
   "metadata": {
    "id": "rlcQJDLlFUuz"
   },
   "source": [
    "#### Tuple"
   ]
  },
  {
   "cell_type": "markdown",
   "metadata": {
    "id": "cCG1aiFWFXcY"
   },
   "source": [
    "Now that you have learned about lists, you know that data can be modified and altered in a list, making it a mutable data structure. Sometimes, you might want to store data which should not be altered, for example storage. The storage in a mobile phone is in terms of powers of 2, that is, 32 GB, 64 GB, 128 GB, etc. You do not want to alter the number 32 and change it to 30.\n",
    "\n",
    "Q. Store the storage specifications 32/64/128/256 as an immutable variable."
   ]
  },
  {
   "cell_type": "code",
   "execution_count": null,
   "metadata": {
    "colab": {
     "base_uri": "https://localhost:8080/"
    },
    "executionInfo": {
     "elapsed": 25,
     "status": "ok",
     "timestamp": 1695509241163,
     "user": {
      "displayName": "Fernando Diaz",
      "userId": "16819680563727310863"
     },
     "user_tz": 180
    },
    "id": "asSlUBP6Iep3",
    "outputId": "84a01af2-db76-4587-c761-4c720b85504e"
   },
   "outputs": [
    {
     "name": "stdout",
     "output_type": "stream",
     "text": [
      "(32, 64, 128, 256)\n"
     ]
    }
   ],
   "source": [
    "storage = (32,64,128,256)\n",
    "print(storage)"
   ]
  },
  {
   "cell_type": "code",
   "execution_count": null,
   "metadata": {
    "colab": {
     "base_uri": "https://localhost:8080/"
    },
    "executionInfo": {
     "elapsed": 24,
     "status": "ok",
     "timestamp": 1695509241163,
     "user": {
      "displayName": "Fernando Diaz",
      "userId": "16819680563727310863"
     },
     "user_tz": 180
    },
    "id": "5HOrggg8JBBx",
    "outputId": "ae9e29cc-177e-4b8f-d4ee-079342b80c26"
   },
   "outputs": [
    {
     "data": {
      "text/plain": [
       "tuple"
      ]
     },
     "execution_count": 55,
     "metadata": {},
     "output_type": "execute_result"
    }
   ],
   "source": [
    "type(storage)"
   ]
  },
  {
   "cell_type": "markdown",
   "metadata": {
    "id": "RkusDTP8I4FJ"
   },
   "source": [
    "* The above data structure structure is called a tuple. A tuple in Python is similar to a list. The difference between the two is that unlike lists we cannot change the elements of a tuple once it is assigned. While list are defined using [ ], tuples are definded using ( )."
   ]
  },
  {
   "cell_type": "markdown",
   "metadata": {
    "id": "PXRJO7GCJqp3"
   },
   "source": [
    "Indexing in tuple is similar to indexing in lists.\n",
    "\n",
    "Q. Print the second item in the tuple **storage**"
   ]
  },
  {
   "cell_type": "code",
   "execution_count": null,
   "metadata": {
    "colab": {
     "base_uri": "https://localhost:8080/"
    },
    "executionInfo": {
     "elapsed": 23,
     "status": "ok",
     "timestamp": 1695509241163,
     "user": {
      "displayName": "Fernando Diaz",
      "userId": "16819680563727310863"
     },
     "user_tz": 180
    },
    "id": "MPV67Nb7J1xC",
    "outputId": "eb4a1d20-7e02-4200-d7dd-5fccdf019ede"
   },
   "outputs": [
    {
     "name": "stdout",
     "output_type": "stream",
     "text": [
      "64\n"
     ]
    }
   ],
   "source": [
    "print(storage[1])"
   ]
  },
  {
   "cell_type": "markdown",
   "metadata": {
    "id": "4DYux3LMMib_"
   },
   "source": [
    "Let's try changing the second item to 60 and see if it works."
   ]
  },
  {
   "cell_type": "code",
   "execution_count": null,
   "metadata": {
    "id": "dBOc6JBkMnjD"
   },
   "outputs": [],
   "source": [
    "# try changing an item in a tuple\n",
    "# storage[1]=60"
   ]
  },
  {
   "cell_type": "code",
   "execution_count": null,
   "metadata": {
    "colab": {
     "base_uri": "https://localhost:8080/"
    },
    "executionInfo": {
     "elapsed": 22,
     "status": "ok",
     "timestamp": 1695509241163,
     "user": {
      "displayName": "Fernando Diaz",
      "userId": "16819680563727310863"
     },
     "user_tz": 180
    },
    "id": "EVpfK94zAjgu",
    "outputId": "0810b52b-150b-47b0-e025-81bcb10e8a45"
   },
   "outputs": [
    {
     "name": "stdout",
     "output_type": "stream",
     "text": [
      "(-50, 5.6)\n"
     ]
    }
   ],
   "source": [
    "X = (20,23,-50,5.6,98)\n",
    "print(X[2:-1])"
   ]
  },
  {
   "cell_type": "markdown",
   "metadata": {
    "id": "U_JDEPZmMwbn"
   },
   "source": [
    "As can be seen from the TypeError, items cannot be altered in a tuple."
   ]
  },
  {
   "cell_type": "markdown",
   "metadata": {
    "id": "kRjiRzYl9Xuy"
   },
   "source": [
    "#### Dictionary"
   ]
  },
  {
   "cell_type": "markdown",
   "metadata": {
    "id": "2sGaZr6V6xz-"
   },
   "source": [
    "Lists are great for storing data for a single attribute. But, we might want to add more information about the items in a variable. Suppose the store wants to store the attributes **brand, ram, storage,** and **price** in a single variable.\n",
    "\n",
    "Q. Store the attributes of an Apple iPhone (4GB, 128GB) of price of $800 in a single variable."
   ]
  },
  {
   "cell_type": "code",
   "execution_count": null,
   "metadata": {
    "colab": {
     "base_uri": "https://localhost:8080/"
    },
    "executionInfo": {
     "elapsed": 21,
     "status": "ok",
     "timestamp": 1695509241163,
     "user": {
      "displayName": "Fernando Diaz",
      "userId": "16819680563727310863"
     },
     "user_tz": 180
    },
    "id": "4cwMCttF6yfe",
    "outputId": "6746ab9d-f57c-4cd3-940d-7838d659105d"
   },
   "outputs": [
    {
     "name": "stdout",
     "output_type": "stream",
     "text": [
      "{'Brand': 'Apple', 'RAM (in GB)': 4, 'Storage (in GB)': 128, 'Price (in $)': 800}\n"
     ]
    }
   ],
   "source": [
    "# creating a dictionary\n",
    "attributes = {\n",
    "    'Brand':'Apple',\n",
    "    'RAM (in GB)':4,\n",
    "    'Storage (in GB)':128,\n",
    "    'Price (in $)':800\n",
    "    }\n",
    "print(attributes)"
   ]
  },
  {
   "cell_type": "code",
   "execution_count": null,
   "metadata": {
    "colab": {
     "base_uri": "https://localhost:8080/"
    },
    "executionInfo": {
     "elapsed": 21,
     "status": "ok",
     "timestamp": 1695509241164,
     "user": {
      "displayName": "Fernando Diaz",
      "userId": "16819680563727310863"
     },
     "user_tz": 180
    },
    "id": "MRBEI4Cq6yon",
    "outputId": "a217d6c4-41f3-4fa6-da78-408cc9a080a3"
   },
   "outputs": [
    {
     "data": {
      "text/plain": [
       "dict"
      ]
     },
     "execution_count": 60,
     "metadata": {},
     "output_type": "execute_result"
    }
   ],
   "source": [
    "type(attributes)"
   ]
  },
  {
   "cell_type": "markdown",
   "metadata": {
    "id": "LZNjeZOl6yuX"
   },
   "source": [
    "* The above data structure is called a dictionary. Dictionaries are used to store data values in key:value pairs. Dictionaries are written with curly brackets {}, and have keys and values. Keys must be unique."
   ]
  },
  {
   "cell_type": "markdown",
   "metadata": {
    "id": "tl9LAqoH6yzS"
   },
   "source": [
    "Q. Extract the price from the dictionary attributes."
   ]
  },
  {
   "cell_type": "code",
   "execution_count": null,
   "metadata": {
    "colab": {
     "base_uri": "https://localhost:8080/"
    },
    "executionInfo": {
     "elapsed": 21,
     "status": "ok",
     "timestamp": 1695509241164,
     "user": {
      "displayName": "Fernando Diaz",
      "userId": "16819680563727310863"
     },
     "user_tz": 180
    },
    "id": "CzHdoQlB6y3v",
    "outputId": "2453e1f8-a36b-4d15-9a32-2a962b55f17f"
   },
   "outputs": [
    {
     "name": "stdout",
     "output_type": "stream",
     "text": [
      "800\n"
     ]
    }
   ],
   "source": [
    "# extract information from dictionary\n",
    "print(attributes['Price (in $)'])"
   ]
  },
  {
   "cell_type": "code",
   "execution_count": null,
   "metadata": {
    "colab": {
     "base_uri": "https://localhost:8080/"
    },
    "executionInfo": {
     "elapsed": 20,
     "status": "ok",
     "timestamp": 1695509241164,
     "user": {
      "displayName": "Fernando Diaz",
      "userId": "16819680563727310863"
     },
     "user_tz": 180
    },
    "id": "duvWdjE5ni6F",
    "outputId": "bf8e0159-df2a-4591-9175-9e3f80d806f3"
   },
   "outputs": [
    {
     "data": {
      "text/plain": [
       "800"
      ]
     },
     "execution_count": 62,
     "metadata": {},
     "output_type": "execute_result"
    }
   ],
   "source": [
    "attributes['Price (in $)']"
   ]
  },
  {
   "cell_type": "markdown",
   "metadata": {
    "id": "6NIP3jxK6y74"
   },
   "source": [
    "* For the above pair, 'Price (in $)' is the key and 800 is the value.\n",
    "\n"
   ]
  },
  {
   "cell_type": "markdown",
   "metadata": {
    "id": "PCVO_dye6y_7"
   },
   "source": [
    "Dictionary items are ordered, changeable, and does not allow duplicates.\n",
    "\n",
    "Q. Change the price in attributes to 900"
   ]
  },
  {
   "cell_type": "code",
   "execution_count": null,
   "metadata": {
    "colab": {
     "base_uri": "https://localhost:8080/"
    },
    "executionInfo": {
     "elapsed": 19,
     "status": "ok",
     "timestamp": 1695509241164,
     "user": {
      "displayName": "Fernando Diaz",
      "userId": "16819680563727310863"
     },
     "user_tz": 180
    },
    "id": "TKkiBcId6zEe",
    "outputId": "dca0649d-f4fe-4a87-98db-5ffd147bc753"
   },
   "outputs": [
    {
     "name": "stdout",
     "output_type": "stream",
     "text": [
      "{'Brand': 'Apple', 'RAM (in GB)': 4, 'Storage (in GB)': 128, 'Price (in $)': 900}\n"
     ]
    }
   ],
   "source": [
    "attributes['Price (in $)'] = 900\n",
    "print(attributes)"
   ]
  },
  {
   "cell_type": "markdown",
   "metadata": {
    "id": "45krqXL96zIl"
   },
   "source": [
    "**Now**, that you have learned how to create a dictionary, let's store data for multiple mobile phones in it. **The values in a dictionary can also be a list to store information for more than one product.**\n",
    "\n",
    "Q. Create a dictionary **products** for storing the attributes of 4 different mobile phones."
   ]
  },
  {
   "cell_type": "code",
   "execution_count": null,
   "metadata": {
    "colab": {
     "base_uri": "https://localhost:8080/"
    },
    "executionInfo": {
     "elapsed": 18,
     "status": "ok",
     "timestamp": 1695509241164,
     "user": {
      "displayName": "Fernando Diaz",
      "userId": "16819680563727310863"
     },
     "user_tz": 180
    },
    "id": "NsoJ2cyA6zMw",
    "outputId": "1fbe2f8e-d3db-456a-b995-c75518576622"
   },
   "outputs": [
    {
     "name": "stdout",
     "output_type": "stream",
     "text": [
      "{'Brand': ['Apple', 'Samsung', 'LG', 'Motorola'], 'RAM (in GB)': [4, 12, 8, 8], 'Storage (in GB)': [128, 128, 64, 128], 'Price (in $)': [900, 899, 600, 1000]}\n"
     ]
    }
   ],
   "source": [
    "# creating a dictionary for storing data.\n",
    "products = {\n",
    "    'Brand':brand_list,\n",
    "    'RAM (in GB)':ram_list,\n",
    "    'Storage (in GB)':storage_list,\n",
    "    'Price (in $)':price_list\n",
    "    }\n",
    "print(products)"
   ]
  },
  {
   "cell_type": "markdown",
   "metadata": {
    "id": "kKJpHALM7PXY"
   },
   "source": [
    "Using a dictionary, we have stored a lot of information in a single variable."
   ]
  },
  {
   "cell_type": "markdown",
   "metadata": {
    "id": "hoJ8bnAC7O1L"
   },
   "source": [
    "Q. Extract the keys and values from the dictionary **products**"
   ]
  },
  {
   "cell_type": "markdown",
   "metadata": {
    "id": "H49Xs3EL7V4T"
   },
   "source": [
    "* keys() and values() are methods of a dictionary to extract the lists of dictionary keys and dictionary values respectively."
   ]
  },
  {
   "cell_type": "code",
   "execution_count": null,
   "metadata": {
    "colab": {
     "base_uri": "https://localhost:8080/"
    },
    "executionInfo": {
     "elapsed": 18,
     "status": "ok",
     "timestamp": 1695509241165,
     "user": {
      "displayName": "Fernando Diaz",
      "userId": "16819680563727310863"
     },
     "user_tz": 180
    },
    "id": "n6neMTb47YGT",
    "outputId": "e317c791-37d8-43e8-bca2-4ee11efaa79f"
   },
   "outputs": [
    {
     "name": "stdout",
     "output_type": "stream",
     "text": [
      "The keys of the dictionary are :\n",
      " dict_keys(['Brand', 'RAM (in GB)', 'Storage (in GB)', 'Price (in $)'])\n",
      "The values of the dictionary are :\n",
      " dict_values([['Apple', 'Samsung', 'LG', 'Motorola'], [4, 12, 8, 8], [128, 128, 64, 128], [900, 899, 600, 1000]])\n"
     ]
    }
   ],
   "source": [
    "# keys of a dictionary\n",
    "keys = products.keys()\n",
    "print('The keys of the dictionary are :\\n',keys)\n",
    "# values of a dictionary\n",
    "values = products.values()\n",
    "print('The values of the dictionary are :\\n', values)"
   ]
  },
  {
   "cell_type": "code",
   "execution_count": null,
   "metadata": {
    "colab": {
     "base_uri": "https://localhost:8080/"
    },
    "executionInfo": {
     "elapsed": 18,
     "status": "ok",
     "timestamp": 1695509241165,
     "user": {
      "displayName": "Fernando Diaz",
      "userId": "16819680563727310863"
     },
     "user_tz": 180
    },
    "id": "lTsHd_OBGhIQ",
    "outputId": "b9046ab1-fa59-47ae-8f76-4ca4157f3121"
   },
   "outputs": [
    {
     "data": {
      "text/plain": [
       "12"
      ]
     },
     "execution_count": 66,
     "metadata": {},
     "output_type": "execute_result"
    }
   ],
   "source": [
    "products['RAM (in GB)'][1]"
   ]
  },
  {
   "cell_type": "code",
   "execution_count": null,
   "metadata": {
    "colab": {
     "base_uri": "https://localhost:8080/"
    },
    "executionInfo": {
     "elapsed": 17,
     "status": "ok",
     "timestamp": 1695509241165,
     "user": {
      "displayName": "Fernando Diaz",
      "userId": "16819680563727310863"
     },
     "user_tz": 180
    },
    "id": "_hYXbarOpqfE",
    "outputId": "979536cf-d622-4f77-8300-1e902b5b544c"
   },
   "outputs": [
    {
     "data": {
      "text/plain": [
       "[4, 12, 8, 8]"
      ]
     },
     "execution_count": 67,
     "metadata": {},
     "output_type": "execute_result"
    }
   ],
   "source": [
    "products['RAM (in GB)']"
   ]
  },
  {
   "cell_type": "code",
   "execution_count": null,
   "metadata": {
    "colab": {
     "base_uri": "https://localhost:8080/"
    },
    "executionInfo": {
     "elapsed": 16,
     "status": "ok",
     "timestamp": 1695509241165,
     "user": {
      "displayName": "Fernando Diaz",
      "userId": "16819680563727310863"
     },
     "user_tz": 180
    },
    "id": "mEoVpJvaq97w",
    "outputId": "636be782-f987-4a57-e517-2255d664fd4c"
   },
   "outputs": [
    {
     "name": "stdout",
     "output_type": "stream",
     "text": [
      "{1: 'USA', 2: 'India', 3: 'Japan'}\n"
     ]
    }
   ],
   "source": [
    "dictionary={1:\"USA\", 2:\"India\", 3:\"China\"}\n",
    "dictionary.update({3:\"Japan\"})\n",
    "print(dictionary)"
   ]
  },
  {
   "cell_type": "code",
   "execution_count": null,
   "metadata": {
    "colab": {
     "base_uri": "https://localhost:8080/"
    },
    "executionInfo": {
     "elapsed": 15,
     "status": "ok",
     "timestamp": 1695509241165,
     "user": {
      "displayName": "Fernando Diaz",
      "userId": "16819680563727310863"
     },
     "user_tz": 180
    },
    "id": "wjeliMxcrUiO",
    "outputId": "54dcaa21-596c-4249-b978-f43e1306b25d"
   },
   "outputs": [
    {
     "name": "stdout",
     "output_type": "stream",
     "text": [
      "{1: 'USA', 3: 'China'}\n"
     ]
    }
   ],
   "source": [
    "dictionary={1:\"USA\", 2:\"India\", 3:\"China\"}\n",
    "dictionary.pop(2)\n",
    "print(dictionary)"
   ]
  },
  {
   "attachments": {},
   "cell_type": "markdown",
   "metadata": {
    "id": "I3qwY_iVxkuX"
   },
   "source": [
    "### 1.5 Conditional Statements"
   ]
  },
  {
   "cell_type": "markdown",
   "metadata": {
    "id": "cQo-OvN_ygtR"
   },
   "source": [
    "Suppose a customer is planning to buy a mobile phone but has a limited budget. Thus, his decision to buy is based on the condition that the price comes under his budget. Let's say his budget is $600.\n",
    "\n",
    "Q. Write a code in Python that prints whether the customer can buy the iPhone or not based on his budget."
   ]
  },
  {
   "cell_type": "markdown",
   "metadata": {
    "id": "qg2mxm6C2VEe"
   },
   "source": [
    "Sometimes we want to execute a block of code based on a particular condition.\n",
    "In these types of situations, we write conditional statements.\n",
    "\n",
    "The if-else statement in Python can be used for decision-making. The general syntax of an if-else statement is:\n",
    "\n",
    "```\n",
    "if (test expression):\n",
    "    Body of if\n",
    "else:\n",
    "    Body of else\n",
    "```\n",
    "\n",
    "Python is a **tabbed based language**, so we need to be VERY careful about tabs!!!\n"
   ]
  },
  {
   "cell_type": "code",
   "execution_count": null,
   "metadata": {
    "colab": {
     "base_uri": "https://localhost:8080/"
    },
    "executionInfo": {
     "elapsed": 15,
     "status": "ok",
     "timestamp": 1695509241165,
     "user": {
      "displayName": "Fernando Diaz",
      "userId": "16819680563727310863"
     },
     "user_tz": 180
    },
    "id": "C1WFBS4Y3J4s",
    "outputId": "b283d2ed-6d15-41b6-9cd2-74db6cf8483a"
   },
   "outputs": [
    {
     "name": "stdout",
     "output_type": "stream",
     "text": [
      "900\n"
     ]
    }
   ],
   "source": [
    "print(price)\n"
   ]
  },
  {
   "cell_type": "markdown",
   "metadata": {
    "id": "K0LZXb-E4KDQ"
   },
   "source": [
    "The *input* function prompts the user to give a value."
   ]
  },
  {
   "cell_type": "code",
   "execution_count": null,
   "metadata": {
    "colab": {
     "base_uri": "https://localhost:8080/"
    },
    "executionInfo": {
     "elapsed": 9396,
     "status": "ok",
     "timestamp": 1695509250547,
     "user": {
      "displayName": "Fernando Diaz",
      "userId": "16819680563727310863"
     },
     "user_tz": 180
    },
    "id": "V8z790Jc0pNQ",
    "outputId": "1001e879-5089-4df0-aa66-9acf8104814f"
   },
   "outputs": [
    {
     "name": "stdout",
     "output_type": "stream",
     "text": [
      "Enter your budget(in dollars): 1000\n",
      "Congrats! You can buy the Iphone\n"
     ]
    }
   ],
   "source": [
    "# define the budget price\n",
    "budget = int(input('Enter your budget(in dollars): '))\n",
    "\n",
    "# if-else statement\n",
    "if price <= budget:\n",
    "  print('Congrats! You can buy the Iphone')\n",
    "else:\n",
    "  print('Sorry! The mobile price is more than your budget')"
   ]
  },
  {
   "cell_type": "markdown",
   "metadata": {
    "id": "dUm645mL3xfe"
   },
   "source": [
    "If there are multiple conditions, we may use another conditional statement called if-elif-else statement. The general syntax of the if-elif-else statement is:\n",
    "\n",
    "```\n",
    "if (test expression):\n",
    "    Body of if\n",
    "elif (test expression):\n",
    "    Body of elif\n",
    "else:\n",
    "    Body of else\n",
    "```\n",
    "\n"
   ]
  },
  {
   "cell_type": "markdown",
   "metadata": {
    "id": "mBwaTNNJ97yi"
   },
   "source": [
    "Q. Suppose the price of the 32 GB, 64 GB, and 128 GB iPhones are \\$600, \\$700, and \\$900 respectively. Write a conditional statement to print the price based on the internal storage of the phone."
   ]
  },
  {
   "cell_type": "code",
   "execution_count": null,
   "metadata": {
    "colab": {
     "base_uri": "https://localhost:8080/"
    },
    "executionInfo": {
     "elapsed": 8150,
     "status": "ok",
     "timestamp": 1695509258694,
     "user": {
      "displayName": "Fernando Diaz",
      "userId": "16819680563727310863"
     },
     "user_tz": 180
    },
    "id": "QdJzMWMn_QTD",
    "outputId": "4dfdd527-c756-4a5f-9c75-d8fc22d8273b"
   },
   "outputs": [
    {
     "name": "stdout",
     "output_type": "stream",
     "text": [
      "Enter the memory: 32\n",
      "The price of the phone is $600\n"
     ]
    }
   ],
   "source": [
    "Memory = int(input('Enter the memory: '))\n",
    "\n",
    "if Memory == 32:\n",
    "  print('The price of the phone is $600')\n",
    "elif Memory == 64:\n",
    "  print('The price of the phone is $700')\n",
    "elif Memory ==128:\n",
    "  print('The price of the phone is $900')\n",
    "else:\n",
    "  print('Please enter a valid memory requirement')"
   ]
  },
  {
   "cell_type": "code",
   "execution_count": null,
   "metadata": {
    "colab": {
     "base_uri": "https://localhost:8080/"
    },
    "executionInfo": {
     "elapsed": 23,
     "status": "ok",
     "timestamp": 1695509258694,
     "user": {
      "displayName": "Fernando Diaz",
      "userId": "16819680563727310863"
     },
     "user_tz": 180
    },
    "id": "5FdEMXl_vs69",
    "outputId": "332488b3-fbf8-47cd-b948-d7e57a3056f9"
   },
   "outputs": [
    {
     "name": "stdout",
     "output_type": "stream",
     "text": [
      "Hello\n"
     ]
    }
   ],
   "source": [
    "a = b = \"TRUE\"\n",
    "if (a == b):\n",
    "  print(\"Hello\")\n",
    "else:\n",
    "  print(\"Well done\")"
   ]
  },
  {
   "attachments": {},
   "cell_type": "markdown",
   "metadata": {
    "id": "crVFfqHF_7Qj"
   },
   "source": [
    "### 1.6 Looping Statements\n"
   ]
  },
  {
   "cell_type": "markdown",
   "metadata": {
    "id": "02kfQy3pKSLz"
   },
   "source": [
    "\n",
    "\n",
    "\n",
    "Suppose the store wants to check the price of the Apple iPhone (4GB, 128GB) after providing 5%, 10%, 15%, and 20% discounts respectively. Instead of calculating the discounted prices multiple times, looping statements can be used to achieve this.\n",
    "\n",
    "Q. Write a code in Python that prints the discounted price for each of the above-mentioned discounts.\n"
   ]
  },
  {
   "cell_type": "markdown",
   "metadata": {
    "id": "XimtS0PyirT9"
   },
   "source": [
    "Before jumping into the concept of looping, let's have a look at the range() function in Python.\n",
    "\n",
    "The range() method returns an immutable sequence of numbers between the given start integer to the stop integer."
   ]
  },
  {
   "cell_type": "code",
   "execution_count": null,
   "metadata": {
    "colab": {
     "base_uri": "https://localhost:8080/"
    },
    "executionInfo": {
     "elapsed": 23,
     "status": "ok",
     "timestamp": 1695509258695,
     "user": {
      "displayName": "Fernando Diaz",
      "userId": "16819680563727310863"
     },
     "user_tz": 180
    },
    "id": "lFAxNkQeJ6Wi",
    "outputId": "c106b312-3a54-420f-f47d-496361bb620b"
   },
   "outputs": [
    {
     "name": "stdout",
     "output_type": "stream",
     "text": [
      "range(0, 6)\n"
     ]
    }
   ],
   "source": [
    "print(range(6))"
   ]
  },
  {
   "cell_type": "code",
   "execution_count": null,
   "metadata": {
    "colab": {
     "base_uri": "https://localhost:8080/"
    },
    "executionInfo": {
     "elapsed": 21,
     "status": "ok",
     "timestamp": 1695509258695,
     "user": {
      "displayName": "Fernando Diaz",
      "userId": "16819680563727310863"
     },
     "user_tz": 180
    },
    "id": "wdUJOuOSL7YZ",
    "outputId": "b98dd6c9-b71e-4f5e-deda-cff9a9187e89"
   },
   "outputs": [
    {
     "name": "stdout",
     "output_type": "stream",
     "text": [
      "[0, 1, 2, 3, 4, 5]\n"
     ]
    }
   ],
   "source": [
    "print(list(range(6)))"
   ]
  },
  {
   "cell_type": "code",
   "execution_count": null,
   "metadata": {
    "colab": {
     "base_uri": "https://localhost:8080/"
    },
    "executionInfo": {
     "elapsed": 20,
     "status": "ok",
     "timestamp": 1695509258695,
     "user": {
      "displayName": "Fernando Diaz",
      "userId": "16819680563727310863"
     },
     "user_tz": 180
    },
    "id": "vtLslStgL-cY",
    "outputId": "52b28010-3f7e-428f-ea89-66317e5ea0be"
   },
   "outputs": [
    {
     "name": "stdout",
     "output_type": "stream",
     "text": [
      "[2, 3, 4, 5]\n"
     ]
    }
   ],
   "source": [
    "print(list(range(2,6)))"
   ]
  },
  {
   "cell_type": "code",
   "execution_count": null,
   "metadata": {
    "colab": {
     "base_uri": "https://localhost:8080/"
    },
    "executionInfo": {
     "elapsed": 20,
     "status": "ok",
     "timestamp": 1695509258695,
     "user": {
      "displayName": "Fernando Diaz",
      "userId": "16819680563727310863"
     },
     "user_tz": 180
    },
    "id": "btIlmzGVmgmV",
    "outputId": "3ccc9285-b2e7-464a-825c-cddaaca6bced"
   },
   "outputs": [
    {
     "name": "stdout",
     "output_type": "stream",
     "text": [
      "[6, 8, 10, 12]\n"
     ]
    }
   ],
   "source": [
    "print(list(range(6, 14, 2)))"
   ]
  },
  {
   "cell_type": "markdown",
   "metadata": {
    "id": "wColSzouLhq7"
   },
   "source": [
    "Loops are used in Python to iterate over a sequence.\n",
    "\n",
    "The syntax of the 'for loop' is:\n",
    "\n",
    "```\n",
    "for iterator_var in sequence:\n",
    "    statements(s)\n",
    "```\n",
    "\n"
   ]
  },
  {
   "cell_type": "code",
   "execution_count": null,
   "metadata": {
    "colab": {
     "base_uri": "https://localhost:8080/"
    },
    "executionInfo": {
     "elapsed": 19,
     "status": "ok",
     "timestamp": 1695509258695,
     "user": {
      "displayName": "Fernando Diaz",
      "userId": "16819680563727310863"
     },
     "user_tz": 180
    },
    "id": "_1yuJc2JAhqD",
    "outputId": "0a8c4644-a7e4-4e39-9593-bc407813875b"
   },
   "outputs": [
    {
     "name": "stdout",
     "output_type": "stream",
     "text": [
      "The price after providing 5 percent discount is $855.0\n",
      "The price after providing 10 percent discount is $810.0\n",
      "The price after providing 15 percent discount is $765.0\n",
      "The price after providing 20 percent discount is $720.0\n"
     ]
    }
   ],
   "source": [
    "# store the price (in dollars) of the mobile in variable 'Price'.\n",
    "price = 900\n",
    "# start the for loop\n",
    "for i in range(5, 21, 5):\n",
    "  # calculate the discount amount\n",
    "  discount = price * (i / 100)\n",
    "  # calculate the discounted price\n",
    "  discounted_price = price - discount\n",
    "  # print the discounted price\n",
    "  print('The price after providing ', i, ' percent discount is $', discounted_price,sep='')"
   ]
  },
  {
   "cell_type": "markdown",
   "metadata": {
    "id": "VtgR0jG1vuO7"
   },
   "source": [
    "We can also use the while loop to iterate over a sequence. The syntax of the 'while loop' is:\n",
    "\n",
    "```\n",
    "while condition:\n",
    "    statements(s)\n",
    "```\n",
    "\n",
    "Let's try to solve the above question using 'while' loops."
   ]
  },
  {
   "cell_type": "code",
   "execution_count": null,
   "metadata": {
    "colab": {
     "base_uri": "https://localhost:8080/"
    },
    "executionInfo": {
     "elapsed": 18,
     "status": "ok",
     "timestamp": 1695509258695,
     "user": {
      "displayName": "Fernando Diaz",
      "userId": "16819680563727310863"
     },
     "user_tz": 180
    },
    "id": "9PYkcD-XQKfu",
    "outputId": "8f8b9fcd-47a8-4778-8249-c0066ca5a8d1"
   },
   "outputs": [
    {
     "name": "stdout",
     "output_type": "stream",
     "text": [
      "The price after providing 5 percent discount is $855.0\n",
      "The price after providing 10 percent discount is $810.0\n",
      "The price after providing 15 percent discount is $765.0\n",
      "The price after providing 20 percent discount is $720.0\n"
     ]
    }
   ],
   "source": [
    "# store the price (in dollars) of the mobile in variable 'Price'.\n",
    "Price = 900\n",
    "# set the value of i to 5\n",
    "i = 5\n",
    "# start the while loop\n",
    "while i <= 20:\n",
    "  # calculate the discount amount\n",
    "  discount = Price * (i / 100)\n",
    "  # calculate the discounted price\n",
    "  discounted_price = Price - discount\n",
    "  # print the discounted price\n",
    "  print('The price after providing ',i, ' percent discount is $', discounted_price,sep='')\n",
    "  # increase the value of i by 5\n",
    "  i += 5"
   ]
  },
  {
   "cell_type": "code",
   "execution_count": null,
   "metadata": {
    "colab": {
     "base_uri": "https://localhost:8080/"
    },
    "executionInfo": {
     "elapsed": 17,
     "status": "ok",
     "timestamp": 1695509258695,
     "user": {
      "displayName": "Fernando Diaz",
      "userId": "16819680563727310863"
     },
     "user_tz": 180
    },
    "id": "sAWSbODZWds_",
    "outputId": "0b7c01f0-6521-4ac4-883f-18b513a69d19"
   },
   "outputs": [
    {
     "data": {
      "text/plain": [
       "25"
      ]
     },
     "execution_count": 80,
     "metadata": {},
     "output_type": "execute_result"
    }
   ],
   "source": [
    "i"
   ]
  },
  {
   "cell_type": "markdown",
   "metadata": {
    "id": "aVbZ9wdXHZIa"
   },
   "source": [
    "This is interesting. Look at the indented characteristics of the following for-loops:"
   ]
  },
  {
   "cell_type": "code",
   "execution_count": null,
   "metadata": {
    "colab": {
     "base_uri": "https://localhost:8080/"
    },
    "executionInfo": {
     "elapsed": 16,
     "status": "ok",
     "timestamp": 1695509258695,
     "user": {
      "displayName": "Fernando Diaz",
      "userId": "16819680563727310863"
     },
     "user_tz": 180
    },
    "id": "RAsL17s4GuIj",
    "outputId": "e0129d4c-fd05-4df7-e090-f4f6440ebbc7"
   },
   "outputs": [
    {
     "name": "stdout",
     "output_type": "stream",
     "text": [
      "1\n",
      "3\n",
      "6\n",
      "10\n"
     ]
    }
   ],
   "source": [
    "\n",
    "\n",
    "sum = 0\n",
    "for number in range(1,5):\n",
    "    sum = sum + number\n",
    "    print(sum)\n",
    "\n"
   ]
  },
  {
   "cell_type": "code",
   "execution_count": null,
   "metadata": {
    "colab": {
     "base_uri": "https://localhost:8080/"
    },
    "executionInfo": {
     "elapsed": 15,
     "status": "ok",
     "timestamp": 1695509258695,
     "user": {
      "displayName": "Fernando Diaz",
      "userId": "16819680563727310863"
     },
     "user_tz": 180
    },
    "id": "z101bw5nHmQy",
    "outputId": "f12407f3-18de-4f10-e567-9881e8a253f7"
   },
   "outputs": [
    {
     "name": "stdout",
     "output_type": "stream",
     "text": [
      "10\n"
     ]
    }
   ],
   "source": [
    "sum = 0\n",
    "for number in range(1,5):\n",
    "    sum = sum + number\n",
    "print(sum)\n",
    "\n"
   ]
  },
  {
   "cell_type": "markdown",
   "metadata": {
    "id": "9bjGbMqLIRYw"
   },
   "source": [
    "**while x:** This is the start of a while loop. The condition x in the while loop checks whether the list x is empty or not. As long as there are elements in the list, the loop will continue to execute."
   ]
  },
  {
   "cell_type": "code",
   "execution_count": null,
   "metadata": {
    "colab": {
     "base_uri": "https://localhost:8080/"
    },
    "executionInfo": {
     "elapsed": 14,
     "status": "ok",
     "timestamp": 1695509258695,
     "user": {
      "displayName": "Fernando Diaz",
      "userId": "16819680563727310863"
     },
     "user_tz": 180
    },
    "id": "O9ZxaNloICgX",
    "outputId": "66999733-7c38-445b-f823-57dbea0df7eb"
   },
   "outputs": [
    {
     "name": "stdout",
     "output_type": "stream",
     "text": [
      "1\n",
      "2\n",
      "3\n",
      "4\n",
      "5\n"
     ]
    }
   ],
   "source": [
    "\n",
    "\n",
    "x = [1, 2, 3, 4, 5]\n",
    "while x:\n",
    "  print(x.pop(0))\n",
    "\n"
   ]
  },
  {
   "attachments": {},
   "cell_type": "markdown",
   "metadata": {
    "id": "fRrO-BOOeUCE"
   },
   "source": [
    "### 1.7 List Comprehensions"
   ]
  },
  {
   "cell_type": "markdown",
   "metadata": {
    "id": "sBIOrOMSzXl9"
   },
   "source": [
    "MobiWorld has decided to provide an instant discount of 5% on all their products during the upcoming sale. We want to check the discounted prices of the products.\n",
    "\n",
    "We already have the `price_list` with us. Let's use it to get the discounted prices."
   ]
  },
  {
   "cell_type": "markdown",
   "metadata": {
    "id": "4q_35zrET3LJ"
   },
   "source": [
    "One way of creating a discounted price list is by looping over the elements of `price_list`, subtracting the discount from the price, and adding it one at a time to a new list `discounted_price_list`."
   ]
  },
  {
   "cell_type": "code",
   "execution_count": null,
   "metadata": {
    "colab": {
     "base_uri": "https://localhost:8080/"
    },
    "executionInfo": {
     "elapsed": 281,
     "status": "ok",
     "timestamp": 1695509433619,
     "user": {
      "displayName": "Fernando Diaz",
      "userId": "16819680563727310863"
     },
     "user_tz": 180
    },
    "id": "TShnUhIHO8Z9",
    "outputId": "8a5b85b7-42e5-4d2c-cb61-ae10efc01f9b"
   },
   "outputs": [
    {
     "name": "stdout",
     "output_type": "stream",
     "text": [
      "[900, 899, 600, 1000]\n"
     ]
    },
    {
     "data": {
      "text/plain": [
       "list"
      ]
     },
     "execution_count": 85,
     "metadata": {},
     "output_type": "execute_result"
    }
   ],
   "source": [
    "print(price_list)\n",
    "type(price_list)"
   ]
  },
  {
   "cell_type": "code",
   "execution_count": null,
   "metadata": {
    "colab": {
     "base_uri": "https://localhost:8080/"
    },
    "executionInfo": {
     "elapsed": 325,
     "status": "ok",
     "timestamp": 1695509481929,
     "user": {
      "displayName": "Fernando Diaz",
      "userId": "16819680563727310863"
     },
     "user_tz": 180
    },
    "id": "DahV8ZZcebRV",
    "outputId": "47389cfc-f0a9-40dc-b9ce-83cba79f2bea"
   },
   "outputs": [
    {
     "name": "stdout",
     "output_type": "stream",
     "text": [
      "[855.0, 854.05, 570.0, 950.0]\n"
     ]
    }
   ],
   "source": [
    "discounted_price_list=[]\n",
    "\n",
    "for x in price_list:\n",
    "  discounted_price = x - (x*(5/100))\n",
    "  discounted_price_list.append(discounted_price)\n",
    "\n",
    "print(discounted_price_list)"
   ]
  },
  {
   "cell_type": "markdown",
   "metadata": {
    "id": "F0iCJHIV1cx_"
   },
   "source": [
    "An equivalent way of obtaining the same result is by using **list comprehensions**.\n",
    "\n",
    "* List comprehension is a type of control structure for creating a list from an existing iterable (like tuples, strings, arrays, lists, etc).\n",
    "* They offer a shorter and more appealing syntax and are often faster than explicit for loops in creating a list from an existing iterable."
   ]
  },
  {
   "cell_type": "code",
   "execution_count": null,
   "metadata": {
    "colab": {
     "base_uri": "https://localhost:8080/"
    },
    "executionInfo": {
     "elapsed": 295,
     "status": "ok",
     "timestamp": 1695509654033,
     "user": {
      "displayName": "Fernando Diaz",
      "userId": "16819680563727310863"
     },
     "user_tz": 180
    },
    "id": "2rIb7zzcxTVI",
    "outputId": "bd2dbd7c-8c35-4abc-bd0d-cfd3ead48d55"
   },
   "outputs": [
    {
     "name": "stdout",
     "output_type": "stream",
     "text": [
      "[855.0, 854.05, 570.0, 950.0]\n"
     ]
    }
   ],
   "source": [
    "discounted_price_list = [x - (x*(5/100)) for x in price_list]\n",
    "print(discounted_price_list)"
   ]
  },
  {
   "cell_type": "markdown",
   "metadata": {
    "id": "0g10KPzb2hH1"
   },
   "source": [
    "Let's breakdown the syntax of the above list comprehension. There are three parts:\n",
    "1. `[ ]`: The outer square brackets tells that we are creating a list\n",
    "2. `x-(x*(5/100)`: The expression to evaluate or the computation to perform\n",
    "3. `for x in price_list`: The iterable from which elements (x) will be fetched"
   ]
  },
  {
   "cell_type": "markdown",
   "metadata": {
    "id": "ePfWC4q44WBj"
   },
   "source": [
    "Customers often want to check whether any of the discounted prices during the sale are within their budget.\n",
    "\n",
    "Let's help the store display the same based on the budget mentioned by the customer by comparing the discounted price with the budget for each of the four mobile phone prices."
   ]
  },
  {
   "cell_type": "code",
   "execution_count": null,
   "metadata": {
    "colab": {
     "base_uri": "https://localhost:8080/"
    },
    "executionInfo": {
     "elapsed": 8545,
     "status": "ok",
     "timestamp": 1695509952334,
     "user": {
      "displayName": "Fernando Diaz",
      "userId": "16819680563727310863"
     },
     "user_tz": 180
    },
    "id": "Pg0Ws8qz36Ce",
    "outputId": "ab781f2f-4178-4757-b674-c342f5c10464"
   },
   "outputs": [
    {
     "name": "stdout",
     "output_type": "stream",
     "text": [
      "Enter your budget(in dollars): 600\n",
      "['No', 'No', 'Yes', 'No']\n"
     ]
    }
   ],
   "source": [
    "# asking for customer's budget\n",
    "budget = int(input('Enter your budget(in dollars): '))\n",
    "\n",
    "# creating a list of Yes/No based on budget and discounted prices\n",
    "within_budget = ['Yes' if x <= budget else 'No' for x in discounted_price_list]\n",
    "print(within_budget)"
   ]
  },
  {
   "cell_type": "markdown",
   "metadata": {
    "id": "lU5qWotf5EjH"
   },
   "source": [
    "To get more clarity on the way the list comprehension syntax is formulated, we can expand the list comprehension to the usual for and if statements and think of this in a reversed way."
   ]
  },
  {
   "cell_type": "code",
   "execution_count": null,
   "metadata": {
    "colab": {
     "base_uri": "https://localhost:8080/"
    },
    "executionInfo": {
     "elapsed": 301,
     "status": "ok",
     "timestamp": 1695509991002,
     "user": {
      "displayName": "Fernando Diaz",
      "userId": "16819680563727310863"
     },
     "user_tz": 180
    },
    "id": "Q-bj32zx5h3z",
    "outputId": "ae3f5b5a-28a4-41a1-e913-ffd3b3b641e9"
   },
   "outputs": [
    {
     "name": "stdout",
     "output_type": "stream",
     "text": [
      "['No', 'No', 'Yes', 'No']\n"
     ]
    }
   ],
   "source": [
    "within_budget = []\n",
    "\n",
    "for x in discounted_price_list:\n",
    "  if x <= budget:\n",
    "    within_budget.append('Yes')\n",
    "  else:\n",
    "    within_budget.append('No')\n",
    "\n",
    "print(within_budget)"
   ]
  },
  {
   "cell_type": "code",
   "execution_count": null,
   "metadata": {
    "colab": {
     "base_uri": "https://localhost:8080/"
    },
    "executionInfo": {
     "elapsed": 280,
     "status": "ok",
     "timestamp": 1695510178779,
     "user": {
      "displayName": "Fernando Diaz",
      "userId": "16819680563727310863"
     },
     "user_tz": 180
    },
    "id": "CMmx1bLtRgFH",
    "outputId": "8232a980-aa72-499c-c6c6-202f0801a82c"
   },
   "outputs": [
    {
     "name": "stdout",
     "output_type": "stream",
     "text": [
      "['Week0', 'Week1', 'Week2', 'Week3', 'Week4']\n"
     ]
    }
   ],
   "source": [
    "\n",
    "\n",
    "week_list = [ \"Week\" + str(i) for i in range(5)]\n",
    "print(week_list)\n"
   ]
  },
  {
   "attachments": {},
   "cell_type": "markdown",
   "metadata": {
    "id": "xEPReYdxm-E5"
   },
   "source": [
    "### 1.8  Functions in Python"
   ]
  },
  {
   "cell_type": "markdown",
   "metadata": {
    "id": "XsVOy7oaoSXM"
   },
   "source": [
    "**What is a Function in Python?**\n",
    "\n",
    "In Python, a function is a block of instructions that performs a specific task.\n",
    "\n",
    "We have already seen a few functions in python.  min and max were functions that found the minimum and maximum numbers in a list!\n",
    "\n",
    "In Python, we can also define our own functions! We don't have to rely on the ones that are already there.\n",
    "\n",
    "Functions break the program into modular chunks which can be reused later. Functions are used to make the program more organized and manageable.\n",
    "\n",
    "\n",
    "**Syntax of a function**\n",
    "\n",
    "Functions that users define themselves to a particular task are referred to as user-defined functions.\n",
    "\n",
    "```\n",
    "def function_name(parameters):\n",
    "\t'''explain what a function does'''\n",
    "\tstatement(s)\n",
    "```\n",
    "\n"
   ]
  },
  {
   "cell_type": "markdown",
   "metadata": {
    "id": "kMUsQDMVpgHh"
   },
   "source": [
    "Let's say the store wants to market the Apple iPhone by displaying its attributes to each customer.\n",
    "\n",
    "Q. Write a function in Python that displays the attributes of the Apple iPhone."
   ]
  },
  {
   "cell_type": "code",
   "execution_count": null,
   "metadata": {
    "id": "2qdL41zapfT5"
   },
   "outputs": [],
   "source": [
    "# write the function\n",
    "def display_iphone_attributes():\n",
    "    \"\"\"\n",
    "    This function displays\n",
    "    the stored attributes of\n",
    "    the Apple iPhone\n",
    "    \"\"\"\n",
    "    # store the price (in dollars) of the mobile in variable 'price'\n",
    "    price = 900\n",
    "    # store the RAM (in GB) of the mobile in variable 'ram'.\n",
    "    ram = 4\n",
    "    # store the internal storage (in GB) of the mobile in variable 'storage'.\n",
    "    storage = 128\n",
    "    # display the details\n",
    "    print('The Apple iPhone has ', ram, ' GB RAM and ', storage, ' GB internal storage and it costs $', price, sep='')"
   ]
  },
  {
   "attachments": {},
   "cell_type": "markdown",
   "metadata": {
    "id": "8SQoJ4wWr-1g"
   },
   "source": [
    "#### **How to call a function in python?**\n",
    "\n",
    "Once the function is defined, we can simply call the function by writing the function name with appropriate parameters. The function definition must always be written before the function call. Else, we will get an error."
   ]
  },
  {
   "cell_type": "code",
   "execution_count": null,
   "metadata": {
    "colab": {
     "base_uri": "https://localhost:8080/"
    },
    "executionInfo": {
     "elapsed": 274,
     "status": "ok",
     "timestamp": 1695564251745,
     "user": {
      "displayName": "Fernando Diaz",
      "userId": "16819680563727310863"
     },
     "user_tz": 180
    },
    "id": "qmSi4POvsYTM",
    "outputId": "3fa98675-27e5-4dc5-ef41-68e52834cc2a"
   },
   "outputs": [
    {
     "name": "stdout",
     "output_type": "stream",
     "text": [
      "The Apple iPhone has 4 GB RAM and 128 GB internal storage and it costs $900\n"
     ]
    }
   ],
   "source": [
    "# call the function\n",
    "display_iphone_attributes()"
   ]
  },
  {
   "cell_type": "markdown",
   "metadata": {
    "id": "8bKo7D3JtjlK"
   },
   "source": [
    "**How to write a Python function with arguments?**\n",
    "\n",
    "In Python, you can also define a function that takes a variable number of arguments. Let's try an example!\n",
    "\n",
    "Q. Write a function in Python that displays the attributes of a phone.\n",
    "\n"
   ]
  },
  {
   "cell_type": "code",
   "execution_count": null,
   "metadata": {
    "id": "do-AAwmitijp"
   },
   "outputs": [],
   "source": [
    "# write the function\n",
    "def display_phone_attributes(brand, price, ram, storage):\n",
    "    \"\"\"\n",
    "    This function displays\n",
    "    the stored attributes of\n",
    "    any phone\n",
    "    \"\"\"\n",
    "    # display the details\n",
    "    print('The ', brand, ' phone has ', ram, ' GB RAM and ', storage,' GB internal storage and it costs $',price,sep='')"
   ]
  },
  {
   "cell_type": "code",
   "execution_count": null,
   "metadata": {
    "colab": {
     "base_uri": "https://localhost:8080/"
    },
    "executionInfo": {
     "elapsed": 245,
     "status": "ok",
     "timestamp": 1695564460463,
     "user": {
      "displayName": "Fernando Diaz",
      "userId": "16819680563727310863"
     },
     "user_tz": 180
    },
    "id": "YHqgx5GWwZGT",
    "outputId": "d22c898c-cf89-4fbe-e4c5-08593a03cee9"
   },
   "outputs": [
    {
     "name": "stdout",
     "output_type": "stream",
     "text": [
      "The samsung phone has 12 GB RAM and 128 GB internal storage and it costs $899\n"
     ]
    }
   ],
   "source": [
    "# call the function\n",
    "display_phone_attributes('samsung', 899, 12, 128)"
   ]
  },
  {
   "cell_type": "markdown",
   "metadata": {
    "id": "Dpqah3c3xcuO"
   },
   "source": [
    "Since we have called the function with the appropriate number of arguments, it runs smoothly without any error. The interpreter will show an error message in case we call it with a different number of arguments.\n",
    "\n",
    "Let's try calling the function with 3 arguments."
   ]
  },
  {
   "cell_type": "code",
   "execution_count": null,
   "metadata": {
    "colab": {
     "base_uri": "https://localhost:8080/",
     "height": 193
    },
    "executionInfo": {
     "elapsed": 233,
     "status": "error",
     "timestamp": 1695564477515,
     "user": {
      "displayName": "Fernando Diaz",
      "userId": "16819680563727310863"
     },
     "user_tz": 180
    },
    "id": "sLwV4-39xzDA",
    "outputId": "bae13886-3476-4336-9ba1-494bc06955e2"
   },
   "outputs": [
    {
     "ename": "TypeError",
     "evalue": "ignored",
     "output_type": "error",
     "traceback": [
      "\u001b[0;31m---------------------------------------------------------------------------\u001b[0m",
      "\u001b[0;31mTypeError\u001b[0m                                 Traceback (most recent call last)",
      "\u001b[0;32m<ipython-input-10-5284c0b087d1>\u001b[0m in \u001b[0;36m<cell line: 2>\u001b[0;34m()\u001b[0m\n\u001b[1;32m      1\u001b[0m \u001b[0;31m# call the function with 3 arguments\u001b[0m\u001b[0;34m\u001b[0m\u001b[0;34m\u001b[0m\u001b[0m\n\u001b[0;32m----> 2\u001b[0;31m \u001b[0mdisplay_phone_attributes\u001b[0m\u001b[0;34m(\u001b[0m\u001b[0;34m'samsung'\u001b[0m\u001b[0;34m,\u001b[0m \u001b[0;36m899\u001b[0m\u001b[0;34m,\u001b[0m \u001b[0;36m12\u001b[0m\u001b[0;34m)\u001b[0m\u001b[0;34m\u001b[0m\u001b[0;34m\u001b[0m\u001b[0m\n\u001b[0m",
      "\u001b[0;31mTypeError\u001b[0m: display_phone_attributes() missing 1 required positional argument: 'storage'"
     ]
    }
   ],
   "source": [
    "# call the function with 3 arguments\n",
    "display_phone_attributes('samsung', 899, 12)"
   ]
  },
  {
   "cell_type": "markdown",
   "metadata": {
    "id": "es8xsN4dx8wG"
   },
   "source": [
    "**What is a return statement?**\n",
    "\n",
    "The return statement is used to exit a function and also returns the output.\n",
    "\n",
    "Q. Write a function in Python that takes the discount percentage as input and returns the discounted price of an Apple iPhone."
   ]
  },
  {
   "cell_type": "code",
   "execution_count": null,
   "metadata": {
    "id": "gHOoGYQzyjYw"
   },
   "outputs": [],
   "source": [
    "# write the function\n",
    "def dis_price(discount):\n",
    "    \"\"\"\n",
    "    This function takes the discount\n",
    "    percentage as input and\n",
    "    returns the discounted price of Apple iPhone\n",
    "    \"\"\"\n",
    "    # store the price (in dollars) of the mobile in variable 'price'\n",
    "    price = 900\n",
    "    # calculate the price after discount\n",
    "    discounted_price = price - price * (discount / 100)\n",
    "    # return the discounted price\n",
    "    return discounted_price"
   ]
  },
  {
   "cell_type": "code",
   "execution_count": null,
   "metadata": {
    "colab": {
     "base_uri": "https://localhost:8080/"
    },
    "executionInfo": {
     "elapsed": 230,
     "status": "ok",
     "timestamp": 1695564528102,
     "user": {
      "displayName": "Fernando Diaz",
      "userId": "16819680563727310863"
     },
     "user_tz": 180
    },
    "id": "kfxk0YnjzIdu",
    "outputId": "e6dabf17-002d-4e54-ae8e-46f95ad07381"
   },
   "outputs": [
    {
     "data": {
      "text/plain": [
       "810.0"
      ]
     },
     "execution_count": 12,
     "metadata": {},
     "output_type": "execute_result"
    }
   ],
   "source": [
    "# call the function with discount = 10%\n",
    "dp = dis_price(10)\n",
    "dp"
   ]
  },
  {
   "cell_type": "markdown",
   "metadata": {
    "id": "_IPo7Bjiz7T0"
   },
   "source": [
    "In Python, lambda function are functions a different way to define a function\n",
    "\n",
    "* User-defined functions are defined using the def keyword, whereas lambda functions are defined using the lambda keyword.\n",
    "* We generally use them when we require an anonymous function for a small task\n",
    "* We cannot use a return statement with lambda functions.\n",
    "\n",
    "Let's try to get the discounted price using lambda function."
   ]
  },
  {
   "cell_type": "code",
   "execution_count": null,
   "metadata": {
    "id": "DggmBW-X0xxa"
   },
   "outputs": [],
   "source": [
    "# lambda functions\n",
    "dis_price_lambda = lambda discount : 900 - ( 900 * (discount / 100) )"
   ]
  },
  {
   "cell_type": "code",
   "execution_count": null,
   "metadata": {
    "colab": {
     "base_uri": "https://localhost:8080/"
    },
    "executionInfo": {
     "elapsed": 215,
     "status": "ok",
     "timestamp": 1695564586373,
     "user": {
      "displayName": "Fernando Diaz",
      "userId": "16819680563727310863"
     },
     "user_tz": 180
    },
    "id": "0ptZLkjR1ER6",
    "outputId": "b8730f0a-fc0c-44ae-cda7-32e581a89569"
   },
   "outputs": [
    {
     "data": {
      "text/plain": [
       "810.0"
      ]
     },
     "execution_count": 14,
     "metadata": {},
     "output_type": "execute_result"
    }
   ],
   "source": [
    "# call the function with discount = 10%\n",
    "dis_price_lambda(10)"
   ]
  },
  {
   "cell_type": "markdown",
   "metadata": {
    "id": "3dh5sr-OmGJD"
   },
   "source": [
    "Interesting feature. It can print the string two times:"
   ]
  },
  {
   "cell_type": "code",
   "execution_count": null,
   "metadata": {
    "colab": {
     "base_uri": "https://localhost:8080/"
    },
    "executionInfo": {
     "elapsed": 244,
     "status": "ok",
     "timestamp": 1695565875853,
     "user": {
      "displayName": "Fernando Diaz",
      "userId": "16819680563727310863"
     },
     "user_tz": 180
    },
    "id": "eq75ayQRh1rO",
    "outputId": "5ee7a8a3-dd4e-45d5-a40e-6e4ce6b481c8"
   },
   "outputs": [
    {
     "name": "stdout",
     "output_type": "stream",
     "text": [
      "How are youHow are you\n"
     ]
    }
   ],
   "source": [
    "\n",
    "\n",
    "def say(message, times):\n",
    "    print(message*times, sep='')\n",
    "say(\"How are you\", 2)\n",
    "\n"
   ]
  },
  {
   "cell_type": "code",
   "execution_count": null,
   "metadata": {
    "colab": {
     "base_uri": "https://localhost:8080/",
     "height": 141
    },
    "executionInfo": {
     "elapsed": 256,
     "status": "error",
     "timestamp": 1695565979138,
     "user": {
      "displayName": "Fernando Diaz",
      "userId": "16819680563727310863"
     },
     "user_tz": 180
    },
    "id": "Qsx_Jmmxmn0U",
    "outputId": "3a5787f9-f7ce-4e79-f7c4-e3b3b00e8e42"
   },
   "outputs": [
    {
     "ename": "SyntaxError",
     "evalue": "ignored",
     "output_type": "error",
     "traceback": [
      "\u001b[0;36m  File \u001b[0;32m\"<ipython-input-25-b48ea2f0b14d>\"\u001b[0;36m, line \u001b[0;32m1\u001b[0m\n\u001b[0;31m    mul = lambda a,b: return a*b\u001b[0m\n\u001b[0m                      ^\u001b[0m\n\u001b[0;31mSyntaxError\u001b[0m\u001b[0;31m:\u001b[0m invalid syntax\n"
     ]
    }
   ],
   "source": [
    "mul = lambda a,b: return a*b\n",
    "mul(5,6)"
   ]
  },
  {
   "cell_type": "markdown",
   "metadata": {
    "id": "kt7L2fJ5m_BO"
   },
   "source": [
    "**We cannot use a return statement with lambda functions.**"
   ]
  },
  {
   "cell_type": "code",
   "execution_count": null,
   "metadata": {
    "colab": {
     "base_uri": "https://localhost:8080/"
    },
    "executionInfo": {
     "elapsed": 266,
     "status": "ok",
     "timestamp": 1695566086014,
     "user": {
      "displayName": "Fernando Diaz",
      "userId": "16819680563727310863"
     },
     "user_tz": 180
    },
    "id": "iqhz7rkwnQOa",
    "outputId": "c3630bdb-9edb-4fcc-e3fb-58b777893dfe"
   },
   "outputs": [
    {
     "data": {
      "text/plain": [
       "15.0"
      ]
     },
     "execution_count": 26,
     "metadata": {},
     "output_type": "execute_result"
    }
   ],
   "source": [
    "\n",
    "\n",
    "(lambda x: (x+2)*5/2)(4)\n",
    "\n"
   ]
  },
  {
   "cell_type": "markdown",
   "metadata": {
    "id": "Mr1XXBUAnZbG"
   },
   "source": [
    "Note that we can give the argument value (4) in the definiton of the function itself"
   ]
  },
  {
   "attachments": {},
   "cell_type": "markdown",
   "metadata": {
    "id": "JE2FLBCIejeA"
   },
   "source": [
    "####  \\*args and \\**kwargs"
   ]
  },
  {
   "cell_type": "markdown",
   "metadata": {
    "id": "DssVB5yJiDpe"
   },
   "source": [
    "A customer has placed an order for 5 mobile phones with MobiWorld. The store wants to generate the total amount for the order.\n",
    "\n",
    "We can define a function with 5 arguments (one each for the price of the mobile phone ordered) to compute the total amount."
   ]
  },
  {
   "cell_type": "code",
   "execution_count": null,
   "metadata": {
    "id": "QWd7asLjivuh"
   },
   "outputs": [],
   "source": [
    "def total_amount(price1, price2, price3, price4, price5):\n",
    "    \"\"\"\n",
    "    This function takes the price of five phones ordered\n",
    "    and returns the total order amount.\n",
    "    \"\"\"\n",
    "    # computing the total order amount\n",
    "    total = price1 + price2 + price3 + price4 + price5\n",
    "\n",
    "    # return the total amount\n",
    "    return total"
   ]
  },
  {
   "cell_type": "code",
   "execution_count": null,
   "metadata": {
    "colab": {
     "base_uri": "https://localhost:8080/"
    },
    "executionInfo": {
     "elapsed": 272,
     "status": "ok",
     "timestamp": 1695567491213,
     "user": {
      "displayName": "Fernando Diaz",
      "userId": "16819680563727310863"
     },
     "user_tz": 180
    },
    "id": "RujDjojrkGBk",
    "outputId": "1132d2a4-4bc4-4851-cb02-cdcbc6d1762c"
   },
   "outputs": [
    {
     "name": "stdout",
     "output_type": "stream",
     "text": [
      "Total order amount: 3669\n"
     ]
    }
   ],
   "source": [
    "print('Total order amount:', total_amount(700, 599, 650, 900, 820))"
   ]
  },
  {
   "cell_type": "markdown",
   "metadata": {
    "id": "nswSW0-9k7gz"
   },
   "source": [
    "This works as we have a small number of items in the order placed. What if the customer decides to add 5 more phones to his order? It will become tedious to keep adding an argument to the function for each new addition.\n",
    "\n",
    "* In some cases, we might not even want any constraints on the number of arguments for the function."
   ]
  },
  {
   "cell_type": "markdown",
   "metadata": {
    "id": "yCj_GaLAgpLn"
   },
   "source": [
    "**Python allows us flexibility in terms of the number of arguments passed to a function by using \\*args.**"
   ]
  },
  {
   "cell_type": "code",
   "execution_count": null,
   "metadata": {
    "id": "Kp20hXTbel28"
   },
   "outputs": [],
   "source": [
    "def total_amount(*args):\n",
    "    \"\"\"\n",
    "    This function takes the prices of phones ordered\n",
    "    and returns the total order amount.\n",
    "    \"\"\"\n",
    "    total = 0\n",
    "    # computing the total order amount\n",
    "    for arg in args:\n",
    "        total += arg\n",
    "\n",
    "    # return the total amount\n",
    "    return total"
   ]
  },
  {
   "cell_type": "markdown",
   "metadata": {
    "id": "iotLTjjAnehn"
   },
   "source": [
    "Let's compute the total amount for 5 phones."
   ]
  },
  {
   "cell_type": "code",
   "execution_count": null,
   "metadata": {
    "colab": {
     "base_uri": "https://localhost:8080/"
    },
    "executionInfo": {
     "elapsed": 255,
     "status": "ok",
     "timestamp": 1695567533806,
     "user": {
      "displayName": "Fernando Diaz",
      "userId": "16819680563727310863"
     },
     "user_tz": 180
    },
    "id": "QTkUyHYJnc0I",
    "outputId": "e6ccc63c-1057-4c90-8d59-9cefa7fd7655"
   },
   "outputs": [
    {
     "name": "stdout",
     "output_type": "stream",
     "text": [
      "Total order amount: 3669\n"
     ]
    }
   ],
   "source": [
    "print('Total order amount:', total_amount(700, 599, 650, 900, 820))"
   ]
  },
  {
   "cell_type": "markdown",
   "metadata": {
    "id": "FWyaI_WqnriO"
   },
   "source": [
    "Now, let's compute the total amount for 10 phones."
   ]
  },
  {
   "cell_type": "code",
   "execution_count": null,
   "metadata": {
    "colab": {
     "base_uri": "https://localhost:8080/"
    },
    "executionInfo": {
     "elapsed": 245,
     "status": "ok",
     "timestamp": 1695567539169,
     "user": {
      "displayName": "Fernando Diaz",
      "userId": "16819680563727310863"
     },
     "user_tz": 180
    },
    "id": "2ZsZt-FLnxcp",
    "outputId": "1c280f69-5e68-4300-ba13-9cb6100d3db3"
   },
   "outputs": [
    {
     "name": "stdout",
     "output_type": "stream",
     "text": [
      "Total order amount: 7457\n"
     ]
    }
   ],
   "source": [
    "print('Total order amount:', total_amount(700, 599, 650, 900, 820, 630, 520, 799, 999, 840))"
   ]
  },
  {
   "cell_type": "markdown",
   "metadata": {
    "id": "DMovmVM2nHVR"
   },
   "source": [
    "We can also use any other text in place of *args*."
   ]
  },
  {
   "cell_type": "code",
   "execution_count": null,
   "metadata": {
    "id": "ylVGHrXfnHKR"
   },
   "outputs": [],
   "source": [
    "def total_amount(*prices):\n",
    "    \"\"\"\n",
    "    This function takes the prices of phones ordered\n",
    "    and returns the total order amount.\n",
    "    \"\"\"\n",
    "    total = 0\n",
    "    # computing the total order amount\n",
    "    for price in prices:\n",
    "        total += price\n",
    "\n",
    "    # return the total amount\n",
    "    return total"
   ]
  },
  {
   "cell_type": "code",
   "execution_count": null,
   "metadata": {
    "colab": {
     "base_uri": "https://localhost:8080/"
    },
    "executionInfo": {
     "elapsed": 232,
     "status": "ok",
     "timestamp": 1695567549110,
     "user": {
      "displayName": "Fernando Diaz",
      "userId": "16819680563727310863"
     },
     "user_tz": 180
    },
    "id": "RKzMj2jrnHIC",
    "outputId": "1a35d06b-6085-46a7-da57-f53122f360bd"
   },
   "outputs": [
    {
     "name": "stdout",
     "output_type": "stream",
     "text": [
      "Total order amount: 7457\n"
     ]
    }
   ],
   "source": [
    "print('Total order amount:', total_amount(700, 599, 650, 900, 820, 630, 520, 799, 999, 840))"
   ]
  },
  {
   "cell_type": "markdown",
   "metadata": {
    "id": "V3o5ByDooLFN"
   },
   "source": [
    "Till now, the arguments we have passed to our functions have been declared by names only, like brand, ram, price1. These types of arguments are called **positional arguments**.\n",
    "\n",
    "Another type of argument in Python is **called keyword argument**, which is declared using both a name and a default value."
   ]
  },
  {
   "cell_type": "markdown",
   "metadata": {
    "id": "tIDDR7GqpRzj"
   },
   "source": [
    "Let us consider the festive season sale, where the store is offering a discount of 5% on all its products. Outside the sale period, there will be no discount for the products.\n",
    "\n",
    "Let's create a new function to compute the total discounted price for an order of one or more phones placed by a customer."
   ]
  },
  {
   "cell_type": "code",
   "execution_count": null,
   "metadata": {
    "id": "KwFVie38nHFl"
   },
   "outputs": [],
   "source": [
    "def total_discounted_amount(*prices, discount=0.0):\n",
    "    \"\"\"\n",
    "    This function takes the prices of phones ordered\n",
    "    and the discount percentage\n",
    "    and returns the total discounted order amount.\n",
    "    \"\"\"\n",
    "    total = 0\n",
    "    # computing the total order amount\n",
    "    for price in prices:\n",
    "        total += price\n",
    "\n",
    "    total_discounted_price = total - discount*total\n",
    "\n",
    "    # return the total amount\n",
    "    return total_discounted_price"
   ]
  },
  {
   "cell_type": "code",
   "execution_count": null,
   "metadata": {
    "colab": {
     "base_uri": "https://localhost:8080/"
    },
    "executionInfo": {
     "elapsed": 237,
     "status": "ok",
     "timestamp": 1695567760300,
     "user": {
      "displayName": "Fernando Diaz",
      "userId": "16819680563727310863"
     },
     "user_tz": 180
    },
    "id": "eAoxq0-arNT-",
    "outputId": "e1592a88-696d-4799-901d-8a33dd4fc98e"
   },
   "outputs": [
    {
     "name": "stdout",
     "output_type": "stream",
     "text": [
      "Total discounted order amount: 7457.0\n"
     ]
    }
   ],
   "source": [
    "print('Total discounted order amount:', total_discounted_amount(700, 599, 650, 900, 820, 630, 520, 799, 999, 840))"
   ]
  },
  {
   "cell_type": "markdown",
   "metadata": {
    "id": "e3fU3p0trmSz"
   },
   "source": [
    "The discount percentage during the festive season sale will be 5%, which we can specify by setting the keyword argument *discount* to 0.05."
   ]
  },
  {
   "cell_type": "code",
   "execution_count": null,
   "metadata": {
    "colab": {
     "base_uri": "https://localhost:8080/"
    },
    "executionInfo": {
     "elapsed": 244,
     "status": "ok",
     "timestamp": 1695567785818,
     "user": {
      "displayName": "Fernando Diaz",
      "userId": "16819680563727310863"
     },
     "user_tz": 180
    },
    "id": "NY1oWOAWrNR2",
    "outputId": "411c1f40-915f-418b-d622-36796f16398f"
   },
   "outputs": [
    {
     "name": "stdout",
     "output_type": "stream",
     "text": [
      "Total discounted order amount (during festive season): 7084.15\n"
     ]
    }
   ],
   "source": [
    "print('Total discounted order amount (during festive season):', total_discounted_amount(700, 599, 650, 900, 820, 630, 520, 799, 999, 840, discount=0.05))"
   ]
  },
  {
   "cell_type": "markdown",
   "metadata": {
    "id": "cMvR2qXc-3ZH"
   },
   "source": [
    "**Note**: In Python, **keyword arguments** should be declared **after** the **positional arguments.**"
   ]
  },
  {
   "cell_type": "code",
   "execution_count": null,
   "metadata": {
    "id": "P8jWyqxT-21L"
   },
   "outputs": [],
   "source": [
    "def total_discounted_amount(discount=0.0, *prices):\n",
    "    \"\"\"\n",
    "    This function takes the prices of phones ordered\n",
    "    and the discount percentage\n",
    "    and returns the total discounted order amount.\n",
    "    \"\"\"\n",
    "    total = 0\n",
    "    # computing the total order amount\n",
    "    for price in prices:\n",
    "        total += price\n",
    "\n",
    "    total_discounted_price = total - discount*total\n",
    "\n",
    "    # return the total amount\n",
    "    return total_discounted_price"
   ]
  },
  {
   "cell_type": "code",
   "execution_count": null,
   "metadata": {
    "colab": {
     "base_uri": "https://localhost:8080/",
     "height": 158
    },
    "executionInfo": {
     "elapsed": 246,
     "status": "error",
     "timestamp": 1695567920733,
     "user": {
      "displayName": "Fernando Diaz",
      "userId": "16819680563727310863"
     },
     "user_tz": 180
    },
    "id": "cOGENuPH_Byi",
    "outputId": "843f9cae-f2bd-42e1-d567-fdedff5ab085"
   },
   "outputs": [
    {
     "ename": "SyntaxError",
     "evalue": "ignored",
     "output_type": "error",
     "traceback": [
      "\u001b[0;36m  File \u001b[0;32m\"<ipython-input-40-b566d9ac1e5b>\"\u001b[0;36m, line \u001b[0;32m1\u001b[0m\n\u001b[0;31m    print('Total discounted order amount (during festive season):', total_discounted_amount(discount=0.05, 700, 599, 650, 900, 820, 630, 520, 799, 999, 840))\u001b[0m\n\u001b[0m                                                                                                                                                           ^\u001b[0m\n\u001b[0;31mSyntaxError\u001b[0m\u001b[0;31m:\u001b[0m positional argument follows keyword argument\n"
     ]
    }
   ],
   "source": [
    "print('Total discounted order amount (during festive season):', total_discounted_amount(discount=0.05, 700, 599, 650, 900, 820, 630, 520, 799, 999, 840))"
   ]
  },
  {
   "cell_type": "markdown",
   "metadata": {
    "id": "9bfBORmP_B9Z"
   },
   "source": [
    "If we assign a value to a positional argument, it becomes a keyword argument. Since it is followed by positional arguments, we get a SyntaxError."
   ]
  },
  {
   "cell_type": "markdown",
   "metadata": {
    "id": "zy1c9pLdsC4I"
   },
   "source": [
    "Just like \\*args helped us remove the constraint on the number of positional arguments, \\**kwargs helps us remove the constraint on the number of keyword arguments.\n",
    "\n",
    "The \\**kwargs argument passed while calling the function must be a mapping, such as a dictionary."
   ]
  },
  {
   "cell_type": "markdown",
   "metadata": {
    "id": "V1GvvsqZszot"
   },
   "source": [
    "MobiWorld has decided to offer a \\$5 cashback on all the products on top of the 5% discount for the last day of the festive season sale. Let's create a function to compute the customer's net spend."
   ]
  },
  {
   "cell_type": "code",
   "execution_count": null,
   "metadata": {
    "id": "FXpSsvqErNM-"
   },
   "outputs": [],
   "source": [
    "def customer_net_spend(*prices, discount=0.0, **kwargs):\n",
    "    \"\"\"\n",
    "    This function takes the prices of phones ordered,\n",
    "    the discount percentage, and any other cost additions/subtractions,\n",
    "    and returns the customer's net spend on the order.\n",
    "    \"\"\"\n",
    "    total = 0\n",
    "    # computing the total order amount\n",
    "    for price in prices:\n",
    "        total += price\n",
    "\n",
    "    total_discounted_price = total - discount*total\n",
    "\n",
    "    net_spend = total_discounted_price - kwargs['cashback']\n",
    "\n",
    "    # return the total amount\n",
    "    return net_spend"
   ]
  },
  {
   "cell_type": "markdown",
   "metadata": {
    "id": "6URROBrAyE8x"
   },
   "source": [
    "Importan: Note that the **kwargs arguments passed while calling the function must be a mappuing"
   ]
  },
  {
   "cell_type": "code",
   "execution_count": null,
   "metadata": {
    "colab": {
     "base_uri": "https://localhost:8080/"
    },
    "executionInfo": {
     "elapsed": 238,
     "status": "ok",
     "timestamp": 1695569300027,
     "user": {
      "displayName": "Fernando Diaz",
      "userId": "16819680563727310863"
     },
     "user_tz": 180
    },
    "id": "EIsAtDpxvu6K",
    "outputId": "f3e178de-f0cb-4fa9-f049-b8d3e07e50ca"
   },
   "outputs": [
    {
     "name": "stdout",
     "output_type": "stream",
     "text": [
      "Customer net spend (during last day of festive season): 1846.55\n"
     ]
    }
   ],
   "source": [
    "additionals = {'cashback': 5}\n",
    "print('Customer net spend (during last day of festive season):', customer_net_spend(700, 599, 650, discount=0.05, **additionals))"
   ]
  },
  {
   "cell_type": "markdown",
   "metadata": {
    "id": "N1JbP5cP_jCR"
   },
   "source": [
    "MobiWorld plans to introduce a reward-point system based on the total order amount. Reward points will be given as per the following scheme:\n",
    "\n",
    "* Total Amount >= 2000: 100 Reward Points\n",
    "* Total Amount >= 5000: 200 Reward Points\n",
    "* Total Amount >= 10000: 300 Reward Points\n",
    "\n",
    "Let's define a function that will return the total amount, net spend, and rewards points earned for the order."
   ]
  },
  {
   "cell_type": "code",
   "execution_count": null,
   "metadata": {
    "id": "1ANWNzPLDMpW"
   },
   "outputs": [],
   "source": [
    "def order_summary(*prices, **additionals):\n",
    "    \"\"\"\n",
    "    This function takes the prices of phones ordered\n",
    "    and any other cost additions/subtractions,\n",
    "    and returns the total amount, net spend,\n",
    "    and rewards points earned for the order.\n",
    "    \"\"\"\n",
    "    total = 0\n",
    "    # computing the total order amount\n",
    "    for price in prices:\n",
    "        total += price\n",
    "\n",
    "    net_spend = total - additionals['discount']*total - additionals['cashback']\n",
    "\n",
    "    if total >= 10000:\n",
    "        reward_points = 300\n",
    "    elif total >= 5000:\n",
    "        reward_points = 200\n",
    "    elif total >= 2000:\n",
    "        reward_points = 100\n",
    "    else:\n",
    "        reward_points = 0\n",
    "\n",
    "    # return the total amount\n",
    "    return total, net_spend, reward_points"
   ]
  },
  {
   "cell_type": "markdown",
   "metadata": {
    "id": "HqTORixh0LTI"
   },
   "source": [
    "Python will return multiple outputs as a tuple."
   ]
  },
  {
   "cell_type": "code",
   "execution_count": null,
   "metadata": {
    "colab": {
     "base_uri": "https://localhost:8080/"
    },
    "executionInfo": {
     "elapsed": 235,
     "status": "ok",
     "timestamp": 1695569549473,
     "user": {
      "displayName": "Fernando Diaz",
      "userId": "16819680563727310863"
     },
     "user_tz": 180
    },
    "id": "CttK_RKoDMlA",
    "outputId": "7b8a37c4-a8ee-4577-82ec-272b49048e50"
   },
   "outputs": [
    {
     "name": "stdout",
     "output_type": "stream",
     "text": [
      "Customer Order Summary:\n",
      " \n",
      "Total Amount: 2049 \n",
      "Total Discounted Amount: 1941.55 \n",
      "Reward Points Earned: 100\n"
     ]
    }
   ],
   "source": [
    "additionals = {'discount':0.05, 'cashback': 5}\n",
    "ta, ns, rp = order_summary(700, 599, 750, **additionals)\n",
    "print('Customer Order Summary:\\n', '\\nTotal Amount:', ta, '\\nTotal Discounted Amount:', ns, '\\nReward Points Earned:', rp)"
   ]
  },
  {
   "cell_type": "markdown",
   "metadata": {
    "id": "kmJhS-8N1fBE"
   },
   "source": [
    "Note the += and *= operations in the following examples"
   ]
  },
  {
   "cell_type": "code",
   "execution_count": null,
   "metadata": {
    "colab": {
     "base_uri": "https://localhost:8080/"
    },
    "executionInfo": {
     "elapsed": 268,
     "status": "ok",
     "timestamp": 1695569610563,
     "user": {
      "displayName": "Fernando Diaz",
      "userId": "16819680563727310863"
     },
     "user_tz": 180
    },
    "id": "pBZp1_T40twU",
    "outputId": "f572e765-37f3-4238-a8ca-5e718f7c3032"
   },
   "outputs": [
    {
     "data": {
      "text/plain": [
       "6"
      ]
     },
     "execution_count": 48,
     "metadata": {},
     "output_type": "execute_result"
    }
   ],
   "source": [
    "def total_addition(*numbers):\n",
    "    addition = 0\n",
    "    for number in numbers:\n",
    "        addition += number\n",
    "    return addition\n",
    "\n",
    "total_addition(1,2,3)"
   ]
  },
  {
   "cell_type": "code",
   "execution_count": null,
   "metadata": {
    "colab": {
     "base_uri": "https://localhost:8080/"
    },
    "executionInfo": {
     "elapsed": 264,
     "status": "ok",
     "timestamp": 1695569792769,
     "user": {
      "displayName": "Fernando Diaz",
      "userId": "16819680563727310863"
     },
     "user_tz": 180
    },
    "id": "nMhyT-wF1bpG",
    "outputId": "c5ebafd7-8ebc-4f92-e3b3-6794469850f1"
   },
   "outputs": [
    {
     "data": {
      "text/plain": [
       "120"
      ]
     },
     "execution_count": 49,
     "metadata": {},
     "output_type": "execute_result"
    }
   ],
   "source": [
    "def fun(*int):\n",
    "    result = 1\n",
    "    for x in int:\n",
    "        result *= x\n",
    "    return result\n",
    "\n",
    "fun(1,2,3,4,5)"
   ]
  },
  {
   "cell_type": "markdown",
   "metadata": {
    "id": "_NZ2bn_vy6vJ"
   },
   "source": [
    "***"
   ]
  }
 ],
 "metadata": {
  "colab": {
   "provenance": []
  },
  "kernelspec": {
   "display_name": "Python (dev-env)",
   "language": "python",
   "name": "dev-env"
  },
  "language_info": {
   "codemirror_mode": {
    "name": "ipython",
    "version": 3
   },
   "file_extension": ".py",
   "mimetype": "text/x-python",
   "name": "python",
   "nbconvert_exporter": "python",
   "pygments_lexer": "ipython3",
   "version": "3.13.3"
  }
 },
 "nbformat": 4,
 "nbformat_minor": 0
}
