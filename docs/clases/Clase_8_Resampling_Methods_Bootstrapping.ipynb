{
 "cells": [
  {
   "cell_type": "markdown",
   "metadata": {},
   "source": [
    "\n",
    "# 📦  Bootstrapping\n"
   ]
  },
  {
   "cell_type": "markdown",
   "id": "102edf11",
   "metadata": {},
   "source": [
    "\n",
    "\n",
    "## **Concepts Covered:**\n",
    "\n",
    "- <a href = #link1>1. 📝 What is Bootstrapping?</a>  \n",
    "- <a href = #link2>2. 🌍  Working Example:   The Populations</a>  \n",
    "- <a href = #link3>3. 🎯 Sampling from the Populations</a>  \n",
    "- <a href = #link4>4. 📏 Classical t-test for Difference in Means (Welch)</a>  \n",
    "- <a href = #link5>5. 🎲 Bootstrap Implementation </a>  \n",
    "- <a href = #link6>6. 📐 Bootstrap Standard Error and t-statistic</a>  \n",
    "- <a href = #link7>7. 📊 p-value from the Bootstrap</a>  \n",
    "- <a href = #link8>8. 📊  The Empirical Distribution</a>  \n"
   ]
  },
  {
   "cell_type": "markdown",
   "metadata": {},
   "source": [
    "---\n",
    "## **Importing Libraries**"
   ]
  },
  {
   "cell_type": "code",
   "execution_count": 1,
   "metadata": {},
   "outputs": [],
   "source": [
    "# Import necessary libraries\n",
    "import numpy as np\n",
    "import matplotlib.pyplot as plt\n",
    "from scipy import stats\n",
    "import seaborn as sns\n",
    "import pandas as pd\n",
    "from sklearn.utils import resample\n"
   ]
  },
  {
   "cell_type": "markdown",
   "metadata": {},
   "source": [
    "<a id=\"link1\"></a>\n",
    "\n",
    "## (1) **What is Bootstrapping?**"
   ]
  },
  {
   "cell_type": "markdown",
   "metadata": {},
   "source": [
    "\n",
    "Bootstrapping is a powerful statistical technique used to estimate the distribution of a statistic (like the mean, median, variance, etc.) from a sample data set. It belongs to the broader class of resampling methods and is particularly useful when the theoretical distribution of the statistic is complex or unknown. The core idea behind bootstrapping is to generate many simulated samples from the original data, calculate the statistic of interest for each simulated sample, and then analyze the distribution of these statistics."
   ]
  },
  {
   "cell_type": "markdown",
   "metadata": {},
   "source": [
    "\n",
    "---\n",
    "\n",
    "### 🔑 Key Idea\n",
    "- Start with your observed dataset of size $n$.  \n",
    "- Draw **bootstrap samples**: resample $n$ observations *with replacement*.  \n",
    "- Compute the statistic of interest (e.g., mean, standard deviation) for each bootstrap sample.  \n",
    "- Repeat this process many times ($B$ iterations).  \n",
    "- Use the distribution of the bootstrap statistics to estimate **standard errors, bias, and confidence intervals**.  \n",
    "\n",
    "---\n",
    "\n",
    "### ✨ Why Bootstrapping?\n",
    "- 📊 Works with **any statistic** (mean, median, regression coefficients, etc.).  \n",
    "- 🚫 Requires **no strong parametric assumptions** (like normality).  \n",
    "- 🧮 Easy to implement with modern computing power.  \n",
    "\n",
    "---\n",
    "\n",
    "### 📌 Example: Bootstrap Confidence Interval\n",
    "Suppose we want the **95% CI for the mean**:  \n",
    "1. Generate $B=1000$ bootstrap samples.  \n",
    "2. Compute the mean for each sample.  \n",
    "3. Take the 2.5th and 97.5th percentiles of the bootstrap means → that’s our **bootstrap CI**.  \n",
    "\n",
    "---\n",
    "\n",
    "👉 Bootstrapping gives a flexible, data-driven way to measure **uncertainty**, especially when analytical formulas for standard errors are difficult or unavailable."
   ]
  },
  {
   "cell_type": "markdown",
   "metadata": {},
   "source": [
    "<a id=\"link2\"></a>\n",
    "\n",
    "## (2) Working Example:  🌍 The Populations\n",
    "\n",
    "To illustrate the role of **resampling and bootstrapping**, we’ll generate two independent populations that:  \n",
    "\n",
    "- Have the **same mean** 💡  \n",
    "- But differ in their **distributional shape**:  \n",
    "  - 📉 One is **strongly left-skewed**  \n",
    "  - 🌀 The other has **heavy tails**  \n",
    "\n",
    "From each population, we’ll draw **small samples (without replacement)**.  \n",
    "We’ll then test how a **t-test for equality of means** performs in this scenario.  \n",
    "\n",
    "---\n",
    "\n",
    "👉 This setup highlights a key challenge:  \n",
    "Traditional tests like the **t-test** rely on assumptions (e.g., normality, equal variances).  \n",
    "When populations are skewed or heavy-tailed, these assumptions may not hold — and that’s where **resampling methods** like bootstrapping become powerful alternatives.  \n"
   ]
  },
  {
   "cell_type": "markdown",
   "metadata": {},
   "source": [
    "<a id=\"link2\"></a>\n",
    "### **Data Generation**\n",
    "\n",
    "First, we'll generate the datasets for each group. "
   ]
  },
  {
   "cell_type": "code",
   "execution_count": 2,
   "metadata": {},
   "outputs": [],
   "source": [
    "# Set seed for reproducibility\n",
    "np.random.seed(0)\n",
    "\n",
    "# Generate data\n",
    "group1_initial = np.random.exponential(scale=1, size=1000)  # Exponential for left skew\n",
    "group2_initial = np.random.standard_t(df=3, size=1000)      # t-distribution for heavy tails\n"
   ]
  },
  {
   "cell_type": "markdown",
   "metadata": {},
   "source": [
    "\n",
    "### 🎲 Bootstrap Implementation \n",
    "\n",
    "- **Group 1 (Exponential)**:  \n",
    "  - Highly **skewed to the left**.  \n",
    "  - Most values are close to 0, but there are occasional large values (long tail).  \n",
    "\n",
    "- **Group 2 (Student’s t, df=3)**:  \n",
    "  - **Heavy-tailed distribution**.  \n",
    "  - Compared to a normal distribution, it produces more extreme outliers.  \n",
    "\n",
    "By construction, both groups have **similar means** but very different shapes.  \n",
    "This contrast allows us to test whether the **t-test for equality of means** is robust when assumptions of normality are violated.  \n"
   ]
  },
  {
   "cell_type": "markdown",
   "metadata": {},
   "source": [
    "\n",
    "### ⚖️ Mean Adjustment\n",
    "\n",
    "To make the comparison fair, we adjust both groups to have the **same mean**:\n",
    "\n",
    "- Compute the **target mean** as the average of the two groups’ original means.  \n",
    "- Shift each group by subtracting its own mean and then adding the target mean.  \n",
    "\n",
    "✅ This way, both groups have **identical means**, but:  \n",
    "- **Group 1** keeps its **left-skewed shape** (Exponential).  \n",
    "- **Group 2** keeps its **heavy-tailed shape** (t-distribution).  \n",
    "\n",
    "This setup isolates the effect of **distributional differences**, allowing us to test whether the **t-test** is sensitive when its normality assumptions are violated.\n"
   ]
  },
  {
   "cell_type": "code",
   "execution_count": 3,
   "metadata": {},
   "outputs": [
    {
     "name": "stdout",
     "output_type": "stream",
     "text": [
      "Group 1 Mean: 0.5244079967121674\n",
      "Group 2 Mean: 0.5244079967121674\n"
     ]
    }
   ],
   "source": [
    "# Adjust to have the same mean\n",
    "mean_target = np.mean(np.concatenate((group1_initial, group2_initial)))  # Average mean of initial groups\n",
    "\n",
    "group1 = group1_initial - np.mean(group1_initial) + mean_target\n",
    "group2 = group2_initial - np.mean(group2_initial) + mean_target\n",
    "\n",
    "# Check means\n",
    "print(f'Group 1 Mean: {np.mean(group1)}')\n",
    "print(f'Group 2 Mean: {np.mean(group2)}')\n"
   ]
  },
  {
   "cell_type": "markdown",
   "metadata": {},
   "source": [
    "\n",
    "### 🎨 Visualizing the Distributions\n",
    "\n",
    "Before applying statistical tests, let’s **visualize the two populations** to clearly see their shapes:\n",
    "\n",
    "- **Group 1 (Exponential, left-skewed)** 📉  \n",
    "  Most values are concentrated near 0, with a long tail extending to the right.  \n",
    "\n",
    "- **Group 2 (Student’s t with df=3, heavy-tailed)** 🌀  \n",
    "  Values are more spread out, with a higher probability of extreme outliers compared to a normal distribution.  \n",
    "\n",
    "Even though both groups now share the **same mean** ⚖️, their **distributional forms** are very different.  \n",
    "This contrast is key to understanding how the **t-test** might perform under violations of normality.  \n"
   ]
  },
  {
   "cell_type": "code",
   "execution_count": 4,
   "metadata": {},
   "outputs": [
    {
     "data": {
      "image/png": "[encoded data removed]",
      "text/plain": [
       "<Figure size 800x500 with 1 Axes>"
      ]
     },
     "metadata": {},
     "output_type": "display_data"
    }
   ],
   "source": [
    "plt.figure(figsize=(8, 5))\n",
    "\n",
    "# Plotting the distribution of Group 1: Left Skew using kdeplot\n",
    "sns.kdeplot(group1, label='Group 1: Left Skew', fill=True)\n",
    "\n",
    "# Plotting the distribution of Group 2: Heavy Tails using kdeplot\n",
    "sns.kdeplot(group2, label='Group 2: Heavy Tails', fill=True)\n",
    "\n",
    "plt.legend()\n",
    "plt.title('Distributions of Group 1 and Group 2 with Adjusted Means')\n",
    "plt.xlabel('Value')\n",
    "plt.ylabel('Density')\n",
    "\n",
    "plt.show()\n"
   ]
  },
  {
   "cell_type": "markdown",
   "metadata": {},
   "source": [
    "<a id=\"link3\"></a>\n",
    "\n",
    "## (3) 🧪 Sampling from the Populations\n",
    "\n",
    "We now draw **small samples** from each adjusted population to see how **sampling variability** shows up in practice:\n",
    "\n",
    "- **Sample sizes:** 30 from **Group 1** (left-skewed) and 35 from **Group 2** (heavy-tailed).  \n",
    "- **Sampling scheme:** without replacement from the adjusted populations (both share the **same true mean** by construction).  \n",
    "- **Reproducibility:** we set a random seed so results are consistent across runs.\n",
    "\n",
    "---\n",
    "\n",
    "#### 🔍 What the next plot shows\n",
    "- **KDE curves** (smoothed density estimates) for each sample to highlight **shape differences** even at small \\( n \\).  \n",
    "- **Dashed vertical lines** mark the **sample means** \\( \\bar{x}_1 \\) and \\( \\bar{x}_2 \\).  \n",
    "- Although the *populations* have the **same mean**, the **sample means will differ** due to randomness—especially with small samples and non-normal shapes (skewness/heavy tails).\n",
    "\n",
    "---\n",
    "\n",
    "#### 🧠 Why this matters\n",
    "- With small \\( n \\), departures from normality (skew/heavy tails) can make classical tests (like the **t-test**) **less reliable**.  \n",
    "- Visualizing the samples helps diagnose **asymmetry**, **tail weight**, and **outliers**—all of which affect inference.  \n",
    "- This setup motivates **resampling methods** (e.g., **bootstrap CIs** for the mean difference) that do not rely on strict normality assumptions.\n",
    "\n",
    "> Tip: KDE smoothness is controlled by the bandwidth; here we use a modest adjustment to make the sample shapes visible without over-smoothing.\n"
   ]
  },
  {
   "cell_type": "code",
   "execution_count": 5,
   "metadata": {},
   "outputs": [
    {
     "data": {
      "image/png": "[encoded data removed]",
      "text/plain": [
       "<Figure size 800x500 with 1 Axes>"
      ]
     },
     "metadata": {},
     "output_type": "display_data"
    },
    {
     "name": "stdout",
     "output_type": "stream",
     "text": [
      "Group 1 Sample Mean: 0.33438288537356603\n",
      "Group 2 Sample Mean: 1.0962711588134813\n"
     ]
    }
   ],
   "source": [
    "np.random.seed(13)\n",
    "\n",
    "# Adjusting the sample size to 30 for the first group and 35 for the second group\n",
    "\n",
    "# Resample from the adjusted groups to get the new sample sizes\n",
    "group1_sample = np.random.choice(group1, size=30, replace=False)\n",
    "group2_sample = np.random.choice(group2, size=35, replace=False)\n",
    "\n",
    "# New visualization using sns.kdeplot for kernel density estimation\n",
    "plt.figure(figsize=(8, 5))\n",
    "\n",
    "sns.kdeplot(group1_sample, label='Group 1: Left Skew', bw_adjust=0.5)\n",
    "sns.kdeplot(group2_sample, label='Group 2: Heavy Tails', bw_adjust=0.5)\n",
    "\n",
    "plt.axvline(np.mean(group1_sample), color='blue', linestyle='--', label='Mean of Group 1')\n",
    "plt.axvline(np.mean(group2_sample), color='orange', linestyle='--', label='Mean of Group 2')\n",
    "\n",
    "plt.legend()\n",
    "plt.title('Sample Distributions of Group 1 and Group 2 with Adjusted Means')\n",
    "plt.xlabel('Value')\n",
    "plt.ylabel('Density')\n",
    "\n",
    "plt.show()\n",
    "\n",
    "# Return the mean of each sample to verify\n",
    "\n",
    "print(f'Group 1 Sample Mean: {np.mean(group1_sample)}')\n",
    "print(f'Group 2 Sample Mean: {np.mean(group2_sample)}')\n"
   ]
  },
  {
   "cell_type": "markdown",
   "metadata": {},
   "source": [
    "<a id=\"link4\"></a>\n",
    "## (4) 📏 Classical t-test for Difference in Means (Welch)\n",
    "\n",
    "With our two samples in hand, we’ll begin with a **two-sample t-test** to assess whether the means differ.\n",
    "\n",
    "---\n",
    "\n",
    "#### 🔑 Hypotheses (two-sided)\n",
    "$$\n",
    "H_0:\\ \\mu_1=\\mu_2\n",
    "\\qquad\\text{vs}\\qquad\n",
    "H_a:\\ \\mu_1\\neq\\mu_2\n",
    "$$\n",
    "\n",
    "We use **Welch’s t-test** (`equal_var=False`), which does **not** assume equal variances—important given the **left-skew** vs **heavy-tailed** shapes.\n",
    "\n",
    "#### Test statistic (Welch)\n",
    "$$\n",
    "t \\;=\\; \\frac{\\bar x_1-\\bar x_2}{\\sqrt{\\dfrac{s_1^2}{n_1}+\\dfrac{s_2^2}{n_2}}}\n",
    "\\quad,\\qquad\n",
    "\\nu \\;\\approx\\; \n",
    "\\frac{\\left(\\dfrac{s_1^2}{n_1}+\\dfrac{s_2^2}{n_2}\\right)^2}\n",
    "{\\dfrac{\\left(\\dfrac{s_1^2}{n_1}\\right)^2}{n_1-1}+\\dfrac{\\left(\\dfrac{s_2^2}{n_2}\\right)^2}{n_2-1}}\n",
    "$$\n",
    "\n",
    "where $\\bar x_j$, $s_j^2$, and $n_j$ are the sample mean, variance, and size of group $j$.\n",
    "\n",
    "---\n",
    "\n",
    "#### ⚠️ Caveat\n",
    "The t-test assumes that, under $H_0$, the statistic follows a (Welch-adjusted) **t distribution**. With **small $n$** and **non-normal** data (skewed/heavy-tailed), Type I error and power can be distorted—this motivates **bootstrap** inference as a robustness check.\n",
    "\n",
    "> Next cell: compute the **t-statistic** and **p-value** with `scipy.stats.ttest_ind(..., equal_var=False)`.\n",
    "\n"
   ]
  },
  {
   "cell_type": "code",
   "execution_count": 6,
   "metadata": {},
   "outputs": [
    {
     "name": "stdout",
     "output_type": "stream",
     "text": [
      "The t-stat is equal to -2.33, with a p-value of 0.0241 \n"
     ]
    }
   ],
   "source": [
    "# Perform a standard t-test for the difference in means between the two samples\n",
    "t_stat, p_value = stats.ttest_ind(group1_sample, group2_sample, equal_var=False)\n",
    "\n",
    "t_stat, p_value\n",
    "\n",
    "print(f'The t-stat is equal to {t_stat:.2f}, with a p-value of {p_value:.4f} ')\n"
   ]
  },
  {
   "cell_type": "markdown",
   "metadata": {},
   "source": [
    "\n",
    "### 🧾 Interpreting the t-test Result\n",
    "\n",
    "The test produced:\n",
    "\n",
    "- **t-statistic:** -2.33  \n",
    "- **p-value:** 0.0241  \n",
    "\n",
    "---\n",
    "\n",
    "#### ✅ Conclusion\n",
    "Since the p-value ($0.0241$) is **less than 0.10** (and even less than 0.05), we **reject the null hypothesis** $H_0$ at the 10% and 5% significance levels.  \n",
    "This indicates there is a **statistically significant difference** in the sample means.\n",
    "\n",
    "---\n",
    "\n",
    "#### 💡 Interpretation\n",
    "- Although the **true population means are equal** (by construction), the **samples** suggest a difference.  \n",
    "- This discrepancy can arise due to:  \n",
    "  - **Small sample sizes**, which increase variability.  \n",
    "  - **Non-normal distributions** (skewness, heavy tails), which violate t-test assumptions.  \n",
    "- Thus, the t-test may produce misleading conclusions under these conditions.  \n",
    "\n",
    "👉 This motivates the use of **resampling methods** (like the **bootstrap**) to provide a more reliable assessment when assumptions are not satisfied.\n",
    "\n",
    "📌 For more on assumptions and limitations of the t-test, see [Statology: T-Test Assumptions](https://www.statology.org/t-test-assumptions/).\n"
   ]
  },
  {
   "cell_type": "markdown",
   "metadata": {},
   "source": [
    "<a id=\"link5\"></a>\n",
    "\n",
    "\n",
    "##  (5) 🎲 Bootstrap Implementation \n"
   ]
  },
  {
   "cell_type": "markdown",
   "metadata": {},
   "source": [
    "<a id=\"link5\"></a>\n",
    "### 🔄 Bootstrap Function for Difference in Means\n",
    "\n",
    "To overcome the limitations of the classical t-test, we now use a **bootstrap approach** to estimate the sampling distribution of the difference in means.  \n",
    "\n",
    "---\n",
    "\n",
    "#### 🛠️ How the function works\n",
    "- **Inputs:**  \n",
    "  - `x` and `y`: the two samples to compare.  \n",
    "  - `n_bootstrap`: number of bootstrap replications (default = 50).  \n",
    "\n",
    "- **Process:**  \n",
    "  1. 🎲 **Resample with replacement** from each group (`x` and `y`).  \n",
    "  2. 📊 Compute the **difference in sample means** for the resampled data.  \n",
    "  3. ➕ Append this difference to the list `bootstrapped_diffs`.  \n",
    "  4. 🔁 Repeat the process `n_bootstrap` times.  \n",
    "\n",
    "- **Output:**  \n",
    "  - A list of bootstrapped differences in means, approximating the **sampling distribution** under repeated resampling.  \n",
    "\n",
    "---\n",
    "\n",
    "#### 💡 Why this helps\n",
    "- The bootstrap does **not assume normality** of the populations.  \n",
    "- It provides an **empirical distribution** for the statistic of interest.  \n",
    "- From this distribution, we can compute:  \n",
    "  - 📏 **Standard errors**  \n",
    "  - 📦 **Confidence intervals**  \n",
    "  - 🧪 Approximate **p-values**  \n",
    "\n",
    "👉 In this way, bootstrapping gives us a **robust alternative** to the t-test when its assumptions may not hold.\n"
   ]
  },
  {
   "cell_type": "code",
   "execution_count": 7,
   "metadata": {},
   "outputs": [],
   "source": [
    "# Bootstrap Function\n",
    "\n",
    "np.random.seed(55)\n",
    "\n",
    "def bootstrap_mean_diff_corrected(x, y, n_bootstrap=50):\n",
    "    \"\"\"Calculate bootstrapped difference in means.\"\"\"\n",
    "    bootstrapped_diffs = []      #Here, an empty list bootstrapped_diffs is initialized\n",
    "                                 #to store the differences in means from each bootstrap sample.\n",
    "    for _ in range(n_bootstrap):\n",
    "        sample_x = resample(x)\n",
    "        sample_y = resample(y)\n",
    "        diff = np.mean(sample_x) - np.mean(sample_y)\n",
    "        bootstrapped_diffs.append(diff) #This diff is then appended to the list bootstrapped_diffs.\n",
    "    return bootstrapped_diffs\n",
    "\n"
   ]
  },
  {
   "cell_type": "markdown",
   "metadata": {},
   "source": [
    "We can now analyze the results of the bootstrap. The function `bootstrap_mean_diff_corrected` is called with group1_sample and group2_sample as inputs to generate the bootstrapped differences in means, `bootstrapped_diffs`."
   ]
  },
  {
   "cell_type": "code",
   "execution_count": 9,
   "metadata": {},
   "outputs": [
    {
     "data": {
      "text/plain": [
       "[np.float64(-0.7773182636513086),\n",
       " np.float64(-0.8745436910469565),\n",
       " np.float64(-0.2771157983572439),\n",
       " np.float64(-0.9623436841470732),\n",
       " np.float64(-0.6075396287048713),\n",
       " np.float64(-0.7142306812483612),\n",
       " np.float64(-0.4158553135701295),\n",
       " np.float64(-0.8753314771108507),\n",
       " np.float64(-0.8831345525099391),\n",
       " np.float64(-0.9140003685993143),\n",
       " np.float64(-0.7856283031703166),\n",
       " np.float64(-1.124946957400944),\n",
       " np.float64(-1.5669684902763676),\n",
       " np.float64(-0.755694045523279),\n",
       " np.float64(-1.0126403281152607),\n",
       " np.float64(-1.0287261895052187),\n",
       " np.float64(-1.2277130319254244),\n",
       " np.float64(-0.870842894711104),\n",
       " np.float64(-1.2580948734152275),\n",
       " np.float64(-0.658424226375974),\n",
       " np.float64(-0.6282903101478815),\n",
       " np.float64(-0.4314200608909916),\n",
       " np.float64(-1.1944585753905446),\n",
       " np.float64(-0.4594813541612492),\n",
       " np.float64(-0.972531252956675),\n",
       " np.float64(-0.1816916475098857),\n",
       " np.float64(-1.43449367516554),\n",
       " np.float64(-0.6357094888609756),\n",
       " np.float64(-0.755246870984009),\n",
       " np.float64(-0.7227734687793956),\n",
       " np.float64(-0.786639522223553),\n",
       " np.float64(-0.12395665317956417),\n",
       " np.float64(-1.0626716698197791),\n",
       " np.float64(-0.4189949920540463),\n",
       " np.float64(-0.7659736699753947),\n",
       " np.float64(-0.23812261263507128),\n",
       " np.float64(-0.27254166306722405),\n",
       " np.float64(-0.6412618562181922),\n",
       " np.float64(-0.5565286665316245),\n",
       " np.float64(-0.33070614424276273),\n",
       " np.float64(-0.6160077058428126),\n",
       " np.float64(-0.9987022334378672),\n",
       " np.float64(-0.4078771218478656),\n",
       " np.float64(-0.853482970703304),\n",
       " np.float64(-0.966151816813931),\n",
       " np.float64(-0.5311180416793564),\n",
       " np.float64(-1.411689580672621),\n",
       " np.float64(-1.0203497302341795),\n",
       " np.float64(-0.8910699696933144),\n",
       " np.float64(-0.742068808315953)]"
      ]
     },
     "execution_count": 9,
     "metadata": {},
     "output_type": "execute_result"
    }
   ],
   "source": [
    "# Perform bootstrap to get differences in means\n",
    "bootstrapped_diffs_corrected = bootstrap_mean_diff_corrected(group1_sample, group2_sample)\n",
    "bootstrapped_diffs_corrected"
   ]
  },
  {
   "cell_type": "markdown",
   "metadata": {},
   "source": [
    "<a id=\"link6\"></a>\n",
    "\n",
    "## (6) 📐 Bootstrap Standard Error and t-statistic\n",
    "\n",
    "Once we have the bootstrap distribution of mean differences, we can compute an **empirical standard error (SE)** and use it to form a **bootstrap-based test statistic**.\n",
    "\n",
    "---\n",
    "\n",
    "#### 🛠️ Steps\n",
    "1. **Bootstrap SE**  \n",
    "   - Compute the standard deviation of the bootstrapped differences.  \n",
    "   - This serves as an estimate of the standard error of the mean difference.  \n",
    "   - We use `ddof=1` to calculate the *sample* standard deviation.  \n",
    "\n",
    "2. **Observed difference**  \n",
    "   - Calculate the actual difference in sample means between Group 1 and Group 2.  \n",
    "\n",
    "3. **Bootstrap t-statistic**  \n",
    "   $$\n",
    "   t^* \\;=\\; \\frac{\\bar{x}_1 - \\bar{x}_2}{SE_\\text{bootstrap}}\n",
    "   $$  \n",
    "   This statistic mimics the classical t-statistic but uses the **bootstrap SE** instead of relying on theoretical formulas.  \n",
    "\n",
    "---\n",
    "\n",
    "#### 💡 Why this matters\n",
    "- The classical t-test assumes normality and may misestimate SE under skewed or heavy-tailed distributions.  \n",
    "- The bootstrap SE adapts to the **actual data distribution**, making the inference more robust.  \n",
    "\n",
    "👉 The result is a **bootstrap-based t-statistic**, which we can compare with the classical t-test value.\n"
   ]
  },
  {
   "cell_type": "code",
   "execution_count": 13,
   "metadata": {},
   "outputs": [
    {
     "name": "stdout",
     "output_type": "stream",
     "text": [
      "Bootstrap t-statistic: -2.312\n"
     ]
    }
   ],
   "source": [
    "# Calculate the bootstrapped standard error and t-statistic\n",
    "bootstrapped_se_corrected = np.std(bootstrapped_diffs_corrected, ddof=1)  # ddof=1 for sample standard deviation)\n",
    "observed_diff_corrected = np.mean(group1_sample) - np.mean(group2_sample)\n",
    "t_stat_bootstrap_corrected = observed_diff_corrected / bootstrapped_se_corrected\n",
    "\n",
    "print(f'Bootstrap t-statistic: {t_stat_bootstrap_corrected:.3f}')"
   ]
  },
  {
   "cell_type": "markdown",
   "metadata": {},
   "source": [
    "### 🧮 Why use `ddof = 1`?\n",
    "\n",
    "When we calculate a standard deviation, we can choose between:\n",
    "\n",
    "- **Population standard deviation**: assumes we know the *entire population*.  \n",
    "  - Formula divides by $n$.  \n",
    "- **Sample standard deviation**: assumes we only have a *sample*.  \n",
    "  - Formula divides by $n-1$.  \n",
    "\n",
    "---\n",
    "\n",
    "#### 🔑 Degrees of Freedom\n",
    "The `ddof` parameter in NumPy’s `np.std()` sets the **delta degrees of freedom**:\n",
    "- `ddof=0` → divide by $n$ (population formula).  \n",
    "- `ddof=1` → divide by $n-1$ (sample formula, unbiased estimator).  \n",
    "\n",
    "---\n",
    "\n",
    "#### 📌 Why here?\n",
    "- We don’t have the whole population of bootstrap differences, just a finite number of resamples.  \n",
    "- Using `ddof=1` corrects for the fact that the sample variance tends to **underestimate** the true variance.  \n",
    "- This makes our estimate of the **bootstrap standard error** less biased.  \n",
    "\n",
    "👉 In practice: `ddof=1` is the **default in statistics** when estimating standard deviation from a sample rather than a population.\n"
   ]
  },
  {
   "cell_type": "markdown",
   "metadata": {},
   "source": [
    "<a id=\"link5\"></a>\n",
    "### 🧾 Interpreting the Bootstrap t-statistic\n",
    "\n",
    "The bootstrap procedure gave:\n",
    "\n",
    "- **Bootstrap t-statistic:** -2.554  \n",
    "\n",
    "---\n",
    "\n",
    "#### ❓ Is this significant?\n",
    "\n",
    "In a classical t-test, we would compare this value to the **t-distribution** with appropriate degrees of freedom to obtain a p-value.  \n",
    "But in bootstrapping, we **cannot assume** the test statistic follows a standard t-distribution.\n",
    "\n",
    "---\n",
    "\n",
    "#### ⚠️ Key Difference\n",
    "- **Traditional approach**:  \n",
    "  - Assumes the test statistic follows a $t$-distribution under $H_0$.  \n",
    "  - p-value = probability of observing a t-statistic at least as extreme as the observed one.  \n",
    "\n",
    "- **Bootstrap approach**:  \n",
    "  - Relies on the **empirical distribution** generated by resampling the data.  \n",
    "  - p-value is estimated directly as the **proportion of bootstrap replicates** where the test statistic is as extreme (or more extreme) than the observed one.  \n",
    "\n",
    "---\n",
    "\n",
    "#### 💡 Interpretation\n",
    "The observed statistic of **-2.554** looks fairly extreme, suggesting potential evidence against $H_0$.  \n",
    "But the **final decision about significance** must come from comparing it to the **bootstrap distribution** of differences — not from the theoretical t-table.  \n",
    "\n",
    "👉 Next step: compute a **bootstrap p-value** by counting how many bootstrap replicates are as extreme as the observed difference.\n"
   ]
  },
  {
   "cell_type": "markdown",
   "metadata": {},
   "source": [
    "<a id=\"link7\"></a>\n",
    "## (7) 📊 p-value from the Bootstrap\n",
    "\n",
    "In the bootstrap framework, the **p-value** is not derived from a theoretical distribution (like the $t$-distribution).  \n",
    "Instead, it comes directly from the **empirical resampling distribution**.\n",
    "\n",
    "---\n",
    "\n",
    "#### 🔑 How it’s computed\n",
    "- Calculate the **observed difference in means**.  \n",
    "- Generate many **bootstrapped differences**.  \n",
    "- Compute the proportion of bootstrap replicates where the **absolute difference** is at least as large as the observed one:\n",
    "\n",
    "$$\n",
    "p \\;=\\; \\frac{\\#\\{\\, |\\hat\\theta^{*}_b| \\;\\geq\\; |\\hat\\theta_{\\text{obs}}| \\,\\}}{B}\n",
    "$$\n",
    "\n",
    "where $ \\hat\\theta^{*}_b $ are the bootstrap replicates and $B$ is the number of bootstrap samples.\n",
    "\n",
    "---\n",
    "\n",
    "#### 💡 Interpretation\n",
    "- A **small bootstrap p-value** → observed statistic is extreme relative to the resampling distribution → evidence against $H_0$.  \n",
    "- A **large bootstrap p-value** → observed statistic is consistent with what we’d expect under $H_0$ → fail to reject.  \n",
    "\n",
    "👉 This approach makes no assumption about the population distribution — it’s entirely **data-driven**.\n"
   ]
  },
  {
   "cell_type": "code",
   "execution_count": null,
   "metadata": {},
   "outputs": [
    {
     "name": "stdout",
     "output_type": "stream",
     "text": [
      "Bootstrap t-statistic: -2.312, p-value: 0.520\n"
     ]
    }
   ],
   "source": [
    "\n",
    "# Estimate the p-value using the bootstrapped differences\n",
    "p_value_bootstrap_corrected = (np.sum(np.abs(bootstrapped_diffs_corrected) >= np.abs(observed_diff_corrected)) / len(bootstrapped_diffs_corrected))\n",
    "\n",
    "print(f'Bootstrap t-statistic: {t_stat_bootstrap_corrected:.3f}, p-value: {p_value_bootstrap_corrected:.3f}')\n"
   ]
  },
  {
   "cell_type": "markdown",
   "metadata": {},
   "source": [
    "<a id=\"link5\"></a>\n",
    "### 🧾 Bootstrap Test Result\n",
    "\n",
    "- **Bootstrap t-statistic:** -2.554  \n",
    "- **Bootstrap p-value:** 0.520  \n",
    "\n",
    "---\n",
    "\n",
    "#### ✅ Conclusion\n",
    "Since the bootstrap p-value ($0.520$) is **much larger** than common significance levels (0.10, 0.05, 0.01), we **cannot reject the null hypothesis**.  \n",
    "This means the data do not provide sufficient evidence to conclude that the two groups have different means.\n",
    "\n",
    "---\n",
    "\n",
    "#### 💡 Interpretation\n",
    "- Although the **observed difference** looked somewhat large in magnitude, the bootstrap procedure shows that such differences are **fairly common** under repeated resampling.  \n",
    "- The large p-value reflects the high variability introduced by **small sample sizes** and **non-normal distributions**.  \n",
    "- In contrast to the classical t-test (which might suggest significance under some samples), the bootstrap provides a more **robust, assumption-free** perspective.  \n",
    "\n",
    "👉 Key takeaway: **Bootstrapping guards against misleading inferences** when classical test assumptions (normality, equal variances) do not hold.\n"
   ]
  },
  {
   "cell_type": "markdown",
   "metadata": {},
   "source": [
    "**Important Observation**:\n",
    "\n",
    "Note that we divide the number of instances in which the bootstrapped absolute differences are greater than or equal to the absolute observed difference by the number of bootstraps repetitions:\n",
    "\n",
    "* The logic behind this is to calculate the proportion of bootstrapped differences that are as extreme as, or more extreme than, the observed difference between the two samples. This proportion serves as an estimate of the p-value, which is a measure of the probability that the observed difference (or a more extreme difference) could occur by random chance if there were actually no difference between the populations from which the samples were drawn.\n",
    "\n",
    "* The division by the length of bootstrapped_diffs_corrected is crucial because it turns a raw count into a proportion, making it interpretable as a probability value. This is consistent with the definition of a p-value in hypothesis testing, which is a probability measure, not a count."
   ]
  },
  {
   "cell_type": "markdown",
   "metadata": {},
   "source": [
    "<a id=\"link8\"></a>\n",
    "## (8) 📊  The Empirical Distribution\n",
    "\n",
    "One of the strengths of **bootstrap methods** is that they generate an **empirical distribution** of the statistic of interest by repeatedly resampling the data *with replacement*.  \n",
    "\n",
    "- This distribution reflects the variability in the statistic under repeated sampling.  \n",
    "- It may or may not resemble a theoretical distribution like the **t-distribution**, especially when assumptions such as normality or equal variances are violated.  \n",
    "\n",
    "---\n",
    "\n",
    "### 🔍 Why visualize it?\n",
    "- Plotting the **bootstrap distribution of mean differences** gives us a clear picture of:  \n",
    "  - The **spread** (variability) of the statistic.  \n",
    "  - Whether the distribution looks **symmetric** or **skewed**.  \n",
    "  - How extreme the observed difference is compared to what the bootstrap suggests is typical.  \n",
    "\n",
    "---\n",
    "\n",
    "👉 By looking at the empirical distribution, we gain intuition about the **uncertainty** and **stability** of our inference, independent of parametric assumptions.\n"
   ]
  },
  {
   "cell_type": "code",
   "execution_count": 15,
   "metadata": {},
   "outputs": [
    {
     "data": {
      "image/png": "[encoded data removed]",
      "text/plain": [
       "<Figure size 800x500 with 1 Axes>"
      ]
     },
     "metadata": {},
     "output_type": "display_data"
    }
   ],
   "source": [
    "# Set the aesthetic style of the plots\n",
    "sns.set(style=\"whitegrid\")\n",
    "\n",
    "plt.figure(figsize=(8, 5))\n",
    "\n",
    "# Plot histogram with KDE\n",
    "sns.histplot(bootstrapped_diffs_corrected, bins=12, kde=True, edgecolor='k', color='skyblue', alpha=0.7,\n",
    "             line_kws={'color': 'black', 'linewidth': 2})\n",
    "plt.axvline(observed_diff_corrected, color='red', linestyle='dashed', linewidth=2)\n",
    "\n",
    "plt.title('Distribution of Bootstrapped Differences in Means')\n",
    "plt.xlabel('Difference in Means')\n",
    "plt.ylabel('Frequency')\n",
    "plt.legend([\"Observed Difference\", \"Bootstrapped Differences\"])\n",
    "plt.show()\n"
   ]
  },
  {
   "cell_type": "markdown",
   "metadata": {},
   "source": [
    "Finally, we can look at the descriptive statatistics of the bootstrapped differences."
   ]
  },
  {
   "cell_type": "code",
   "execution_count": 17,
   "metadata": {},
   "outputs": [],
   "source": [
    "from scipy.stats import skew"
   ]
  },
  {
   "cell_type": "code",
   "execution_count": 18,
   "metadata": {},
   "outputs": [
    {
     "name": "stdout",
     "output_type": "stream",
     "text": [
      "Mean: -0.7728620986680146\n",
      "Median: -0.7716459668133517\n",
      "Standard Deviation: 0.3294966013213194\n",
      "Min: -1.5669684902763676\n",
      "Max: -0.12395665317956417\n",
      "Range: 1.4430118370968035\n",
      "Skewness: -0.15750877626479196\n"
     ]
    }
   ],
   "source": [
    "\n",
    "bootstrapped_diffs = np.array(bootstrapped_diffs_corrected)  # Ensure it's a numpy array for convenience\n",
    "\n",
    "# Calculate basic descriptive statistics\n",
    "mean = np.mean(bootstrapped_diffs)\n",
    "median = np.median(bootstrapped_diffs)\n",
    "std_dev = np.std(bootstrapped_diffs, ddof=1)  # ddof=1 for sample standard deviation\n",
    "min_value = np.min(bootstrapped_diffs)\n",
    "max_value = np.max(bootstrapped_diffs)\n",
    "range_of_values = max_value - min_value\n",
    "\n",
    "# Calculate skewness\n",
    "skewness = skew(bootstrapped_diffs)\n",
    "\n",
    "# Print the statistics\n",
    "print(f'Mean: {mean}')\n",
    "print(f'Median: {median}')\n",
    "print(f'Standard Deviation: {std_dev}')\n",
    "print(f'Min: {min_value}')\n",
    "print(f'Max: {max_value}')\n",
    "print(f'Range: {range_of_values}')\n",
    "print(f'Skewness: {skewness}')\n"
   ]
  }
 ],
 "metadata": {
  "kernelspec": {
   "display_name": "Python (dev-env)",
   "language": "python",
   "name": "dev-env"
  },
  "language_info": {
   "codemirror_mode": {
    "name": "ipython",
    "version": 3
   },
   "file_extension": ".py",
   "mimetype": "text/x-python",
   "name": "python",
   "nbconvert_exporter": "python",
   "pygments_lexer": "ipython3",
   "version": "3.13.3"
  }
 },
 "nbformat": 4,
 "nbformat_minor": 2
}
