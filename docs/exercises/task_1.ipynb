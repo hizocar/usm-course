{
 "cells": [
  {
   "cell_type": "markdown",
   "id": "736f58c2",
   "metadata": {},
   "source": [
    "# Task 1: Proportions, Confidence Intervals, and Mean/Proportion Differences\n",
    "\n",
    "**Audience:** Undergraduate or early graduate students practicing inferential statistics with Python.  \n",
    "**Libraries:** `numpy`, `scipy.stats`, `matplotlib.pyplot` (no seaborn).  \n",
    "**Theme:** Hands-on exercises using generated data so results are reproducible.\n",
    "\n",
    "> Tip: Run cells in order. Cells marked with **🧪 Exercise** include TODOs for you to complete."
   ]
  },
  {
   "cell_type": "code",
   "execution_count": null,
   "id": "f9a0fd3f",
   "metadata": {},
   "outputs": [],
   "source": [
    "# Setup\n",
    "import numpy as np\n",
    "import matplotlib.pyplot as plt\n",
    "from scipy import stats\n",
    "\n",
    "np.random.seed(42)  # for reproducibility\n",
    "\n",
    "# Helper: pretty print function\n",
    "def print_ci(label, low, high, conf=0.95):\n",
    "    print(f\"{label} {int(conf*100)}% CI: [{low:.4f}, {high:.4f}]\")\n",
    "\n",
    "# Helper: two-proportion z-test (manual implementation using normal approximation)\n",
    "def two_proportion_ztest(x1, n1, x2, n2, alternative=\"two-sided\"):\n",
    "    \"\"\"\n",
    "    Returns (z_stat, p_value) for H0: p1 == p2 using pooled proportion.\n",
    "    alternative in {\"two-sided\", \"larger\", \"smaller\"} tests p1 vs p2.\n",
    "    \"\"\"\n",
    "    p1_hat = x1 / n1\n",
    "    p2_hat = x2 / n2\n",
    "    p_pool = (x1 + x2) / (n1 + n2)\n",
    "    se = np.sqrt(p_pool * (1 - p_pool) * (1/n1 + 1/n2))\n",
    "    if se == 0:\n",
    "        return np.nan, np.nan\n",
    "    z = (p1_hat - p2_hat) / se\n",
    "    if alternative == \"two-sided\":\n",
    "        p = 2 * (1 - stats.norm.cdf(abs(z)))\n",
    "    elif alternative == \"larger\":\n",
    "        p = 1 - stats.norm.cdf(z)\n",
    "    elif alternative == \"smaller\":\n",
    "        p = stats.norm.cdf(z)\n",
    "    else:\n",
    "        raise ValueError(\"alternative must be 'two-sided', 'larger', or 'smaller'\")\n",
    "    return z, p\n"
   ]
  },
  {
   "cell_type": "markdown",
   "id": "b4538d43",
   "metadata": {},
   "source": [
    "## 1) One-Sample Proportion Test and Confidence Interval\n",
    "\n",
    "We'll simulate a Bernoulli process (e.g., **email click-through**: success = clicked).  \n",
    "Suppose the true click rate is `p = 0.18`. We take a sample of size `n = 400`."
   ]
  },
  {
   "cell_type": "code",
   "execution_count": null,
   "id": "d2c8300a",
   "metadata": {},
   "outputs": [],
   "source": [
    "# Generate Bernoulli data\n",
    "p_true = 0.18\n",
    "n = 400\n",
    "data = stats.bernoulli.rvs(p_true, size=n)\n",
    "x = data.sum()\n",
    "phat = x / n\n",
    "\n",
    "print(f\"Sample size n = {n}, successes x = {x}, sample proportion = {phat:.4f}\")\n"
   ]
  },
  {
   "cell_type": "code",
   "execution_count": null,
   "id": "9bf5a9ac",
   "metadata": {},
   "outputs": [],
   "source": [
    "# Hypothesis test: H0: p = 0.20 vs H1: p != 0.20 using exact binomial test\n",
    "res = stats.binomtest(k=x, n=n, p=0.20, alternative='two-sided')\n",
    "print(\"Exact binomial test against p0 = 0.20\")\n",
    "print(f\"p-value = {res.pvalue:.6f}\")\n",
    "# Exact Clopper-Pearson CI via SciPy (equal-tailed)\n",
    "ci_low, ci_high = res.proportion_ci(confidence_level=0.95, method=\"exact\")\n",
    "print_ci(\"Exact (Clopper-Pearson)\", ci_low, ci_high)\n"
   ]
  },
  {
   "cell_type": "code",
   "execution_count": null,
   "id": "60ecd6d7",
   "metadata": {},
   "outputs": [],
   "source": [
    "# Normal-approx (Wald) CI with continuity correction OFF (for teaching/contrast)\n",
    "z = stats.norm.ppf(0.975)\n",
    "se = np.sqrt(phat*(1-phat)/n)\n",
    "wald_low = phat - z*se\n",
    "wald_high = phat + z*se\n",
    "print_ci(\"Normal approx (Wald)\", wald_low, wald_high)\n"
   ]
  },
  {
   "cell_type": "markdown",
   "id": "b6daab12",
   "metadata": {},
   "source": [
    "### Visual: Proportion with 95% CI\n",
    "\n",
    "We'll plot the point estimate with its 95% CI. (One figure only.)"
   ]
  },
  {
   "cell_type": "code",
   "execution_count": null,
   "id": "38948828",
   "metadata": {},
   "outputs": [],
   "source": [
    "# Plot: point estimate with error bar\n",
    "plt.figure()\n",
    "center = phat\n",
    "err = (wald_high - wald_low)/2\n",
    "plt.errorbar([0], [center], yerr=[err], fmt='o', capsize=8)\n",
    "plt.xticks([0], [\"Proportion\"])\n",
    "plt.title(\"Sample Proportion with 95% CI (Normal Approx)\")\n",
    "plt.ylabel(\"Proportion\")\n",
    "plt.ylim(0, 1)\n",
    "plt.show()\n"
   ]
  },
  {
   "cell_type": "markdown",
   "id": "02ebbeb7",
   "metadata": {},
   "source": [
    "**🧪 Exercise 1.1 — Change the null and re-test**  \n",
    "Using the **exact** binomial test above, test `H0: p = 0.15` (two-sided).  \n",
    "- Report the p-value.  \n",
    "- Compute the 90% exact CI and compare its width to the 95% CI."
   ]
  },
  {
   "cell_type": "code",
   "execution_count": null,
   "id": "b246ad03",
   "metadata": {},
   "outputs": [],
   "source": [
    "# TODO: Implement the test and CI requested in Exercise 1.1\n",
    "# Hints:\n",
    "# - Use stats.binomtest with p=0.15\n",
    "# - Use .proportion_ci(confidence_level=0.90, method=\"exact\")\n",
    "# Your code below:\n"
   ]
  },
  {
   "cell_type": "markdown",
   "id": "906d50fa",
   "metadata": {},
   "source": [
    "## 2) Difference of Means (Two Independent Samples)\n",
    "\n",
    "Imagine two versions of a landing page (A and B) produce **time-on-page** (in seconds).  \n",
    "We assume approximately normal distributions with possibly different variances."
   ]
  },
  {
   "cell_type": "code",
   "execution_count": null,
   "id": "d4968741",
   "metadata": {},
   "outputs": [],
   "source": [
    "# Generate two samples with slightly different means\n",
    "nA, nB = 120, 140\n",
    "muA, muB = 60, 65\n",
    "sdA, sdB = 12, 16\n",
    "\n",
    "A = np.random.normal(muA, sdA, size=nA)\n",
    "B = np.random.normal(muB, sdB, size=nB)\n",
    "\n",
    "print(f\"Group A: n={nA}, mean={A.mean():.2f}, std={A.std(ddof=1):.2f}\")\n",
    "print(f\"Group B: n={nB}, mean={B.mean():.2f}, std={B.std(ddof=1):.2f}\")\n"
   ]
  },
  {
   "cell_type": "code",
   "execution_count": null,
   "id": "cde7cb8d",
   "metadata": {},
   "outputs": [],
   "source": [
    "# Welch's t-test (does not assume equal variances)\n",
    "t_stat, p_val = stats.ttest_ind(A, B, equal_var=False)\n",
    "print(\"Welch's two-sample t-test (H0: mu_A == mu_B)\")\n",
    "print(f\"t = {t_stat:.4f}, p-value = {p_val:.6f}\")\n"
   ]
  },
  {
   "cell_type": "markdown",
   "id": "b7e05564",
   "metadata": {},
   "source": [
    "### Visual: Sample Distributions"
   ]
  },
  {
   "cell_type": "code",
   "execution_count": null,
   "id": "b3e66eed",
   "metadata": {},
   "outputs": [],
   "source": [
    "# Plot histograms for A and B (each chart in its own figure)\n",
    "plt.figure()\n",
    "plt.hist(A, bins=20, alpha=0.7)\n",
    "plt.title(\"Group A: Time on Page (seconds)\")\n",
    "plt.xlabel(\"Seconds\"); plt.ylabel(\"Frequency\")\n",
    "plt.show()\n",
    "\n",
    "plt.figure()\n",
    "plt.hist(B, bins=20, alpha=0.7)\n",
    "plt.title(\"Group B: Time on Page (seconds)\")\n",
    "plt.xlabel(\"Seconds\"); plt.ylabel(\"Frequency\")\n",
    "plt.show()\n"
   ]
  },
  {
   "cell_type": "markdown",
   "id": "867f18d6",
   "metadata": {},
   "source": [
    "**🧪 Exercise 2.1 — Equal-variance t-test and CI**  \n",
    "1. Run the equal-variance (pooled) two-sample t-test on `A` and `B`.  \n",
    "2. Construct a 95% CI for the difference in means `mu_A - mu_B` under the equal-variance assumption."
   ]
  },
  {
   "cell_type": "code",
   "execution_count": null,
   "id": "b0ee9375",
   "metadata": {},
   "outputs": [],
   "source": [
    "# TODO: Implement Exercise 2.1\n",
    "# Hints:\n",
    "# - Use stats.ttest_ind(A, B, equal_var=True)\n",
    "# - For CI, compute pooled variance Sp^2, standard error for difference, and use t critical value.\n",
    "# Your code below:\n"
   ]
  },
  {
   "cell_type": "markdown",
   "id": "1c4567bd",
   "metadata": {},
   "source": [
    "## 3) Difference of Proportions (Two Samples)\n",
    "\n",
    "Suppose we A/B test a signup flow.  \n",
    "- In Group A, n1 users see the original flow, with x1 signups.  \n",
    "- In Group B, n2 users see the new flow, with x2 signups.\n",
    "\n",
    "We'll test H0: p1 = p2 using the pooled z-test."
   ]
  },
  {
   "cell_type": "code",
   "execution_count": null,
   "id": "32d38bbc",
   "metadata": {},
   "outputs": [],
   "source": [
    "# Simulate two independent binomial samples\n",
    "n1, n2 = 600, 650\n",
    "p1_true, p2_true = 0.22, 0.27\n",
    "x1 = stats.binom.rvs(n1, p1_true)\n",
    "x2 = stats.binom.rvs(n2, p2_true)\n",
    "p1_hat, p2_hat = x1/n1, x2/n2\n",
    "\n",
    "print(f\"Group A: x1={x1}, n1={n1}, p1_hat={p1_hat:.4f}\")\n",
    "print(f\"Group B: x2={x2}, n2={n2}, p2_hat={p2_hat:.4f}\")\n",
    "z, p = two_proportion_ztest(x1, n1, x2, n2, alternative=\"two-sided\")\n",
    "print(f\"Two-proportion z-test: z={z:.4f}, p-value={p:.6f}\")\n"
   ]
  },
  {
   "cell_type": "markdown",
   "id": "cb40514c",
   "metadata": {},
   "source": [
    "### Visual: Proportions with 95% CIs\n",
    "\n",
    "We'll show both sample proportions with normal-approximation 95% CIs side by side."
   ]
  },
  {
   "cell_type": "code",
   "execution_count": null,
   "id": "e84fca4e",
   "metadata": {},
   "outputs": [],
   "source": [
    "# Compute Wald CIs for each proportion\n",
    "zcrit = stats.norm.ppf(0.975)\n",
    "se1 = np.sqrt(p1_hat*(1-p1_hat)/n1)\n",
    "se2 = np.sqrt(p2_hat*(1-p2_hat)/n2)\n",
    "ci1 = (p1_hat - zcrit*se1, p1_hat + zcrit*se1)\n",
    "ci2 = (p2_hat - zcrit*se2, p2_hat + zcrit*se2)\n",
    "\n",
    "# Plot with error bars\n",
    "plt.figure()\n",
    "centers = [p1_hat, p2_hat]\n",
    "errs = [(ci1[1]-ci1[0])/2, (ci2[1]-ci2[0])/2]\n",
    "plt.errorbar([0,1], centers, yerr=errs, fmt='o', capsize=8)\n",
    "plt.xticks([0,1], [\"Group A\", \"Group B\"])\n",
    "plt.title(\"Sample Proportions with 95% Wald CIs\")\n",
    "plt.ylabel(\"Proportion\")\n",
    "plt.ylim(0,1)\n",
    "plt.show()\n"
   ]
  },
  {
   "cell_type": "markdown",
   "id": "3f8d6900",
   "metadata": {},
   "source": [
    "**🧪 Exercise 3.1 — One-sided test**  \n",
    "Test `H1: p2 > p1` (i.e., the new flow increases signup rate).  \n",
    "- Compute the one-sided p-value using the helper function.  \n",
    "- Interpret the result at α = 0.05."
   ]
  },
  {
   "cell_type": "code",
   "execution_count": null,
   "id": "dc1e2198",
   "metadata": {},
   "outputs": [],
   "source": [
    "# TODO: Implement Exercise 3.1\n",
    "# Hint: two_proportion_ztest(..., alternative=\"larger\") tests p1 > p2.\n",
    "# To test p2 > p1, you can swap inputs or adapt the logic.\n",
    "# Your code below:\n"
   ]
  },
  {
   "cell_type": "markdown",
   "id": "f90f4eae",
   "metadata": {},
   "source": [
    "## 4) Practice: Generate Your Own Data\n",
    "\n",
    "Create your own synthetic datasets and redo all analyses. Suggestions:\n",
    "\n",
    "1. Proportions: Choose p and n, generate Bernoulli data.  \n",
    "   - Test H0: p = p0 with stats.binomtest (two-sided and one-sided).  \n",
    "   - Build 90%, 95%, and 99% exact CIs and compare widths.  \n",
    "   - Visualize the point estimate with CI.\n",
    "\n",
    "2. Difference of Means: Generate two normal samples with your chosen means/SDs.  \n",
    "   - Run Welch's and equal-variance t-tests.  \n",
    "   - Construct CIs for mu1 - mu2 under both assumptions.  \n",
    "   - Visualize each group with a histogram.\n",
    "\n",
    "3. Difference of Proportions: Choose n1, n2, p1, p2; generate binomial counts.  \n",
    "   - Run the two-proportion z-test (two-sided and one-sided).  \n",
    "   - Plot both sample proportions with 95% CIs."
   ]
  },
  {
   "cell_type": "code",
   "execution_count": null,
   "id": "e1384a5d",
   "metadata": {},
   "outputs": [],
   "source": [
    "# 🧪 Exercise 4.1 — Your custom proportions experiment\n",
    "# TODO: Set p, n, generate data, run tests and CIs, and plot.\n",
    "# Your code below:\n"
   ]
  },
  {
   "cell_type": "code",
   "execution_count": null,
   "id": "38165823",
   "metadata": {},
   "outputs": [],
   "source": [
    "# 🧪 Exercise 4.2 — Your custom two-mean experiment\n",
    "# TODO: Generate two normal samples, test equality of means with both methods, compute CIs, plot histograms.\n",
    "# Your code below:\n"
   ]
  },
  {
   "cell_type": "code",
   "execution_count": null,
   "id": "39ba5955",
   "metadata": {},
   "outputs": [],
   "source": [
    "# 🧪 Exercise 4.3 — Your custom two-proportion experiment\n",
    "# TODO: Choose n1, n2, p1, p2; generate counts; run z-tests (two-sided and one-sided); plot CIs.\n",
    "# Your code below:\n"
   ]
  },
  {
   "cell_type": "markdown",
   "id": "0c9de69d",
   "metadata": {},
   "source": [
    "### ⭐ Stretch Goals\n",
    "- Compare exact CI (Clopper–Pearson) vs normal approximation CI for small and large n.  \n",
    "- Explore how CI width changes with n; make a plot of CI width vs n at fixed p.  \n",
    "- Bootstrap the difference of means and compare the bootstrap CI to the t-based CI."
   ]
  }
 ],
 "metadata": {
  "language_info": {
   "name": "python"
  }
 },
 "nbformat": 4,
 "nbformat_minor": 5
}
