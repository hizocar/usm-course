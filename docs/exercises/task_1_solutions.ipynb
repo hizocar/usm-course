{
 "cells": [
  {
   "cell_type": "markdown",
   "id": "57def96a",
   "metadata": {},
   "source": [
    "# SciPy Practice — **Instructor Solutions**\n",
    "\n",
    "This notebook provides complete worked solutions (code + explanations) for the companion student exercises covering one-sample proportion tests, confidence intervals for proportions, two-sample mean tests (Welch and pooled), and two-proportion z-tests — all using **SciPy** and **matplotlib** only.\n",
    "\n",
    "**Conventions:**\n",
    "- Random seeds fixed for reproducibility.\n",
    "- Each chart in its own figure; no seaborn or custom color schemes.\n",
    "- Where helpful, we show both *exact* and *approximate* methods.\n"
   ]
  },
  {
   "cell_type": "code",
   "execution_count": null,
   "id": "e705e01a",
   "metadata": {},
   "outputs": [],
   "source": [
    "# Setup\n",
    "import numpy as np\n",
    "import matplotlib.pyplot as plt\n",
    "from scipy import stats\n",
    "\n",
    "np.random.seed(42)  # reproducibility\n",
    "\n",
    "def print_ci(label, low, high, conf=0.95):\n",
    "    print(f\"{label} {int(conf*100)}% CI: [{low:.4f}, {high:.4f}]\")\n",
    "\n",
    "def two_proportion_ztest(x1, n1, x2, n2, alternative=\"two-sided\"):\n",
    "    \"\"\"Pooled two-proportion z-test for H0: p1 == p2.\n",
    "    alternative in {\"two-sided\", \"larger\", \"smaller\"} refers to (p1 - p2).\n",
    "    Returns (z, p).\n",
    "    \"\"\"\n",
    "    p1_hat = x1 / n1\n",
    "    p2_hat = x2 / n2\n",
    "    p_pool = (x1 + x2) / (n1 + n2)\n",
    "    se = np.sqrt(p_pool * (1 - p_pool) * (1/n1 + 1/n2))\n",
    "    if se == 0:\n",
    "        return np.nan, np.nan\n",
    "    z = (p1_hat - p2_hat) / se\n",
    "    if alternative == \"two-sided\":\n",
    "        p = 2 * (1 - stats.norm.cdf(abs(z)))\n",
    "    elif alternative == \"larger\":\n",
    "        p = 1 - stats.norm.cdf(z)\n",
    "    elif alternative == \"smaller\":\n",
    "        p = stats.norm.cdf(z)\n",
    "    else:\n",
    "        raise ValueError(\"alternative must be 'two-sided', 'larger', or 'smaller'\")\n",
    "    return z, p\n"
   ]
  },
  {
   "cell_type": "markdown",
   "id": "ffdf7484",
   "metadata": {},
   "source": [
    "## 1) One-Sample Proportion — Test and Confidence Intervals (with Plot)\n",
    "\n",
    "**Scenario:** Bernoulli process (e.g., email click-through). True `p=0.18`, sample `n=400`.\n"
   ]
  },
  {
   "cell_type": "code",
   "execution_count": null,
   "id": "dd9699a2",
   "metadata": {},
   "outputs": [],
   "source": [
    "# Data generation\n",
    "p_true = 0.18\n",
    "n = 400\n",
    "data = stats.bernoulli.rvs(p_true, size=n)\n",
    "x = data.sum()\n",
    "phat = x / n\n",
    "print(f\"n={n}, x={x}, phat={phat:.4f}\")\n"
   ]
  },
  {
   "cell_type": "markdown",
   "id": "3fe4d4cc",
   "metadata": {},
   "source": [
    "### H0: p = 0.20 vs H1: p ≠ 0.20 (Exact Binomial)\n",
    "Use `stats.binomtest` and the exact Clopper–Pearson CI."
   ]
  },
  {
   "cell_type": "code",
   "execution_count": null,
   "id": "94407b04",
   "metadata": {},
   "outputs": [],
   "source": [
    "res = stats.binomtest(k=x, n=n, p=0.20, alternative='two-sided')\n",
    "print(\"Exact binomial test (p0=0.20): p-value =\", f\"{res.pvalue:.6f}\")\n",
    "ci_low95, ci_high95 = res.proportion_ci(confidence_level=0.95, method=\"exact\")\n",
    "print_ci(\"Exact (Clopper-Pearson)\", ci_low95, ci_high95, conf=0.95)\n"
   ]
  },
  {
   "cell_type": "markdown",
   "id": "cdaeca74",
   "metadata": {},
   "source": [
    "### Normal Approximation (Wald) 95% CI\n",
    "Shown for comparison/teaching purposes."
   ]
  },
  {
   "cell_type": "code",
   "execution_count": null,
   "id": "b36a5e84",
   "metadata": {},
   "outputs": [],
   "source": [
    "z975 = stats.norm.ppf(0.975)\n",
    "se = np.sqrt(phat*(1-phat)/n)\n",
    "wald_low = phat - z975*se\n",
    "wald_high = phat + z975*se\n",
    "print_ci(\"Normal approx (Wald)\", wald_low, wald_high)\n"
   ]
  },
  {
   "cell_type": "markdown",
   "id": "3ef6a556",
   "metadata": {},
   "source": [
    "### Plot: Proportion with 95% CI (Wald)"
   ]
  },
  {
   "cell_type": "code",
   "execution_count": null,
   "id": "7b28371e",
   "metadata": {},
   "outputs": [],
   "source": [
    "plt.figure()\n",
    "center = phat\n",
    "err = (wald_high - wald_low)/2\n",
    "plt.errorbar([0], [center], yerr=[err], fmt='o', capsize=8)\n",
    "plt.xticks([0], [\"Proportion\"])\n",
    "plt.title(\"Sample Proportion with 95% CI (Normal Approx)\")\n",
    "plt.ylabel(\"Proportion\")\n",
    "plt.ylim(0,1)\n",
    "plt.show()\n"
   ]
  },
  {
   "cell_type": "markdown",
   "id": "dc373bd6",
   "metadata": {},
   "source": [
    "### **Exercise 1.1 Solution** — Change the null and re-test\n",
    "Test `H0: p = 0.15` (two-sided). Also compute the **90% exact CI** and compare to the 95% CI."
   ]
  },
  {
   "cell_type": "code",
   "execution_count": null,
   "id": "c736a24d",
   "metadata": {},
   "outputs": [],
   "source": [
    "res15 = stats.binomtest(k=x, n=n, p=0.15, alternative='two-sided')\n",
    "print(\"Exact binomial test (p0=0.15): p-value =\", f\"{res15.pvalue:.6f}\")\n",
    "ci_low90, ci_high90 = res15.proportion_ci(confidence_level=0.90, method=\"exact\")\n",
    "print_ci(\"Exact (Clopper-Pearson) 90%\", ci_low90, ci_high90, conf=0.90)\n",
    "print(\"\\nObservation: The 90% CI is narrower than the 95% CI, as expected.\")\n"
   ]
  },
  {
   "cell_type": "markdown",
   "id": "d6c7c663",
   "metadata": {},
   "source": [
    "## 2) Two Independent Means — Welch and Equal-Variance (with Plots)\n",
    "\n",
    "**Scenario:** Time-on-page (seconds) for two landing pages A and B. We generate normal samples with slightly different means and SDs."
   ]
  },
  {
   "cell_type": "code",
   "execution_count": null,
   "id": "3bfb769e",
   "metadata": {},
   "outputs": [],
   "source": [
    "# Generate data\n",
    "nA, nB = 120, 140\n",
    "muA, muB = 60, 65\n",
    "sdA, sdB = 12, 16\n",
    "A = np.random.normal(muA, sdA, size=nA)\n",
    "B = np.random.normal(muB, sdB, size=nB)\n",
    "print(f\"A: n={nA}, mean={A.mean():.3f}, sd={A.std(ddof=1):.3f}\")\n",
    "print(f\"B: n={nB}, mean={B.mean():.3f}, sd={B.std(ddof=1):.3f}\")\n"
   ]
  },
  {
   "cell_type": "markdown",
   "id": "88efc94f",
   "metadata": {},
   "source": [
    "### Welch's t-test (no equal-variance assumption)"
   ]
  },
  {
   "cell_type": "code",
   "execution_count": null,
   "id": "89621efb",
   "metadata": {},
   "outputs": [],
   "source": [
    "t_welch, p_welch = stats.ttest_ind(A, B, equal_var=False)\n",
    "print(f\"Welch t = {t_welch:.4f}, p-value = {p_welch:.6f}\")\n"
   ]
  },
  {
   "cell_type": "markdown",
   "id": "93c8fa8b",
   "metadata": {},
   "source": [
    "### Plots: Histograms (one figure per chart)"
   ]
  },
  {
   "cell_type": "code",
   "execution_count": null,
   "id": "0c5372fd",
   "metadata": {},
   "outputs": [],
   "source": [
    "plt.figure()\n",
    "plt.hist(A, bins=20, alpha=0.7)\n",
    "plt.title(\"Group A: Time on Page (seconds)\")\n",
    "plt.xlabel(\"Seconds\"); plt.ylabel(\"Frequency\")\n",
    "plt.show()\n",
    "\n",
    "plt.figure()\n",
    "plt.hist(B, bins=20, alpha=0.7)\n",
    "plt.title(\"Group B: Time on Page (seconds)\")\n",
    "plt.xlabel(\"Seconds\"); plt.ylabel(\"Frequency\")\n",
    "plt.show()\n"
   ]
  },
  {
   "cell_type": "markdown",
   "id": "f978c01f",
   "metadata": {},
   "source": [
    "### **Exercise 2.1 Solution** — Equal-variance t-test and 95% CI for μ_A − μ_B\n",
    "\n",
    "We compute the pooled variance, the standard error of the difference, the t critical value, and the CI."
   ]
  },
  {
   "cell_type": "code",
   "execution_count": null,
   "id": "697b5de3",
   "metadata": {},
   "outputs": [],
   "source": [
    "# Equal-variance t-test\n",
    "t_pooled, p_pooled = stats.ttest_ind(A, B, equal_var=True)\n",
    "print(f\"Pooled t-test: t = {t_pooled:.4f}, p-value = {p_pooled:.6f}\")\n",
    "\n",
    "# 95% CI for (mu_A - mu_B) under equal variances\n",
    "meanA, meanB = A.mean(), B.mean()\n",
    "s2A, s2B = A.var(ddof=1), B.var(ddof=1)\n",
    "df = nA + nB - 2\n",
    "Sp2 = ((nA-1)*s2A + (nB-1)*s2B) / df\n",
    "SE_diff = np.sqrt(Sp2 * (1/nA + 1/nB))\n",
    "tcrit = stats.t.ppf(0.975, df)\n",
    "diff = meanA - meanB\n",
    "ci_low = diff - tcrit*SE_diff\n",
    "ci_high = diff + tcrit*SE_diff\n",
    "print(f\"Mean difference (A - B) = {diff:.3f}\")\n",
    "print_ci(\"Pooled t-based\", ci_low, ci_high)\n"
   ]
  },
  {
   "cell_type": "markdown",
   "id": "3013fa6f",
   "metadata": {},
   "source": [
    "## 3) Two Proportions — Pooled z-test (with Plot)\n",
    "\n",
    "**Scenario:** A/B test of a signup flow. We simulate counts for groups A and B and test `H0: p1 = p2`."
   ]
  },
  {
   "cell_type": "code",
   "execution_count": null,
   "id": "885f5d4a",
   "metadata": {},
   "outputs": [],
   "source": [
    "n1, n2 = 600, 650\n",
    "p1_true, p2_true = 0.22, 0.27\n",
    "x1 = stats.binom.rvs(n1, p1_true)\n",
    "x2 = stats.binom.rvs(n2, p2_true)\n",
    "p1_hat, p2_hat = x1/n1, x2/n2\n",
    "print(f\"A: x1={x1}, n1={n1}, p1_hat={p1_hat:.4f}\")\n",
    "print(f\"B: x2={x2}, n2={n2}, p2_hat={p2_hat:.4f}\")\n",
    "z2s, p2s = two_proportion_ztest(x1, n1, x2, n2, alternative=\"two-sided\")\n",
    "print(f\"Two-sided z = {z2s:.4f}, p-value = {p2s:.6f}\")\n"
   ]
  },
  {
   "cell_type": "markdown",
   "id": "0ea959ee",
   "metadata": {},
   "source": [
    "### Plot: Proportions with 95% Wald CIs"
   ]
  },
  {
   "cell_type": "code",
   "execution_count": null,
   "id": "71d5c976",
   "metadata": {},
   "outputs": [],
   "source": [
    "z975 = stats.norm.ppf(0.975)\n",
    "se1 = np.sqrt(p1_hat*(1-p1_hat)/n1)\n",
    "se2 = np.sqrt(p2_hat*(1-p2_hat)/n2)\n",
    "ci1 = (p1_hat - z975*se1, p1_hat + z975*se1)\n",
    "ci2 = (p2_hat - z975*se2, p2_hat + z975*se2)\n",
    "\n",
    "plt.figure()\n",
    "plt.errorbar([0,1], [p1_hat, p2_hat], yerr=[(ci1[1]-ci1[0])/2, (ci2[1]-ci2[0])/2], fmt='o', capsize=8)\n",
    "plt.xticks([0,1], [\"Group A\", \"Group B\"])\n",
    "plt.title(\"Sample Proportions with 95% Wald CIs\")\n",
    "plt.ylabel(\"Proportion\")\n",
    "plt.ylim(0,1)\n",
    "plt.show()\n"
   ]
  },
  {
   "cell_type": "markdown",
   "id": "5fb1f638",
   "metadata": {},
   "source": [
    "### **Exercise 3.1 Solution** — One-sided alternative `H1: p2 > p1`\n",
    "\n",
    "Because the helper treats the alternative with respect to `(p1 - p2)`, the test `H1: p2 > p1` equivalently becomes `H1: (p1 - p2) < 0`, which corresponds to `alternative='smaller'` when we call `two_proportion_ztest(x1, n1, x2, n2, alternative='smaller')`.\n"
   ]
  },
  {
   "cell_type": "code",
   "execution_count": null,
   "id": "8ea8e9f2",
   "metadata": {},
   "outputs": [],
   "source": [
    "z1s, p1s = two_proportion_ztest(x1, n1, x2, n2, alternative='smaller')\n",
    "print(f\"One-sided test H1: p2>p1  => z = {z1s:.4f}, one-sided p-value = {p1s:.6f}\")\n",
    "if p1s < 0.05:\n",
    "    print(\"Reject H0 at alpha = 0.05: evidence that p2 > p1.\")\n",
    "else:\n",
    "    print(\"Fail to reject H0 at alpha = 0.05: insufficient evidence that p2 > p1.\")\n"
   ]
  },
  {
   "cell_type": "markdown",
   "id": "2af5ee37",
   "metadata": {},
   "source": [
    "## 4) Practice — Instructor Exemplars\n",
    "\n",
    "Below are example solutions for the open-ended practice prompts. Feel free to change parameters to explore behavior.\n"
   ]
  },
  {
   "cell_type": "markdown",
   "id": "1d5ab0dc",
   "metadata": {},
   "source": [
    "### 4.1 Proportions — Custom Example"
   ]
  },
  {
   "cell_type": "code",
   "execution_count": null,
   "id": "6efdcbb9",
   "metadata": {},
   "outputs": [],
   "source": [
    "# Parameters (edit to explore)\n",
    "p_custom = 0.30\n",
    "n_custom = 250\n",
    "data_c = stats.bernoulli.rvs(p_custom, size=n_custom)\n",
    "x_c = data_c.sum()\n",
    "phat_c = x_c / n_custom\n",
    "print(f\"Custom: n={n_custom}, x={x_c}, phat={phat_c:.4f}\")\n",
    "\n",
    "# Test H0: p = 0.25 (two-sided and one-sided 'greater')\n",
    "res_ts = stats.binomtest(k=x_c, n=n_custom, p=0.25, alternative='two-sided')\n",
    "res_gr = stats.binomtest(k=x_c, n=n_custom, p=0.25, alternative='greater')\n",
    "print(\"Two-sided p-value:\", f\"{res_ts.pvalue:.6f}\")\n",
    "print(\"One-sided (p>0.25) p-value:\", f\"{res_gr.pvalue:.6f}\")\n",
    "ci90 = res_ts.proportion_ci(confidence_level=0.90, method='exact')\n",
    "ci95 = res_ts.proportion_ci(confidence_level=0.95, method='exact')\n",
    "ci99 = res_ts.proportion_ci(confidence_level=0.99, method='exact')\n",
    "print_ci(\"Exact 90%\", ci90.low, ci90.high, 0.90)\n",
    "print_ci(\"Exact 95%\", ci95.low, ci95.high, 0.95)\n",
    "print_ci(\"Exact 99%\", ci99.low, ci99.high, 0.99)\n",
    "\n",
    "# Plot point estimate with 95% Wald CI\n",
    "z975 = stats.norm.ppf(0.975)\n",
    "se_c = np.sqrt(phat_c*(1-phat_c)/n_custom)\n",
    "wald_low_c = phat_c - z975*se_c\n",
    "wald_high_c = phat_c + z975*se_c\n",
    "plt.figure()\n",
    "plt.errorbar([0], [phat_c], yerr=[(wald_high_c - wald_low_c)/2], fmt='o', capsize=8)\n",
    "plt.xticks([0], [\"Custom p-hat\"])\n",
    "plt.title(\"Custom Proportion with 95% Wald CI\")\n",
    "plt.ylabel(\"Proportion\")\n",
    "plt.ylim(0,1)\n",
    "plt.show()\n"
   ]
  },
  {
   "cell_type": "markdown",
   "id": "06acf21b",
   "metadata": {},
   "source": [
    "### 4.2 Two Means — Custom Example"
   ]
  },
  {
   "cell_type": "code",
   "execution_count": null,
   "id": "ef7c9bae",
   "metadata": {},
   "outputs": [],
   "source": [
    "# Parameters (edit to explore)\n",
    "n1m, n2m = 80, 110\n",
    "mu1m, mu2m = 50, 55\n",
    "sd1m, sd2m = 10, 14\n",
    "G1 = np.random.normal(mu1m, sd1m, size=n1m)\n",
    "G2 = np.random.normal(mu2m, sd2m, size=n2m)\n",
    "print(f\"G1: n={n1m}, mean={G1.mean():.2f}, sd={G1.std(ddof=1):.2f}\")\n",
    "print(f\"G2: n={n2m}, mean={G2.mean():.2f}, sd={G2.std(ddof=1):.2f}\")\n",
    "\n",
    "# Welch and pooled tests\n",
    "t_w, p_w = stats.ttest_ind(G1, G2, equal_var=False)\n",
    "t_p, p_p = stats.ttest_ind(G1, G2, equal_var=True)\n",
    "print(f\"Welch: t={t_w:.4f}, p={p_w:.6f}\")\n",
    "print(f\"Pooled: t={t_p:.4f}, p={p_p:.6f}\")\n",
    "\n",
    "# 95% pooled CI for (mu1 - mu2)\n",
    "s2_1, s2_2 = G1.var(ddof=1), G2.var(ddof=1)\n",
    "dfm = n1m + n2m - 2\n",
    "Sp2m = ((n1m-1)*s2_1 + (n2m-1)*s2_2) / dfm\n",
    "SEm = np.sqrt(Sp2m*(1/n1m + 1/n2m))\n",
    "tcritm = stats.t.ppf(0.975, dfm)\n",
    "diffm = G1.mean() - G2.mean()\n",
    "ciL, ciH = diffm - tcritm*SEm, diffm + tcritm*SEm\n",
    "print_ci(\"Pooled t-based 95%\", ciL, ciH)\n",
    "\n",
    "# Plots\n",
    "plt.figure()\n",
    "plt.hist(G1, bins=18, alpha=0.7)\n",
    "plt.title(\"G1 Distribution\")\n",
    "plt.xlabel(\"Value\"); plt.ylabel(\"Frequency\")\n",
    "plt.show()\n",
    "\n",
    "plt.figure()\n",
    "plt.hist(G2, bins=18, alpha=0.7)\n",
    "plt.title(\"G2 Distribution\")\n",
    "plt.xlabel(\"Value\"); plt.ylabel(\"Frequency\")\n",
    "plt.show()\n"
   ]
  },
  {
   "cell_type": "markdown",
   "id": "d61af23d",
   "metadata": {},
   "source": [
    "### 4.3 Two Proportions — Custom Example"
   ]
  },
  {
   "cell_type": "code",
   "execution_count": null,
   "id": "3ed685e3",
   "metadata": {},
   "outputs": [],
   "source": [
    "# Parameters (edit to explore)\n",
    "n1p, n2p = 500, 520\n",
    "pp1, pp2 = 0.18, 0.22\n",
    "xx1 = stats.binom.rvs(n1p, pp1)\n",
    "xx2 = stats.binom.rvs(n2p, pp2)\n",
    "ph1, ph2 = xx1/n1p, xx2/n2p\n",
    "print(f\"xx1={xx1}, n1p={n1p}, ph1={ph1:.4f}\")\n",
    "print(f\"xx2={xx2}, n2p={n2p}, ph2={ph2:.4f}\")\n",
    "\n",
    "# Two-sided and one-sided tests\n",
    "z_ts, p_ts = two_proportion_ztest(xx1, n1p, xx2, n2p, alternative='two-sided')\n",
    "z_gt, p_gt = two_proportion_ztest(xx1, n1p, xx2, n2p, alternative='smaller')  # H1: p2>p1\n",
    "print(f\"Two-sided: z={z_ts:.4f}, p={p_ts:.6f}\")\n",
    "print(f\"One-sided (p2>p1): z={z_gt:.4f}, p={p_gt:.6f}\")\n",
    "\n",
    "# Plot Wald CIs\n",
    "z975 = stats.norm.ppf(0.975)\n",
    "se_1 = np.sqrt(ph1*(1-ph1)/n1p)\n",
    "se_2 = np.sqrt(ph2*(1-ph2)/n2p)\n",
    "ci_1 = (ph1 - z975*se_1, ph1 + z975*se_1)\n",
    "ci_2 = (ph2 - z975*se_2, ph2 + z975*se_2)\n",
    "plt.figure()\n",
    "plt.errorbar([0,1], [ph1, ph2], yerr=[(ci_1[1]-ci_1[0])/2, (ci_2[1]-ci_2[0])/2], fmt='o', capsize=8)\n",
    "plt.xticks([0,1], [\"Group 1\", \"Group 2\"])\n",
    "plt.title(\"Two Proportions with 95% Wald CIs (Custom)\")\n",
    "plt.ylabel(\"Proportion\")\n",
    "plt.ylim(0,1)\n",
    "plt.show()\n"
   ]
  }
 ],
 "metadata": {
  "language_info": {
   "name": "python"
  }
 },
 "nbformat": 4,
 "nbformat_minor": 5
}
